{
 "cells": [
  {
   "cell_type": "code",
   "execution_count": 1,
   "metadata": {},
   "outputs": [],
   "source": [
    "from scipy.io import loadmat\n",
    "import pandas as pd \n",
    "import os"
   ]
  },
  {
   "cell_type": "code",
   "execution_count": 2,
   "metadata": {},
   "outputs": [],
   "source": [
    "file = loadmat('./Data_Preprocessed_P03.mat') #Load the user matlab file"
   ]
  },
  {
   "cell_type": "code",
   "execution_count": 3,
   "metadata": {},
   "outputs": [],
   "source": [
    "new_fpath = \"./User3/\"  # Folder for the user data to be saved\n",
    "user_no = 3  # data for the user"
   ]
  },
  {
   "cell_type": "code",
   "execution_count": 4,
   "metadata": {},
   "outputs": [
    {
     "name": "stdout",
     "output_type": "stream",
     "text": [
      "Folder Exists\n",
      "Folder Created\n"
     ]
    }
   ],
   "source": [
    "try:\n",
    "    os.mkdir(new_fpath) # create a folder in specied path for user videos\n",
    "    print(\"Folder Created\")\n",
    "except:\n",
    "    print(\"Folder Exists\")\n",
    "\n",
    "try:\n",
    "    os.mkdir(new_fpath+\"Label/\")  # create a folder in specied path for user labels\n",
    "    print(\"Folder Created\")\n",
    "except:\n",
    "    print(\"Folder Exists\")"
   ]
  },
  {
   "cell_type": "markdown",
   "metadata": {},
   "source": [
    "Save All user vidoes data into CSV file"
   ]
  },
  {
   "cell_type": "code",
   "execution_count": 5,
   "metadata": {},
   "outputs": [],
   "source": [
    "col_names = {0: \"AF3\", 1: \"F7\", 2: \"F3\", 3: \"FC5\", 4: \"T7\", 5: \"P7\",\n",
    "             6: \"O1\", 7: \"O2\", 8: \"P8\", 9: \"T8\", 10: \"FC6\", 11: \"F4\", 12: \"F8\", 13: \"AF4\", 14: \"ECG_Right\", 15: \"ECG_Left\", 16: \"GSR\"}"
   ]
  },
  {
   "cell_type": "code",
   "execution_count": 6,
   "metadata": {},
   "outputs": [],
   "source": [
    "def saveAllMatrix(file, new_fpath, userNo):\n",
    "    all_mat = file['joined_data'][0]\n",
    "    for i in range(20):\n",
    "        df = pd.DataFrame(data=all_mat[i])\n",
    "        df.rename(columns=col_names, inplace=True)\n",
    "        f_name = new_fpath+\"user\"+str(userNo)+\"_vid\" + str(i+1) + \".csv\"\n",
    "        df.to_csv(f_name, index=False)"
   ]
  },
  {
   "cell_type": "code",
   "execution_count": 7,
   "metadata": {},
   "outputs": [],
   "source": [
    "saveAllMatrix(file,new_fpath,user_no)"
   ]
  },
  {
   "cell_type": "markdown",
   "metadata": {},
   "source": [
    "Save All Lables into CSV files"
   ]
  },
  {
   "cell_type": "code",
   "execution_count": 8,
   "metadata": {},
   "outputs": [],
   "source": [
    "col_label = {0: \"Arousal\", 1: \"Valence\", 2: \"Dominance\", 3: \"Liking\", 4: \"Familiarity\", 5: \"Neutral\",\n",
    "             6: \"Disgust\", 7: \"Happiness\", 8: \"Surprise\", 9: \"Anger\", 10: \"Fear\", 11: \"Sadness\"}"
   ]
  },
  {
   "cell_type": "code",
   "execution_count": 9,
   "metadata": {},
   "outputs": [],
   "source": [
    "def saveAllLabels(file, new_fpath, userNo):\n",
    "    all_label = file['labels_selfassessment'][0]\n",
    "    for i in range(20):\n",
    "        df = pd.DataFrame(data=all_label[i])\n",
    "        df.rename(columns=col_label, inplace=True)\n",
    "        f_name = new_fpath + \"Label/user\" + str(userNo) + \"_selfAss\"+\"_vid\" + str(i+1) + \".csv\"\n",
    "        df.to_csv(f_name, index=False)"
   ]
  },
  {
   "cell_type": "code",
   "execution_count": 10,
   "metadata": {},
   "outputs": [],
   "source": [
    "saveAllLabels(file,new_fpath,user_no)"
   ]
  }
 ],
 "metadata": {
  "kernelspec": {
   "display_name": "Python 3",
   "language": "python",
   "name": "python3"
  },
  "language_info": {
   "codemirror_mode": {
    "name": "ipython",
    "version": 3
   },
   "file_extension": ".py",
   "mimetype": "text/x-python",
   "name": "python",
   "nbconvert_exporter": "python",
   "pygments_lexer": "ipython3",
   "version": "3.7.4"
  }
 },
 "nbformat": 4,
 "nbformat_minor": 2
}
