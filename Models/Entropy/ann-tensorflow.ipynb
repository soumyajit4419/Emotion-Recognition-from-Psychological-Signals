{
 "cells": [
  {
   "cell_type": "code",
   "execution_count": 1,
   "metadata": {
    "id": "ScHoIgpVSmnS",
    "outputId": "183f78d7-7dbe-434d-ace1-b2a8af3696fe"
   },
   "outputs": [],
   "source": [
    "import numpy as np\n",
    "import pandas as pd\n",
    "import sys\n",
    "import pickle"
   ]
  },
  {
   "cell_type": "code",
   "execution_count": 2,
   "metadata": {},
   "outputs": [
    {
     "name": "stderr",
     "output_type": "stream",
     "text": [
      "Using TensorFlow backend.\n"
     ]
    }
   ],
   "source": [
    "import keras \n",
    "from keras.models import Sequential \n",
    "from keras.layers import Dense \n",
    "from tensorflow.keras.wrappers.scikit_learn import KerasClassifier\n",
    "from sklearn.model_selection import cross_val_score\n",
    "import tensorflow as tf"
   ]
  },
  {
   "cell_type": "code",
   "execution_count": 3,
   "metadata": {},
   "outputs": [],
   "source": [
    "sys.path.append('.')\n",
    "sys.path.append('..')\n",
    "sys.path.append('/..')"
   ]
  },
  {
   "cell_type": "code",
   "execution_count": 4,
   "metadata": {
    "id": "nxDcyW_lKVYN"
   },
   "outputs": [],
   "source": [
    "import extract_vector as ev\n",
    "from sklearn.metrics import accuracy_score\n",
    "from sklearn.metrics import confusion_matrix\n",
    "from sklearn.metrics import classification_report"
   ]
  },
  {
   "cell_type": "code",
   "execution_count": 5,
   "metadata": {
    "id": "mqgAo_DBKmsm"
   },
   "outputs": [],
   "source": [
    "def clean_train_data(train_data, train_label):\n",
    "    n = train_data.shape[0]\n",
    "    m = train_data.shape[1]\n",
    "    nan_ll = []\n",
    "    for i in range(n):\n",
    "        if(np.isnan(np.sum(train_data[i:i+1, :]))):\n",
    "            nan_ll.append(i)\n",
    "\n",
    "    train_data = np.delete(train_data, nan_ll, 0)\n",
    "    train_label = np.delete(train_label, nan_ll, 0)\n",
    "    return train_data, train_label\n",
    "\n",
    "def get_train_labels(train_label):\n",
    "    for i in train_label:\n",
    "        if(i[0] > 4.5):\n",
    "            i[0] = 1\n",
    "        else:\n",
    "            i[0] = 0\n",
    "\n",
    "        if(i[1] > 4.5):\n",
    "            i[1] = 1\n",
    "        else:\n",
    "            i[1] = 0\n",
    "            \n",
    "        if(i[2] > 4.5):\n",
    "            i[2] = 1\n",
    "        else:\n",
    "            i[2] = 0\n",
    "            \n",
    "        if(i[3] > 4.5):\n",
    "            i[3] = 1\n",
    "        else:\n",
    "            i[3] = 0\n",
    "    return train_label"
   ]
  },
  {
   "cell_type": "markdown",
   "metadata": {
    "id": "7w7AiqRDJypc"
   },
   "source": [
    "## Wavelet Entropy\n"
   ]
  },
  {
   "cell_type": "markdown",
   "metadata": {
    "id": "nLzEpGkuKvQa"
   },
   "source": [
    "### Arousal Model\n"
   ]
  },
  {
   "cell_type": "code",
   "execution_count": 6,
   "metadata": {},
   "outputs": [],
   "source": [
    "data = pickle.load(open('../../Dataset/EntropyCompleteDataset/'+ 'WaveletData.pkl', 'rb'))"
   ]
  },
  {
   "cell_type": "code",
   "execution_count": 7,
   "metadata": {},
   "outputs": [],
   "source": [
    "label= pickle.load(open('../../Dataset/UserLabels.pkl', 'rb'))"
   ]
  },
  {
   "cell_type": "code",
   "execution_count": 8,
   "metadata": {},
   "outputs": [],
   "source": [
    "train_data = data\n",
    "train_label = label[:, 0:4]\n",
    "train_data,train_label = clean_train_data(train_data,train_label)\n",
    "train_label = get_train_labels(train_label)"
   ]
  },
  {
   "cell_type": "code",
   "execution_count": 9,
   "metadata": {},
   "outputs": [],
   "source": [
    "from sklearn.model_selection import train_test_split"
   ]
  },
  {
   "cell_type": "code",
   "execution_count": 10,
   "metadata": {},
   "outputs": [],
   "source": [
    "X_train, X_test, y_train, y_test = train_test_split(train_data,train_label[:,0], test_size=0.33, random_state=42)"
   ]
  },
  {
   "cell_type": "code",
   "execution_count": 11,
   "metadata": {},
   "outputs": [],
   "source": [
    "from sklearn.preprocessing import MinMaxScaler\n",
    "scaler = MinMaxScaler()\n",
    "\n",
    "X_train = scaler.fit_transform(X_train.astype(np.float64))\n",
    "X_test = scaler.fit_transform(X_test.astype(np.float64))"
   ]
  },
  {
   "cell_type": "code",
   "execution_count": 12,
   "metadata": {},
   "outputs": [],
   "source": [
    "# arousal_model=Sequential()\n",
    "# arousal_model.add(Dense(activation=\"relu\", input_dim=14, units=32, kernel_initializer=\"uniform\"))\n",
    "# arousal_model.add(Dense(activation=\"relu\", units=64, kernel_initializer=\"uniform\"))\n",
    "# arousal_model.add(Dense(activation=\"relu\", units=128, kernel_initializer=\"uniform\"))\n",
    "# arousal_model.add(Dense(activation=\"relu\", units=256, kernel_initializer=\"uniform\"))\n",
    "# arousal_model.add(Dense(activation=\"sigmoid\", units=1, kernel_initializer=\"uniform\"))"
   ]
  },
  {
   "cell_type": "code",
   "execution_count": 13,
   "metadata": {},
   "outputs": [],
   "source": [
    "# arousal_model.compile(optimizer='adam',loss='binary_crossentropy',metrics=['accuracy'])"
   ]
  },
  {
   "cell_type": "code",
   "execution_count": 14,
   "metadata": {},
   "outputs": [],
   "source": [
    "# arousal_model.fit(X_train, y_train,batch_size=10,epochs=10)"
   ]
  },
  {
   "cell_type": "code",
   "execution_count": 15,
   "metadata": {},
   "outputs": [],
   "source": [
    "def arousal_model():\n",
    "    model = tf.keras.models.Sequential([\n",
    "        tf.keras.layers.Flatten(input_shape=(14,)),\n",
    "        tf.keras.layers.Dense(32, activation='relu'),\n",
    "        tf.keras.layers.Dense(64, activation='relu'),\n",
    "        tf.keras.layers.Dense(128, activation='relu'),\n",
    "        tf.keras.layers.Dense(256, activation='relu'),\n",
    "        tf.keras.layers.Dense(512, activation='relu'),\n",
    "        tf.keras.layers.Dense(1, activation='sigmoid')])\n",
    "    model.compile(loss='binary_crossentropy', \n",
    "        optimizer='adam', metrics=['accuracy'])\n",
    "    return model"
   ]
  },
  {
   "cell_type": "code",
   "execution_count": 16,
   "metadata": {},
   "outputs": [],
   "source": [
    "model = arousal_model()"
   ]
  },
  {
   "cell_type": "code",
   "execution_count": 18,
   "metadata": {},
   "outputs": [
    {
     "name": "stdout",
     "output_type": "stream",
     "text": [
      "Checking accuracy on test set...\n",
      "25/25 [==============================] - 0s 3ms/step - loss: 0.6263 - accuracy: 0.6680\n",
      "\n",
      "Accuracy on test set: 0.6679999828338623\n"
     ]
    }
   ],
   "source": [
    "print(\"Checking accuracy on test set...\")\n",
    "acc = model.evaluate(X_test,y_test,batch_size=10)\n",
    "print(\"\\nAccuracy on test set: \" + str(acc[1]))"
   ]
  },
  {
   "cell_type": "code",
   "execution_count": 23,
   "metadata": {},
   "outputs": [],
   "source": [
    "from keras.wrappers.scikit_learn import KerasClassifier\n",
    "from sklearn.model_selection import GridSearchCV\n",
    "from keras.models import Sequential\n",
    "from keras.layers import Dense\n",
    "\n",
    "def build_classifier(optimizer):\n",
    "    arousal_model=Sequential()\n",
    "    arousal_model.add(Dense(activation=\"relu\", input_dim=14, units=32, kernel_initializer=\"uniform\"))\n",
    "    arousal_model.add(Dense(activation=\"relu\", units=64, kernel_initializer=\"uniform\"))\n",
    "    arousal_model.add(Dense(activation=\"relu\", units=128, kernel_initializer=\"uniform\"))\n",
    "    arousal_model.add(Dense(activation=\"relu\", units=256, kernel_initializer=\"uniform\"))\n",
    "    arousal_model.add(Dense(activation=\"relu\", units=512, kernel_initializer=\"uniform\"))\n",
    "    arousal_model.add(Dense(activation=\"sigmoid\", units=1, kernel_initializer=\"uniform\"))\n",
    "    arousal_model.compile(optimizer='adam',loss='binary_crossentropy',metrics=['accuracy'])\n",
    "    return arousal_model\n",
    "\n",
    "classifier = KerasClassifier(build_fn = build_classifier)\n",
    "parameters = {'batch_size': [25, 32],\n",
    "              'epochs': [10, 20],\n",
    "              'optimizer': ['adam', 'rmsprop']}\n",
    "grid_search = GridSearchCV(estimator = classifier,\n",
    "                           param_grid = parameters,\n",
    "                           scoring = 'accuracy',\n",
    "                           cv = 5)\n",
    "grid_search = grid_search.fit(X_train, y_train,verbose = 0)\n",
    "best_parameters = grid_search.best_params_\n",
    "best_accuracy = grid_search.best_score_"
   ]
  },
  {
   "cell_type": "code",
   "execution_count": 26,
   "metadata": {},
   "outputs": [
    {
     "name": "stdout",
     "output_type": "stream",
     "text": [
      "Best Parameters after tuning: {'batch_size': 25, 'epochs': 10, 'optimizer': 'adam'}\n",
      "Best Accuracy after tuning: 0.6732673267326732\n"
     ]
    }
   ],
   "source": [
    "print('Best Parameters after tuning: {}'.format(best_parameters))\n",
    "print('Best Accuracy after tuning: {}'.format(best_accuracy))"
   ]
  }
 ],
 "metadata": {
  "kernelspec": {
   "display_name": "Python 3",
   "language": "python",
   "name": "python3"
  },
  "language_info": {
   "codemirror_mode": {
    "name": "ipython",
    "version": 3
   },
   "file_extension": ".py",
   "mimetype": "text/x-python",
   "name": "python",
   "nbconvert_exporter": "python",
   "pygments_lexer": "ipython3",
   "version": "3.7.6"
  }
 },
 "nbformat": 4,
 "nbformat_minor": 4
}
