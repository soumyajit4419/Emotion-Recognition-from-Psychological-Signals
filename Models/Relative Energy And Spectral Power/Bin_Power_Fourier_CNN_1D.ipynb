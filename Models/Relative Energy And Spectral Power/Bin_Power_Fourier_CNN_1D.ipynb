{
 "cells": [
  {
   "cell_type": "code",
   "execution_count": 1,
   "metadata": {
    "execution": {
     "iopub.execute_input": "2021-02-04T06:51:22.127555Z",
     "iopub.status.busy": "2021-02-04T06:51:22.126657Z",
     "iopub.status.idle": "2021-02-04T06:51:23.167243Z",
     "shell.execute_reply": "2021-02-04T06:51:23.166573Z"
    },
    "papermill": {
     "duration": 1.082225,
     "end_time": "2021-02-04T06:51:23.167413",
     "exception": false,
     "start_time": "2021-02-04T06:51:22.085188",
     "status": "completed"
    },
    "tags": []
   },
   "outputs": [],
   "source": [
    "import numpy as np\n",
    "import pandas as pd\n",
    "from sklearn.model_selection import train_test_split\n",
    "from sklearn.preprocessing import StandardScaler\n",
    "import matplotlib.pyplot as plt\n",
    "import pickle"
   ]
  },
  {
   "cell_type": "code",
   "execution_count": 2,
   "metadata": {
    "execution": {
     "iopub.execute_input": "2021-02-04T06:51:23.239341Z",
     "iopub.status.busy": "2021-02-04T06:51:23.238471Z",
     "iopub.status.idle": "2021-02-04T06:51:25.06279Z",
     "shell.execute_reply": "2021-02-04T06:51:25.062095Z"
    },
    "id": "KX9JebafQwrI",
    "outputId": "78667e30-68cd-46f6-f530-d571aea50efa",
    "papermill": {
     "duration": 1.861915,
     "end_time": "2021-02-04T06:51:25.062899",
     "exception": false,
     "start_time": "2021-02-04T06:51:23.200984",
     "status": "completed"
    },
    "tags": []
   },
   "outputs": [
    {
     "data": {
      "text/plain": [
       "'1.7.1'"
      ]
     },
     "execution_count": 2,
     "metadata": {},
     "output_type": "execute_result"
    }
   ],
   "source": [
    "import torch\n",
    "torch.__version__"
   ]
  },
  {
   "cell_type": "code",
   "execution_count": 3,
   "metadata": {
    "execution": {
     "iopub.execute_input": "2021-02-04T06:51:25.135233Z",
     "iopub.status.busy": "2021-02-04T06:51:25.134438Z",
     "iopub.status.idle": "2021-02-04T06:51:25.311893Z",
     "shell.execute_reply": "2021-02-04T06:51:25.311169Z"
    },
    "id": "mxJjXR3URAea",
    "papermill": {
     "duration": 0.214923,
     "end_time": "2021-02-04T06:51:25.312015",
     "exception": false,
     "start_time": "2021-02-04T06:51:25.097092",
     "status": "completed"
    },
    "tags": []
   },
   "outputs": [],
   "source": [
    "import torch.nn as nn\n",
    "import torch.nn.functional as F\n",
    "from torch.utils.data import DataLoader,TensorDataset,random_split\n",
    "from torchvision.transforms import transforms"
   ]
  },
  {
   "cell_type": "code",
   "execution_count": 4,
   "metadata": {
    "execution": {
     "iopub.execute_input": "2021-02-04T06:51:25.386338Z",
     "iopub.status.busy": "2021-02-04T06:51:25.384434Z",
     "iopub.status.idle": "2021-02-04T06:51:25.387133Z",
     "shell.execute_reply": "2021-02-04T06:51:25.387674Z"
    },
    "papermill": {
     "duration": 0.042428,
     "end_time": "2021-02-04T06:51:25.387808",
     "exception": false,
     "start_time": "2021-02-04T06:51:25.34538",
     "status": "completed"
    },
    "tags": []
   },
   "outputs": [],
   "source": [
    "def get_train_labels(train_label):\n",
    "    for i,num in enumerate(train_label):\n",
    "        if(num> 4.5):\n",
    "            train_label[i] = 1\n",
    "        else:\n",
    "            train_label[i]= 0\n",
    "            \n",
    "    return train_label"
   ]
  },
  {
   "cell_type": "code",
   "execution_count": 5,
   "metadata": {
    "execution": {
     "iopub.execute_input": "2021-02-04T06:51:25.463848Z",
     "iopub.status.busy": "2021-02-04T06:51:25.462927Z",
     "iopub.status.idle": "2021-02-04T06:51:25.563006Z",
     "shell.execute_reply": "2021-02-04T06:51:25.563549Z"
    },
    "papermill": {
     "duration": 0.14317,
     "end_time": "2021-02-04T06:51:25.563714",
     "exception": false,
     "start_time": "2021-02-04T06:51:25.420544",
     "status": "completed"
    },
    "tags": []
   },
   "outputs": [],
   "source": [
    "X = pickle.load(open(\"../../Dataset/RelativeEnergyData/fourier_realtive_energy_data.pkl\",\"rb\"))\n",
    "arousal_label = pickle.load(open(\"../../Dataset/UserLabels.pkl\",\"rb\"))[:,:1][:396]\n",
    "valence_label = pickle.load(open(\"../../Dataset/UserLabels.pkl\",\"rb\"))[:, 1:2][:396]\n",
    "dominance_label = pickle.load(open(\"../../Dataset/UserLabels.pkl\",\"rb\"))[:,2:3][:396]\n",
    "liking_label = pickle.load(open(\"../../Dataset/UserLabels.pkl\",\"rb\"))[:,3:4][:396]"
   ]
  },
  {
   "cell_type": "code",
   "execution_count": 6,
   "metadata": {},
   "outputs": [],
   "source": [
    "X = X.astype(float)\n",
    "arousal_label = arousal_label.astype(float)\n",
    "valence_label = valence_label.astype(float)\n",
    "dominance_label = dominance_label.astype(float)\n",
    "liking_label = liking_label.astype(float)"
   ]
  },
  {
   "cell_type": "code",
   "execution_count": 7,
   "metadata": {},
   "outputs": [],
   "source": [
    "# clean data\n",
    "def clean_data(dataset, target):\n",
    "    del_rows = []\n",
    "    for i in range(len(dataset)):\n",
    "        if(np.isnan(dataset[i]).sum() > 0):\n",
    "            del_rows.append(i)\n",
    "            \n",
    "    dataset = np.delete(dataset, del_rows, axis=0)\n",
    "    target = np.delete(target, del_rows, axis=0)\n",
    "    \n",
    "    return dataset,target"
   ]
  },
  {
   "cell_type": "code",
   "execution_count": 8,
   "metadata": {},
   "outputs": [],
   "source": [
    "arousal_dataset,arousal_labels = clean_data(X,arousal_label)\n",
    "valence_dataset,valence_labels = clean_data(X,valence_label)\n",
    "dominance_dataset ,dominance_labels = clean_data(X,dominance_label)\n",
    "liking_dataset,liking_labels = clean_data(X,liking_label)"
   ]
  },
  {
   "cell_type": "code",
   "execution_count": 9,
   "metadata": {
    "execution": {
     "iopub.execute_input": "2021-02-04T06:51:26.149838Z",
     "iopub.status.busy": "2021-02-04T06:51:26.149076Z",
     "iopub.status.idle": "2021-02-04T06:51:26.152537Z",
     "shell.execute_reply": "2021-02-04T06:51:26.153136Z"
    },
    "papermill": {
     "duration": 0.058764,
     "end_time": "2021-02-04T06:51:26.15328",
     "exception": false,
     "start_time": "2021-02-04T06:51:26.094516",
     "status": "completed"
    },
    "tags": []
   },
   "outputs": [],
   "source": [
    "arousal_labels = get_train_labels(arousal_labels) \n",
    "valence_labels = get_train_labels(valence_labels)\n",
    "dominance_labels = get_train_labels(dominance_labels)\n",
    "liking_labels = get_train_labels(liking_labels)"
   ]
  },
  {
   "cell_type": "code",
   "execution_count": 10,
   "metadata": {
    "execution": {
     "iopub.execute_input": "2021-02-04T06:51:26.252017Z",
     "iopub.status.busy": "2021-02-04T06:51:26.249565Z",
     "iopub.status.idle": "2021-02-04T06:51:26.255256Z",
     "shell.execute_reply": "2021-02-04T06:51:26.254696Z"
    },
    "id": "JX_dmuAPRAgd",
    "papermill": {
     "duration": 0.063867,
     "end_time": "2021-02-04T06:51:26.255387",
     "exception": false,
     "start_time": "2021-02-04T06:51:26.19152",
     "status": "completed"
    },
    "tags": []
   },
   "outputs": [],
   "source": [
    "class STFT(nn.Module):\n",
    "\n",
    "    def __init__(self):\n",
    "        super().__init__()\n",
    "        self.network = nn.Sequential(\n",
    "            nn.Conv1d(1,64,kernel_size=3,stride=1,padding=1),\n",
    "            nn.BatchNorm1d(64),\n",
    "            nn.ReLU(),\n",
    "            nn.MaxPool1d(2,2),\n",
    "            nn.Conv1d(64,128,kernel_size=3,stride=1,padding=1),\n",
    "            nn.BatchNorm1d(128),\n",
    "            nn.ReLU(),\n",
    "            nn.MaxPool1d(2,2),\n",
    "\n",
    "            nn.Conv1d(128,256,kernel_size=3,stride=1,padding=1),\n",
    "            nn.BatchNorm1d(256),\n",
    "            nn.ReLU(),\n",
    "            nn.MaxPool1d(2,2),\n",
    "            nn.AdaptiveAvgPool1d(1),\n",
    "\n",
    "            nn.Flatten(),\n",
    "            nn.Linear(256,128),\n",
    "            nn.Tanh(),\n",
    "            nn.Linear(128,64),\n",
    "            nn.Tanh(),\n",
    "            nn.Linear(64,1),\n",
    "            nn.Sigmoid()\n",
    "    )\n",
    "\n",
    "    def forward(self,xb):\n",
    "        out = self.network(xb)\n",
    "        return out\n",
    "  \n",
    "    def training_step(self,batch):\n",
    "        features,label = batch\n",
    "        out = self(features)\n",
    "        loss = F.binary_cross_entropy(out,label)\n",
    "        return loss\n",
    "\n",
    "    def validation_step(self,batch):\n",
    "        features,label = batch\n",
    "        out = self(features)\n",
    "        loss = F.binary_cross_entropy(out,label)\n",
    "        acc = accuracy(out,label)\n",
    "        return {\"val_loss\": loss.detach(),\"val_acc\": acc}\n",
    "\n",
    "    def validation_epoch_end(self,outputs):\n",
    "        batch_loss = [x['val_loss'] for x in outputs]\n",
    "        epoch_loss = torch.stack(batch_loss).mean()\n",
    "        batch_acc = [x['val_acc'] for x in outputs]\n",
    "        epoch_acc = torch.stack(batch_acc).mean()\n",
    "        return {\"val_loss\":epoch_loss.item(),\"val_acc\":epoch_acc.item()}\n",
    "\n",
    "    def epoch_end(self,num_epoch,results):\n",
    "        print(\"num_epoch: {}, train_loss: {:.2f}, val_loss: {:.2f}, val_acc: {:.2f}\".format(num_epoch+1,results['train_loss'],results['val_loss'], results['val_acc']))"
   ]
  },
  {
   "cell_type": "code",
   "execution_count": 11,
   "metadata": {
    "execution": {
     "iopub.execute_input": "2021-02-04T06:51:26.344112Z",
     "iopub.status.busy": "2021-02-04T06:51:26.343164Z",
     "iopub.status.idle": "2021-02-04T06:51:26.346201Z",
     "shell.execute_reply": "2021-02-04T06:51:26.345682Z"
    },
    "id": "2_qpGIGcRrnt",
    "papermill": {
     "duration": 0.052942,
     "end_time": "2021-02-04T06:51:26.346332",
     "exception": false,
     "start_time": "2021-02-04T06:51:26.29339",
     "status": "completed"
    },
    "tags": []
   },
   "outputs": [],
   "source": [
    "def accuracy(out,label):\n",
    "    out = (out>0.5)\n",
    "    pred = (out == label).sum()\n",
    "    return pred/out.shape[0]\n",
    "\n",
    "def evaluate(model,val_loader):\n",
    "    outputs = [model.validation_step(batch) for batch in val_loader]\n",
    "    return model.validation_epoch_end(outputs)\n",
    "\n",
    "def fit(num_epochs,lr,train_loader,val_loader,model,opt_func=torch.optim.Adam):\n",
    "    optimizer = opt_func(model.parameters(),lr)\n",
    "    history = []\n",
    "    for epoch in range(num_epochs):\n",
    "        train_losses = []\n",
    "        for batch in train_loader:\n",
    "            loss = model.training_step(batch)\n",
    "            train_losses.append(loss)\n",
    "            loss.backward()\n",
    "            optimizer.step()\n",
    "            optimizer.zero_grad()\n",
    "\n",
    "        results = evaluate(model,val_loader)\n",
    "        train_loss = torch.stack(train_losses).mean().item()\n",
    "        results['train_loss'] = train_loss\n",
    "        model.epoch_end(epoch,results)\n",
    "        history.append(results)\n",
    "    return history"
   ]
  },
  {
   "cell_type": "code",
   "execution_count": 12,
   "metadata": {
    "execution": {
     "iopub.execute_input": "2021-02-04T06:51:26.440901Z",
     "iopub.status.busy": "2021-02-04T06:51:26.435228Z",
     "iopub.status.idle": "2021-02-04T06:51:26.445642Z",
     "shell.execute_reply": "2021-02-04T06:51:26.44505Z"
    },
    "id": "DkWl66m-WvlI",
    "papermill": {
     "duration": 0.061928,
     "end_time": "2021-02-04T06:51:26.445754",
     "exception": false,
     "start_time": "2021-02-04T06:51:26.383826",
     "status": "completed"
    },
    "tags": []
   },
   "outputs": [],
   "source": [
    "def get_default_device():\n",
    "    \"\"\"Pick GPU if available, else CPU\"\"\"\n",
    "    if torch.cuda.is_available():\n",
    "        return torch.device('cuda')\n",
    "    else:\n",
    "        return torch.device('cpu')\n",
    "    \n",
    "def to_device(data, device):\n",
    "    \"\"\"Move tensor(s) to chosen device\"\"\"\n",
    "    if isinstance(data, (list,tuple)):\n",
    "        return [to_device(x, device) for x in data]\n",
    "    return data.to(device, non_blocking=True)\n",
    "\n",
    "class DeviceDataLoader():\n",
    "    \"\"\"Wrap a dataloader to move data to a device\"\"\"\n",
    "    def __init__(self, dl, device):\n",
    "        self.dl = dl\n",
    "        self.device = device\n",
    "        \n",
    "    def __iter__(self):\n",
    "        \"\"\"Yield a batch of data after moving it to device\"\"\"\n",
    "        for b in self.dl: \n",
    "            yield to_device(b, self.device)\n",
    "\n",
    "    def __len__(self):\n",
    "        \"\"\"Number of batches\"\"\"\n",
    "        return len(self.dl)\n",
    "    \n",
    "def get_plot(history):\n",
    "    final_train_loss=[]\n",
    "    final_val_loss=[]\n",
    "    final_val_acc=[]\n",
    "    \n",
    "    for i in history:\n",
    "        final_train_loss.append(i['train_loss'])\n",
    "        final_val_loss.append(i['val_loss'])\n",
    "        final_val_acc.append(i['val_acc'])\n",
    "        \n",
    "    epochs=len(history)\n",
    "    \n",
    "    fig = plt.figure(figsize=(20,4))\n",
    "    ax = fig.add_subplot(1, 2, 1)\n",
    "    plt.title(\"Epochs vs Loss\", fontsize=15)\n",
    "    plt.plot(list(np.arange(epochs) + 1) , final_train_loss, label='Train')\n",
    "    plt.plot(list(np.arange(epochs) + 1), final_val_loss, label='Validation')\n",
    "    plt.xlabel('Epochs', fontsize=15)\n",
    "    plt.ylabel('Loss', fontsize=15)\n",
    "    plt.legend(loc='best')\n",
    "    \n",
    "    ax = fig.add_subplot(1, 2, 2)\n",
    "    plt.title(\"Epochs vs Accuracy\")\n",
    "    plt.plot(list(np.arange(epochs) + 1) ,final_val_acc)\n",
    "    plt.xlabel('Epochs', fontsize=15)\n",
    "    plt.ylabel('Accuracy', fontsize=15)\n",
    "    plt.legend(loc='best')"
   ]
  },
  {
   "cell_type": "markdown",
   "metadata": {
    "papermill": {
     "duration": 0.037849,
     "end_time": "2021-02-04T06:51:26.52035",
     "exception": false,
     "start_time": "2021-02-04T06:51:26.482501",
     "status": "completed"
    },
    "tags": []
   },
   "source": [
    "# Splitting the Dataset and Training"
   ]
  },
  {
   "cell_type": "code",
   "execution_count": 13,
   "metadata": {
    "execution": {
     "iopub.execute_input": "2021-02-04T06:51:26.619461Z",
     "iopub.status.busy": "2021-02-04T06:51:26.618281Z",
     "iopub.status.idle": "2021-02-04T06:51:26.622935Z",
     "shell.execute_reply": "2021-02-04T06:51:26.623575Z"
    },
    "papermill": {
     "duration": 0.064348,
     "end_time": "2021-02-04T06:51:26.623725",
     "exception": false,
     "start_time": "2021-02-04T06:51:26.559377",
     "status": "completed"
    },
    "tags": []
   },
   "outputs": [],
   "source": [
    "x_a_train,x_a_test,y_a_train,y_a_test=train_test_split(arousal_dataset,np.array(arousal_labels), test_size=0.3,random_state=42)\n",
    "x_v_train,x_v_test,y_v_train,y_v_test=train_test_split(valence_dataset,np.array(valence_labels), test_size=0.3,random_state=42)\n",
    "x_d_train,x_d_test,y_d_train,y_d_test = train_test_split(dominance_dataset,np.array(dominance_labels),test_size = 0.3,random_state = 42)\n",
    "x_l_train,x_l_test,y_l_train,y_l_test = train_test_split(liking_dataset,np.array(liking_labels),test_size = 0.3,random_state = 42)"
   ]
  },
  {
   "cell_type": "code",
   "execution_count": 14,
   "metadata": {
    "execution": {
     "iopub.execute_input": "2021-02-04T06:51:26.708115Z",
     "iopub.status.busy": "2021-02-04T06:51:26.707164Z",
     "iopub.status.idle": "2021-02-04T06:51:26.722209Z",
     "shell.execute_reply": "2021-02-04T06:51:26.721506Z"
    },
    "papermill": {
     "duration": 0.059182,
     "end_time": "2021-02-04T06:51:26.722334",
     "exception": false,
     "start_time": "2021-02-04T06:51:26.663152",
     "status": "completed"
    },
    "tags": []
   },
   "outputs": [],
   "source": [
    "scaler = StandardScaler()\n",
    "x_a_train = scaler.fit_transform(x_a_train)\n",
    "x_a_test = scaler.fit_transform(x_a_test)\n",
    "\n",
    "x_v_train = scaler.fit_transform(x_v_train)\n",
    "x_v_test = scaler.fit_transform(x_v_test)\n",
    "\n",
    "x_d_train = scaler.fit_transform(x_d_train)\n",
    "x_d_test = scaler.fit_transform(x_d_test)\n",
    "\n",
    "x_l_train = scaler.fit_transform(x_l_train)\n",
    "x_l_test = scaler.fit_transform(x_l_test)"
   ]
  },
  {
   "cell_type": "code",
   "execution_count": 15,
   "metadata": {
    "execution": {
     "iopub.execute_input": "2021-02-04T06:51:26.825804Z",
     "iopub.status.busy": "2021-02-04T06:51:26.824795Z",
     "iopub.status.idle": "2021-02-04T06:51:26.830033Z",
     "shell.execute_reply": "2021-02-04T06:51:26.829497Z"
    },
    "papermill": {
     "duration": 0.067414,
     "end_time": "2021-02-04T06:51:26.830144",
     "exception": false,
     "start_time": "2021-02-04T06:51:26.76273",
     "status": "completed"
    },
    "tags": []
   },
   "outputs": [],
   "source": [
    "train_a_tensor = torch.tensor(x_a_train,dtype=torch.float32)\n",
    "train_a_label = torch.tensor(y_a_train,dtype=torch.float32)\n",
    "\n",
    "test_a_tensor =torch.tensor(x_a_test,dtype=torch.float32)\n",
    "test_a_label = torch.tensor(y_a_test,dtype=torch.float32)\n",
    "\n",
    "\n",
    "train_v_tensor = torch.tensor(x_v_train,dtype=torch.float32)\n",
    "train_v_label = torch.tensor(y_v_train,dtype=torch.float32)\n",
    "\n",
    "test_v_tensor =torch.tensor(x_v_test,dtype=torch.float32)\n",
    "test_v_label = torch.tensor(y_v_test,dtype=torch.float32)\n",
    "\n",
    "train_d_tensor = torch.tensor(x_d_train,dtype=torch.float32)\n",
    "train_d_label = torch.tensor(y_d_train,dtype=torch.float32)\n",
    "\n",
    "test_d_tensor =torch.tensor(x_d_test,dtype=torch.float32)\n",
    "test_d_label = torch.tensor(y_d_test,dtype=torch.float32)\n",
    "\n",
    "train_l_tensor = torch.tensor(x_l_train,dtype=torch.float32)\n",
    "train_l_label = torch.tensor(y_l_train,dtype=torch.float32)\n",
    "\n",
    "test_l_tensor =torch.tensor(x_l_test,dtype=torch.float32)\n",
    "test_l_label = torch.tensor(y_l_test,dtype=torch.float32)"
   ]
  },
  {
   "cell_type": "code",
   "execution_count": 16,
   "metadata": {
    "execution": {
     "iopub.execute_input": "2021-02-04T06:51:27.062403Z",
     "iopub.status.busy": "2021-02-04T06:51:27.06125Z",
     "iopub.status.idle": "2021-02-04T06:51:27.073252Z",
     "shell.execute_reply": "2021-02-04T06:51:27.074178Z"
    },
    "papermill": {
     "duration": 0.099684,
     "end_time": "2021-02-04T06:51:27.074402",
     "exception": false,
     "start_time": "2021-02-04T06:51:26.974718",
     "status": "completed"
    },
    "tags": []
   },
   "outputs": [],
   "source": [
    "train_a_tensor=train_a_tensor.reshape(train_a_tensor.shape[0],1,70)\n",
    "test_a_tensor=test_a_tensor.reshape(test_a_tensor.shape[0],1,70)\n",
    "\n",
    "train_v_tensor=train_v_tensor.reshape(train_v_tensor.shape[0],1,70)\n",
    "test_v_tensor=test_v_tensor.reshape(test_v_tensor.shape[0],1,70)\n",
    "\n",
    "train_d_tensor=train_d_tensor.reshape(train_d_tensor.shape[0],1,70)\n",
    "test_d_tensor=test_d_tensor.reshape(test_d_tensor.shape[0],1,70)\n",
    "\n",
    "train_l_tensor=train_l_tensor.reshape(train_l_tensor.shape[0],1,70)\n",
    "test_l_tensor=test_l_tensor.reshape(test_l_tensor.shape[0],1,70)"
   ]
  },
  {
   "cell_type": "code",
   "execution_count": 17,
   "metadata": {
    "execution": {
     "iopub.execute_input": "2021-02-04T06:51:27.213342Z",
     "iopub.status.busy": "2021-02-04T06:51:27.21229Z",
     "iopub.status.idle": "2021-02-04T06:51:27.240382Z",
     "shell.execute_reply": "2021-02-04T06:51:27.241744Z"
    },
    "papermill": {
     "duration": 0.103213,
     "end_time": "2021-02-04T06:51:27.241937",
     "exception": false,
     "start_time": "2021-02-04T06:51:27.138724",
     "status": "completed"
    },
    "tags": []
   },
   "outputs": [
    {
     "name": "stdout",
     "output_type": "stream",
     "text": [
      "Train Tensor shape torch.Size([275, 1, 70])\n",
      "Test Tensor shape torch.Size([118, 1, 70])\n",
      "Train Tensor shape torch.Size([275, 1, 70])\n",
      "Test Tensor shape torch.Size([118, 1, 70])\n"
     ]
    }
   ],
   "source": [
    "print(\"Train Tensor shape\",train_a_tensor.shape)\n",
    "print(\"Test Tensor shape\",test_a_tensor.shape)\n",
    "print(\"Train Tensor shape\",train_d_tensor.shape)\n",
    "print(\"Test Tensor shape\",test_l_tensor.shape)"
   ]
  },
  {
   "cell_type": "code",
   "execution_count": 18,
   "metadata": {
    "execution": {
     "iopub.execute_input": "2021-02-04T06:51:27.36982Z",
     "iopub.status.busy": "2021-02-04T06:51:27.368849Z",
     "iopub.status.idle": "2021-02-04T06:51:27.38948Z",
     "shell.execute_reply": "2021-02-04T06:51:27.390735Z"
    },
    "papermill": {
     "duration": 0.08816,
     "end_time": "2021-02-04T06:51:27.390914",
     "exception": false,
     "start_time": "2021-02-04T06:51:27.302754",
     "status": "completed"
    },
    "tags": []
   },
   "outputs": [],
   "source": [
    "train_arousal = TensorDataset(train_a_tensor, train_a_label)\n",
    "test_arousal = TensorDataset(test_a_tensor, test_a_label)\n",
    "\n",
    "train_valence = TensorDataset(train_v_tensor, train_v_label)\n",
    "test_valence =TensorDataset(test_v_tensor, test_v_label)\n",
    "\n",
    "train_dominance = TensorDataset(train_d_tensor, train_d_label)\n",
    "test_dominance =TensorDataset(test_d_tensor, test_d_label)\n",
    "\n",
    "train_liking = TensorDataset(train_l_tensor, train_l_label)\n",
    "test_liking =TensorDataset(test_l_tensor, test_l_label)"
   ]
  },
  {
   "cell_type": "code",
   "execution_count": 19,
   "metadata": {
    "execution": {
     "iopub.execute_input": "2021-02-04T06:51:27.522815Z",
     "iopub.status.busy": "2021-02-04T06:51:27.521827Z",
     "iopub.status.idle": "2021-02-04T06:51:27.543954Z",
     "shell.execute_reply": "2021-02-04T06:51:27.545223Z"
    },
    "papermill": {
     "duration": 0.094388,
     "end_time": "2021-02-04T06:51:27.545425",
     "exception": false,
     "start_time": "2021-02-04T06:51:27.451037",
     "status": "completed"
    },
    "tags": []
   },
   "outputs": [],
   "source": [
    "val_size = int(0.2 * len(train_arousal))\n",
    "train_size = len(train_arousal) - val_size\n",
    "\n",
    "train_a_ds,val_a_ds = random_split(train_arousal,[train_size,val_size])\n",
    "\n",
    "train_v_ds,val_v_ds = random_split(train_valence,[train_size,val_size])\n",
    "\n",
    "train_d_ds,val_d_ds = random_split(train_dominance,[train_size,val_size])\n",
    "\n",
    "train_l_ds,val_l_ds = random_split(train_liking,[train_size,val_size])"
   ]
  },
  {
   "cell_type": "code",
   "execution_count": 20,
   "metadata": {
    "execution": {
     "iopub.execute_input": "2021-02-04T06:51:28.010666Z",
     "iopub.status.busy": "2021-02-04T06:51:28.009684Z",
     "iopub.status.idle": "2021-02-04T06:51:28.022568Z",
     "shell.execute_reply": "2021-02-04T06:51:28.021987Z"
    },
    "id": "fniNBiZdWySs",
    "outputId": "2960d776-baf1-4882-d977-e5cbebcc83c0",
    "papermill": {
     "duration": 0.414331,
     "end_time": "2021-02-04T06:51:28.022684",
     "exception": false,
     "start_time": "2021-02-04T06:51:27.608353",
     "status": "completed"
    },
    "tags": []
   },
   "outputs": [
    {
     "name": "stderr",
     "output_type": "stream",
     "text": [
      "C:\\Users\\Rahul1582\\anaconda3\\lib\\site-packages\\torch\\cuda\\__init__.py:52: UserWarning: CUDA initialization: Found no NVIDIA driver on your system. Please check that you have an NVIDIA GPU and installed a driver from http://www.nvidia.com/Download/index.aspx (Triggered internally at  ..\\c10\\cuda\\CUDAFunctions.cpp:100.)\n",
      "  return torch._C._cuda_getDeviceCount() > 0\n"
     ]
    },
    {
     "data": {
      "text/plain": [
       "device(type='cpu')"
      ]
     },
     "execution_count": 20,
     "metadata": {},
     "output_type": "execute_result"
    }
   ],
   "source": [
    "device = get_default_device()\n",
    "device"
   ]
  },
  {
   "cell_type": "code",
   "execution_count": 21,
   "metadata": {
    "execution": {
     "iopub.execute_input": "2021-02-04T06:51:28.141662Z",
     "iopub.status.busy": "2021-02-04T06:51:28.140622Z",
     "iopub.status.idle": "2021-02-04T06:51:28.145039Z",
     "shell.execute_reply": "2021-02-04T06:51:28.145681Z"
    },
    "papermill": {
     "duration": 0.071878,
     "end_time": "2021-02-04T06:51:28.145816",
     "exception": false,
     "start_time": "2021-02-04T06:51:28.073938",
     "status": "completed"
    },
    "tags": []
   },
   "outputs": [],
   "source": [
    "batch_size = 32\n",
    "train_arousal_loader =  DataLoader(train_a_ds,batch_size=batch_size,shuffle=True)\n",
    "val_arousal_loader =  DataLoader(val_a_ds,batch_size=batch_size,shuffle=True)\n",
    "test_arousal_loader =  DataLoader(test_arousal,batch_size=batch_size,shuffle=True)\n",
    "\n",
    "batch_size = 32\n",
    "train_valence_loader =  DataLoader(train_v_ds,batch_size=batch_size,shuffle=True)\n",
    "val_valence_loader =  DataLoader(val_v_ds,batch_size=batch_size,shuffle=True)\n",
    "test_valence_loader =  DataLoader(test_valence,batch_size=batch_size,shuffle=True)\n",
    "\n",
    "batch_size = 32\n",
    "train_dominance_loader =  DataLoader(train_d_ds,batch_size=batch_size,shuffle=True)\n",
    "val_dominance_loader =  DataLoader(val_d_ds,batch_size=batch_size,shuffle=True)\n",
    "test_dominance_loader =  DataLoader(test_dominance,batch_size=batch_size,shuffle=True)\n",
    "\n",
    "batch_size = 32\n",
    "train_liking_loader =  DataLoader(train_l_ds,batch_size=batch_size,shuffle=True)\n",
    "val_liking_loader =  DataLoader(val_l_ds,batch_size=batch_size,shuffle=True)\n",
    "test_liking_loader =  DataLoader(test_liking,batch_size=batch_size,shuffle=True)"
   ]
  },
  {
   "cell_type": "code",
   "execution_count": 22,
   "metadata": {
    "execution": {
     "iopub.execute_input": "2021-02-04T06:51:28.256084Z",
     "iopub.status.busy": "2021-02-04T06:51:28.254947Z",
     "iopub.status.idle": "2021-02-04T06:51:28.25961Z",
     "shell.execute_reply": "2021-02-04T06:51:28.260139Z"
    },
    "papermill": {
     "duration": 0.069937,
     "end_time": "2021-02-04T06:51:28.260295",
     "exception": false,
     "start_time": "2021-02-04T06:51:28.190358",
     "status": "completed"
    },
    "tags": []
   },
   "outputs": [],
   "source": [
    "train_arousal_loader=DeviceDataLoader(train_arousal_loader,device)\n",
    "val_arousal_loader=DeviceDataLoader(val_arousal_loader,device)\n",
    "test_arousal_loader=DeviceDataLoader(test_arousal_loader,device)\n",
    "\n",
    "\n",
    "train_valence_loader = DeviceDataLoader(train_valence_loader,device)\n",
    "val_valence_loader = DeviceDataLoader(val_valence_loader,device)\n",
    "test_valence_loader = DeviceDataLoader(test_valence_loader,device)\n",
    "\n",
    "train_dominance_loader = DeviceDataLoader(train_dominance_loader,device)\n",
    "val_dominance_loader = DeviceDataLoader(val_dominance_loader,device)\n",
    "test_dominance_loader = DeviceDataLoader(test_dominance_loader,device)\n",
    "\n",
    "train_liking_loader = DeviceDataLoader(train_liking_loader,device)\n",
    "val_liking_loader = DeviceDataLoader(val_liking_loader,device)\n",
    "test_liking_loader = DeviceDataLoader(test_liking_loader,device)"
   ]
  },
  {
   "cell_type": "markdown",
   "metadata": {
    "papermill": {
     "duration": 0.047769,
     "end_time": "2021-02-04T06:51:28.355555",
     "exception": false,
     "start_time": "2021-02-04T06:51:28.307786",
     "status": "completed"
    },
    "tags": []
   },
   "source": [
    "# **AROUSAL:-**"
   ]
  },
  {
   "cell_type": "code",
   "execution_count": 23,
   "metadata": {
    "execution": {
     "iopub.execute_input": "2021-02-04T06:51:28.459527Z",
     "iopub.status.busy": "2021-02-04T06:51:28.458744Z",
     "iopub.status.idle": "2021-02-04T06:51:33.684864Z",
     "shell.execute_reply": "2021-02-04T06:51:33.684168Z"
    },
    "id": "sZWMo2LQXGYj",
    "papermill": {
     "duration": 5.280967,
     "end_time": "2021-02-04T06:51:33.685",
     "exception": false,
     "start_time": "2021-02-04T06:51:28.404033",
     "status": "completed"
    },
    "tags": []
   },
   "outputs": [],
   "source": [
    "arousal_model= STFT()\n",
    "arousal_model= arousal_model.to(device)"
   ]
  },
  {
   "cell_type": "code",
   "execution_count": 24,
   "metadata": {
    "execution": {
     "iopub.execute_input": "2021-02-04T06:51:33.793184Z",
     "iopub.status.busy": "2021-02-04T06:51:33.791284Z",
     "iopub.status.idle": "2021-02-04T06:51:33.797495Z",
     "shell.execute_reply": "2021-02-04T06:51:33.796979Z"
    },
    "id": "r5HwvdzzXRLw",
    "papermill": {
     "duration": 0.06661,
     "end_time": "2021-02-04T06:51:33.797626",
     "exception": false,
     "start_time": "2021-02-04T06:51:33.731016",
     "status": "completed"
    },
    "tags": []
   },
   "outputs": [
    {
     "name": "stdout",
     "output_type": "stream",
     "text": [
      "num_epoch: 1, train_loss: 0.63, val_loss: 0.63, val_acc: 0.68\n",
      "num_epoch: 2, train_loss: 0.60, val_loss: 0.60, val_acc: 0.69\n",
      "num_epoch: 3, train_loss: 0.57, val_loss: 0.60, val_acc: 0.70\n",
      "num_epoch: 4, train_loss: 0.55, val_loss: 0.61, val_acc: 0.70\n",
      "num_epoch: 5, train_loss: 0.52, val_loss: 0.55, val_acc: 0.70\n",
      "num_epoch: 6, train_loss: 0.48, val_loss: 0.53, val_acc: 0.67\n",
      "num_epoch: 7, train_loss: 0.44, val_loss: 0.69, val_acc: 0.69\n",
      "num_epoch: 8, train_loss: 0.39, val_loss: 0.69, val_acc: 0.65\n",
      "num_epoch: 9, train_loss: 0.33, val_loss: 0.51, val_acc: 0.74\n",
      "num_epoch: 10, train_loss: 0.26, val_loss: 0.62, val_acc: 0.71\n"
     ]
    }
   ],
   "source": [
    "history = fit(10,0.001,train_arousal_loader,val_arousal_loader,arousal_model)"
   ]
  },
  {
   "cell_type": "code",
   "execution_count": 25,
   "metadata": {
    "execution": {
     "iopub.execute_input": "2021-02-04T06:51:33.90733Z",
     "iopub.status.busy": "2021-02-04T06:51:33.906244Z",
     "iopub.status.idle": "2021-02-04T06:51:33.910413Z",
     "shell.execute_reply": "2021-02-04T06:51:33.91102Z"
    },
    "papermill": {
     "duration": 0.06632,
     "end_time": "2021-02-04T06:51:33.911155",
     "exception": false,
     "start_time": "2021-02-04T06:51:33.844835",
     "status": "completed"
    },
    "tags": []
   },
   "outputs": [
    {
     "name": "stderr",
     "output_type": "stream",
     "text": [
      "No handles with labels found to put in legend.\n"
     ]
    },
    {
     "data": {
      "image/png": "[encoded data removed]",
      "text/plain": [
       "<Figure size 1440x288 with 2 Axes>"
      ]
     },
     "metadata": {
      "needs_background": "light"
     },
     "output_type": "display_data"
    }
   ],
   "source": [
    "get_plot(history)"
   ]
  },
  {
   "cell_type": "code",
   "execution_count": 26,
   "metadata": {
    "execution": {
     "iopub.execute_input": "2021-02-04T06:51:34.022551Z",
     "iopub.status.busy": "2021-02-04T06:51:34.021479Z",
     "iopub.status.idle": "2021-02-04T06:51:34.026173Z",
     "shell.execute_reply": "2021-02-04T06:51:34.025586Z"
    },
    "papermill": {
     "duration": 0.067706,
     "end_time": "2021-02-04T06:51:34.026308",
     "exception": false,
     "start_time": "2021-02-04T06:51:33.958602",
     "status": "completed"
    },
    "tags": []
   },
   "outputs": [
    {
     "data": {
      "text/plain": [
       "{'val_loss': 0.8528894186019897, 'val_acc': 0.6171875}"
      ]
     },
     "execution_count": 26,
     "metadata": {},
     "output_type": "execute_result"
    }
   ],
   "source": [
    "evaluate(arousal_model,test_arousal_loader)"
   ]
  },
  {
   "cell_type": "markdown",
   "metadata": {
    "papermill": {
     "duration": 0.048415,
     "end_time": "2021-02-04T06:51:34.121973",
     "exception": false,
     "start_time": "2021-02-04T06:51:34.073558",
     "status": "completed"
    },
    "tags": []
   },
   "source": [
    "# **VALENCE:-**"
   ]
  },
  {
   "cell_type": "code",
   "execution_count": 27,
   "metadata": {
    "execution": {
     "iopub.execute_input": "2021-02-04T06:51:34.225576Z",
     "iopub.status.busy": "2021-02-04T06:51:34.224529Z",
     "iopub.status.idle": "2021-02-04T06:51:34.233932Z",
     "shell.execute_reply": "2021-02-04T06:51:34.233361Z"
    },
    "papermill": {
     "duration": 0.063528,
     "end_time": "2021-02-04T06:51:34.23405",
     "exception": false,
     "start_time": "2021-02-04T06:51:34.170522",
     "status": "completed"
    },
    "tags": []
   },
   "outputs": [],
   "source": [
    "valence_model= STFT()\n",
    "valence_model= valence_model.to(device)"
   ]
  },
  {
   "cell_type": "code",
   "execution_count": 28,
   "metadata": {
    "execution": {
     "iopub.execute_input": "2021-02-04T06:51:34.34874Z",
     "iopub.status.busy": "2021-02-04T06:51:34.34777Z",
     "iopub.status.idle": "2021-02-04T06:51:34.352284Z",
     "shell.execute_reply": "2021-02-04T06:51:34.351708Z"
    },
    "papermill": {
     "duration": 0.069583,
     "end_time": "2021-02-04T06:51:34.352403",
     "exception": false,
     "start_time": "2021-02-04T06:51:34.28282",
     "status": "completed"
    },
    "tags": []
   },
   "outputs": [
    {
     "name": "stdout",
     "output_type": "stream",
     "text": [
      "num_epoch: 1, train_loss: 0.70, val_loss: 0.69, val_acc: 0.47\n",
      "num_epoch: 2, train_loss: 0.68, val_loss: 0.68, val_acc: 0.54\n",
      "num_epoch: 3, train_loss: 0.67, val_loss: 0.66, val_acc: 0.71\n",
      "num_epoch: 4, train_loss: 0.66, val_loss: 0.71, val_acc: 0.46\n",
      "num_epoch: 5, train_loss: 0.63, val_loss: 0.68, val_acc: 0.58\n",
      "num_epoch: 6, train_loss: 0.60, val_loss: 0.77, val_acc: 0.39\n",
      "num_epoch: 7, train_loss: 0.56, val_loss: 0.70, val_acc: 0.63\n",
      "num_epoch: 8, train_loss: 0.56, val_loss: 0.85, val_acc: 0.43\n",
      "num_epoch: 9, train_loss: 0.50, val_loss: 0.70, val_acc: 0.54\n",
      "num_epoch: 10, train_loss: 0.46, val_loss: 0.74, val_acc: 0.57\n"
     ]
    }
   ],
   "source": [
    "history = fit(10,0.001,train_valence_loader,val_valence_loader,valence_model)"
   ]
  },
  {
   "cell_type": "code",
   "execution_count": 29,
   "metadata": {
    "execution": {
     "iopub.execute_input": "2021-02-04T06:51:34.466065Z",
     "iopub.status.busy": "2021-02-04T06:51:34.465046Z",
     "iopub.status.idle": "2021-02-04T06:51:34.469944Z",
     "shell.execute_reply": "2021-02-04T06:51:34.4694Z"
    },
    "papermill": {
     "duration": 0.068432,
     "end_time": "2021-02-04T06:51:34.470059",
     "exception": false,
     "start_time": "2021-02-04T06:51:34.401627",
     "status": "completed"
    },
    "tags": []
   },
   "outputs": [
    {
     "name": "stderr",
     "output_type": "stream",
     "text": [
      "No handles with labels found to put in legend.\n"
     ]
    },
    {
     "data": {
      "image/png": "[encoded data removed]",
      "text/plain": [
       "<Figure size 1440x288 with 2 Axes>"
      ]
     },
     "metadata": {
      "needs_background": "light"
     },
     "output_type": "display_data"
    }
   ],
   "source": [
    "get_plot(history)"
   ]
  },
  {
   "cell_type": "code",
   "execution_count": 30,
   "metadata": {
    "execution": {
     "iopub.execute_input": "2021-02-04T06:51:34.585105Z",
     "iopub.status.busy": "2021-02-04T06:51:34.58415Z",
     "iopub.status.idle": "2021-02-04T06:51:34.588111Z",
     "shell.execute_reply": "2021-02-04T06:51:34.588851Z"
    },
    "papermill": {
     "duration": 0.069324,
     "end_time": "2021-02-04T06:51:34.588987",
     "exception": false,
     "start_time": "2021-02-04T06:51:34.519663",
     "status": "completed"
    },
    "tags": []
   },
   "outputs": [
    {
     "data": {
      "text/plain": [
       "{'val_loss': 0.7195614576339722, 'val_acc': 0.5809658765792847}"
      ]
     },
     "execution_count": 30,
     "metadata": {},
     "output_type": "execute_result"
    }
   ],
   "source": [
    "evaluate(valence_model,test_valence_loader)"
   ]
  },
  {
   "cell_type": "markdown",
   "metadata": {
    "papermill": {
     "duration": 0.049953,
     "end_time": "2021-02-04T06:51:34.688427",
     "exception": false,
     "start_time": "2021-02-04T06:51:34.638474",
     "status": "completed"
    },
    "tags": []
   },
   "source": [
    "# **DOMINANCE:-**"
   ]
  },
  {
   "cell_type": "code",
   "execution_count": 31,
   "metadata": {
    "execution": {
     "iopub.execute_input": "2021-02-04T06:51:34.794595Z",
     "iopub.status.busy": "2021-02-04T06:51:34.793576Z",
     "iopub.status.idle": "2021-02-04T06:51:34.802244Z",
     "shell.execute_reply": "2021-02-04T06:51:34.802918Z"
    },
    "papermill": {
     "duration": 0.065064,
     "end_time": "2021-02-04T06:51:34.803052",
     "exception": false,
     "start_time": "2021-02-04T06:51:34.737988",
     "status": "completed"
    },
    "tags": []
   },
   "outputs": [],
   "source": [
    "dominance_model= STFT()\n",
    "dominance_model= dominance_model.to(device)"
   ]
  },
  {
   "cell_type": "code",
   "execution_count": 32,
   "metadata": {
    "execution": {
     "iopub.execute_input": "2021-02-04T06:51:34.922348Z",
     "iopub.status.busy": "2021-02-04T06:51:34.921332Z",
     "iopub.status.idle": "2021-02-04T06:51:34.926104Z",
     "shell.execute_reply": "2021-02-04T06:51:34.925467Z"
    },
    "papermill": {
     "duration": 0.071585,
     "end_time": "2021-02-04T06:51:34.926216",
     "exception": false,
     "start_time": "2021-02-04T06:51:34.854631",
     "status": "completed"
    },
    "tags": []
   },
   "outputs": [
    {
     "name": "stdout",
     "output_type": "stream",
     "text": [
      "num_epoch: 1, train_loss: 0.71, val_loss: 0.68, val_acc: 0.56\n",
      "num_epoch: 2, train_loss: 0.69, val_loss: 0.69, val_acc: 0.54\n",
      "num_epoch: 3, train_loss: 0.67, val_loss: 0.68, val_acc: 0.58\n",
      "num_epoch: 4, train_loss: 0.66, val_loss: 0.68, val_acc: 0.54\n",
      "num_epoch: 5, train_loss: 0.63, val_loss: 0.71, val_acc: 0.57\n",
      "num_epoch: 6, train_loss: 0.59, val_loss: 0.67, val_acc: 0.63\n",
      "num_epoch: 7, train_loss: 0.52, val_loss: 0.68, val_acc: 0.58\n",
      "num_epoch: 8, train_loss: 0.47, val_loss: 0.68, val_acc: 0.61\n",
      "num_epoch: 9, train_loss: 0.46, val_loss: 0.70, val_acc: 0.61\n",
      "num_epoch: 10, train_loss: 0.47, val_loss: 0.73, val_acc: 0.68\n"
     ]
    }
   ],
   "source": [
    "history = fit(10,0.001,train_dominance_loader,val_dominance_loader,dominance_model)"
   ]
  },
  {
   "cell_type": "code",
   "execution_count": 33,
   "metadata": {
    "execution": {
     "iopub.execute_input": "2021-02-04T06:51:35.05294Z",
     "iopub.status.busy": "2021-02-04T06:51:35.051861Z",
     "iopub.status.idle": "2021-02-04T06:51:35.056667Z",
     "shell.execute_reply": "2021-02-04T06:51:35.05602Z"
    },
    "papermill": {
     "duration": 0.079197,
     "end_time": "2021-02-04T06:51:35.056794",
     "exception": false,
     "start_time": "2021-02-04T06:51:34.977597",
     "status": "completed"
    },
    "tags": []
   },
   "outputs": [
    {
     "name": "stderr",
     "output_type": "stream",
     "text": [
      "No handles with labels found to put in legend.\n"
     ]
    },
    {
     "data": {
      "image/png": "[encoded data removed]",
      "text/plain": [
       "<Figure size 1440x288 with 2 Axes>"
      ]
     },
     "metadata": {
      "needs_background": "light"
     },
     "output_type": "display_data"
    }
   ],
   "source": [
    "get_plot(history)"
   ]
  },
  {
   "cell_type": "code",
   "execution_count": 34,
   "metadata": {
    "execution": {
     "iopub.execute_input": "2021-02-04T06:51:35.17715Z",
     "iopub.status.busy": "2021-02-04T06:51:35.176131Z",
     "iopub.status.idle": "2021-02-04T06:51:35.180792Z",
     "shell.execute_reply": "2021-02-04T06:51:35.180193Z"
    },
    "papermill": {
     "duration": 0.072034,
     "end_time": "2021-02-04T06:51:35.180902",
     "exception": false,
     "start_time": "2021-02-04T06:51:35.108868",
     "status": "completed"
    },
    "tags": []
   },
   "outputs": [
    {
     "data": {
      "text/plain": [
       "{'val_loss': 0.7421495914459229, 'val_acc': 0.6193181872367859}"
      ]
     },
     "execution_count": 34,
     "metadata": {},
     "output_type": "execute_result"
    }
   ],
   "source": [
    "evaluate(dominance_model,test_dominance_loader)"
   ]
  },
  {
   "cell_type": "markdown",
   "metadata": {
    "papermill": {
     "duration": 0.052714,
     "end_time": "2021-02-04T06:51:35.291409",
     "exception": false,
     "start_time": "2021-02-04T06:51:35.238695",
     "status": "completed"
    },
    "tags": []
   },
   "source": [
    "# **LIKING:-**"
   ]
  },
  {
   "cell_type": "code",
   "execution_count": 35,
   "metadata": {
    "execution": {
     "iopub.execute_input": "2021-02-04T06:51:35.402577Z",
     "iopub.status.busy": "2021-02-04T06:51:35.401537Z",
     "iopub.status.idle": "2021-02-04T06:51:35.411067Z",
     "shell.execute_reply": "2021-02-04T06:51:35.410522Z"
    },
    "papermill": {
     "duration": 0.067001,
     "end_time": "2021-02-04T06:51:35.411191",
     "exception": false,
     "start_time": "2021-02-04T06:51:35.34419",
     "status": "completed"
    },
    "tags": []
   },
   "outputs": [],
   "source": [
    "liking_model= STFT()\n",
    "liking_model= liking_model.to(device)"
   ]
  },
  {
   "cell_type": "code",
   "execution_count": 36,
   "metadata": {
    "execution": {
     "iopub.execute_input": "2021-02-04T06:51:35.531745Z",
     "iopub.status.busy": "2021-02-04T06:51:35.530685Z",
     "iopub.status.idle": "2021-02-04T06:51:35.535426Z",
     "shell.execute_reply": "2021-02-04T06:51:35.534893Z"
    },
    "papermill": {
     "duration": 0.072533,
     "end_time": "2021-02-04T06:51:35.535529",
     "exception": false,
     "start_time": "2021-02-04T06:51:35.462996",
     "status": "completed"
    },
    "tags": []
   },
   "outputs": [
    {
     "name": "stdout",
     "output_type": "stream",
     "text": [
      "num_epoch: 1, train_loss: 0.60, val_loss: 0.60, val_acc: 0.71\n",
      "num_epoch: 2, train_loss: 0.55, val_loss: 0.59, val_acc: 0.72\n",
      "num_epoch: 3, train_loss: 0.55, val_loss: 0.59, val_acc: 0.71\n",
      "num_epoch: 4, train_loss: 0.53, val_loss: 0.58, val_acc: 0.73\n",
      "num_epoch: 5, train_loss: 0.52, val_loss: 0.61, val_acc: 0.71\n",
      "num_epoch: 6, train_loss: 0.50, val_loss: 0.57, val_acc: 0.73\n",
      "num_epoch: 7, train_loss: 0.49, val_loss: 0.59, val_acc: 0.73\n",
      "num_epoch: 8, train_loss: 0.47, val_loss: 0.60, val_acc: 0.72\n",
      "num_epoch: 9, train_loss: 0.42, val_loss: 0.68, val_acc: 0.69\n",
      "num_epoch: 10, train_loss: 0.40, val_loss: 0.61, val_acc: 0.72\n"
     ]
    }
   ],
   "source": [
    "history = fit(10,0.001,train_liking_loader,val_liking_loader,liking_model)"
   ]
  },
  {
   "cell_type": "code",
   "execution_count": 37,
   "metadata": {
    "execution": {
     "iopub.execute_input": "2021-02-04T06:51:35.658153Z",
     "iopub.status.busy": "2021-02-04T06:51:35.657073Z",
     "iopub.status.idle": "2021-02-04T06:51:35.661745Z",
     "shell.execute_reply": "2021-02-04T06:51:35.661158Z"
    },
    "papermill": {
     "duration": 0.07295,
     "end_time": "2021-02-04T06:51:35.661855",
     "exception": false,
     "start_time": "2021-02-04T06:51:35.588905",
     "status": "completed"
    },
    "tags": []
   },
   "outputs": [
    {
     "name": "stderr",
     "output_type": "stream",
     "text": [
      "No handles with labels found to put in legend.\n"
     ]
    },
    {
     "data": {
      "image/png": "[encoded data removed]",
      "text/plain": [
       "<Figure size 1440x288 with 2 Axes>"
      ]
     },
     "metadata": {
      "needs_background": "light"
     },
     "output_type": "display_data"
    }
   ],
   "source": [
    "get_plot(history)"
   ]
  },
  {
   "cell_type": "code",
   "execution_count": 38,
   "metadata": {
    "execution": {
     "iopub.execute_input": "2021-02-04T06:51:35.783395Z",
     "iopub.status.busy": "2021-02-04T06:51:35.782414Z",
     "iopub.status.idle": "2021-02-04T06:51:35.787084Z",
     "shell.execute_reply": "2021-02-04T06:51:35.786531Z"
    },
    "papermill": {
     "duration": 0.072097,
     "end_time": "2021-02-04T06:51:35.787197",
     "exception": false,
     "start_time": "2021-02-04T06:51:35.7151",
     "status": "completed"
    },
    "tags": []
   },
   "outputs": [
    {
     "data": {
      "text/plain": [
       "{'val_loss': 0.6848245859146118, 'val_acc': 0.6711647510528564}"
      ]
     },
     "execution_count": 38,
     "metadata": {},
     "output_type": "execute_result"
    }
   ],
   "source": [
    "evaluate(liking_model,test_liking_loader)"
   ]
  }
 ],
 "metadata": {
  "kernelspec": {
   "display_name": "Python 3",
   "language": "python",
   "name": "python3"
  },
  "language_info": {
   "codemirror_mode": {
    "name": "ipython",
    "version": 3
   },
   "file_extension": ".py",
   "mimetype": "text/x-python",
   "name": "python",
   "nbconvert_exporter": "python",
   "pygments_lexer": "ipython3",
   "version": "3.7.6"
  }
 },
 "nbformat": 4,
 "nbformat_minor": 4
}
