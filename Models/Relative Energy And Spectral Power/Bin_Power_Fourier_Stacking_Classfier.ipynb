{
 "cells": [
  {
   "cell_type": "code",
   "execution_count": 1,
   "metadata": {},
   "outputs": [],
   "source": [
    "# !pip install mlxtend"
   ]
  },
  {
   "cell_type": "code",
   "execution_count": 2,
   "metadata": {},
   "outputs": [],
   "source": [
    "import numpy as np\n",
    "import pandas as pd \n",
    "import pickle\n",
    "from sklearn.model_selection import train_test_split\n",
    "from sklearn.metrics import classification_report,confusion_matrix,plot_confusion_matrix\n",
    "from sklearn.preprocessing import StandardScaler\n",
    "from sklearn.metrics import accuracy_score\n",
    "from sklearn.model_selection import cross_val_score\n",
    "from sklearn.model_selection import ShuffleSplit,LeaveOneOut,KFold\n",
    "from sklearn.svm import SVC\n",
    "from imblearn.over_sampling import SMOTE\n",
    "import matplotlib.pyplot as plt\n",
    "import sys\n",
    "%matplotlib inline\n",
    "from sklearn.linear_model import LogisticRegression\n",
    "from sklearn.neighbors import KNeighborsClassifier\n",
    "from sklearn.naive_bayes import GaussianNB \n",
    "from sklearn.ensemble import RandomForestClassifier\n",
    "from mlxtend.classifier import StackingClassifier"
   ]
  },
  {
   "cell_type": "code",
   "execution_count": 3,
   "metadata": {},
   "outputs": [],
   "source": [
    "arousal_dataset = pickle.load(open(\"../../Dataset/RelativeEnergyData/fourier_realtive_energy_data.pkl\",\"rb\"))\n",
    "arousal_label = pickle.load(open(\"../../Dataset/UserLabels.pkl\",\"rb\"))[:,:1][:396]\n",
    "\n",
    "valence_dataset = pickle.load(open(\"../../Dataset/RelativeEnergyData/fourier_realtive_energy_data.pkl\",\"rb\"))\n",
    "valence_label = pickle.load(open(\"../../Dataset/UserLabels.pkl\",\"rb\"))[:, 1:2][:396]\n",
    "\n",
    "dominance_dataset = pickle.load(open(\"../../Dataset/RelativeEnergyData/fourier_realtive_energy_data.pkl\",\"rb\"))\n",
    "dominance_label = pickle.load(open(\"../../Dataset/UserLabels.pkl\",\"rb\"))[:,2:3][:396]\n",
    "\n",
    "liking_dataset = pickle.load(open(\"../../Dataset/RelativeEnergyData/fourier_realtive_energy_data.pkl\",\"rb\"))\n",
    "liking_label = pickle.load(open(\"../../Dataset/UserLabels.pkl\",\"rb\"))[:,3:4][:396]"
   ]
  },
  {
   "cell_type": "code",
   "execution_count": 4,
   "metadata": {},
   "outputs": [],
   "source": [
    "arousal_dataset = arousal_dataset.astype(float)\n",
    "arousal_label = arousal_label.astype(float)\n",
    "\n",
    "valence_dataset = valence_dataset.astype(float)\n",
    "valence_label = valence_label.astype(float)\n",
    "\n",
    "dominance_dataset = dominance_dataset.astype(float)\n",
    "dominance_label = dominance_label.astype(float)\n",
    "\n",
    "liking_dataset = liking_dataset.astype(float)\n",
    "liking_label = liking_label.astype(float)"
   ]
  },
  {
   "cell_type": "code",
   "execution_count": 5,
   "metadata": {},
   "outputs": [],
   "source": [
    "def getLabel(label):\n",
    "    new_label=[]\n",
    "    for i in range(len(label)):\n",
    "        if(label[i][0]>=4.5):\n",
    "            new_label.append(1)\n",
    "        else:\n",
    "            new_label.append(0)\n",
    "    return new_label"
   ]
  },
  {
   "cell_type": "code",
   "execution_count": 6,
   "metadata": {},
   "outputs": [],
   "source": [
    "# clean data\n",
    "def clean_data(dataset, target):\n",
    "    del_rows = []\n",
    "    for i in range(len(dataset)):\n",
    "        if(np.isnan(dataset[i]).sum() > 0):\n",
    "            del_rows.append(i)\n",
    "            \n",
    "    dataset = np.delete(dataset, del_rows, axis=0)\n",
    "    target = np.delete(target, del_rows, axis=0)\n",
    "    \n",
    "    return dataset,target"
   ]
  },
  {
   "cell_type": "code",
   "execution_count": 7,
   "metadata": {},
   "outputs": [],
   "source": [
    "arousal_dataset,arousal_label = clean_data(arousal_dataset,arousal_label)\n",
    "valence_dataset,valence_label = clean_data(valence_dataset,valence_label)\n",
    "dominance_dataset ,dominance_label = clean_data(dominance_dataset,dominance_label)\n",
    "liking_dataset,liking_label = clean_data(liking_dataset,liking_label)"
   ]
  },
  {
   "cell_type": "code",
   "execution_count": 8,
   "metadata": {},
   "outputs": [],
   "source": [
    "arousal_label = getLabel(arousal_label)\n",
    "valence_label = getLabel(valence_label)\n",
    "dominance_label = getLabel(dominance_label)\n",
    "liking_label = getLabel(liking_label)"
   ]
  },
  {
   "cell_type": "code",
   "execution_count": 9,
   "metadata": {},
   "outputs": [
    {
     "name": "stdout",
     "output_type": "stream",
     "text": [
      "(393, 70)\n"
     ]
    }
   ],
   "source": [
    "print(arousal_dataset.shape)"
   ]
  },
  {
   "cell_type": "code",
   "execution_count": 10,
   "metadata": {},
   "outputs": [],
   "source": [
    "sm1 = SMOTE()\n",
    "arousal_dataset,arousal_label = sm1.fit_resample(arousal_dataset,arousal_label)\n",
    "\n",
    "sm2 = SMOTE()\n",
    "valence_dataset,valence_label = sm2.fit_resample(valence_dataset,valence_label)\n",
    "\n",
    "sm3 = SMOTE()\n",
    "dominance_dataset,dominance_label = sm3.fit_resample(dominance_dataset,dominance_label)\n",
    "\n",
    "sm4 = SMOTE()\n",
    "liking_dataset,liking_label = sm4.fit_resample(liking_dataset,liking_label)"
   ]
  },
  {
   "cell_type": "code",
   "execution_count": 11,
   "metadata": {},
   "outputs": [],
   "source": [
    "sc = StandardScaler()\n",
    "\n",
    "arousal_dataset = sc.fit_transform(arousal_dataset)\n",
    "valence_dataset = sc.fit_transform(valence_dataset)\n",
    "dominance_dataset = sc.fit_transform(dominance_dataset)\n",
    "liking_dataset = sc.fit_transform(liking_dataset)"
   ]
  },
  {
   "cell_type": "code",
   "execution_count": 12,
   "metadata": {},
   "outputs": [],
   "source": [
    "clf1 = RandomForestClassifier(random_state=10)\n",
    "clf2 = GaussianNB()\n",
    "clf3= SVC(kernel=\"rbf\",C = 10)\n",
    "lr = LogisticRegression()\n",
    "sclf = StackingClassifier(classifiers=[ clf1, clf2,clf3], \n",
    "                          meta_classifier=lr)"
   ]
  },
  {
   "cell_type": "code",
   "execution_count": 13,
   "metadata": {},
   "outputs": [],
   "source": [
    "ar_model = sclf\n",
    "val_model =sclf\n",
    "dom_model = sclf\n",
    "lik_model = sclf"
   ]
  },
  {
   "cell_type": "code",
   "execution_count": 14,
   "metadata": {},
   "outputs": [],
   "source": [
    "x_a_train,x_a_test,y_a_train,y_a_test = train_test_split(arousal_dataset,arousal_label,test_size=0.2,random_state=42)\n",
    "x_v_train,x_v_test,y_v_train,y_v_test = train_test_split(valence_dataset,valence_label,test_size=0.2,random_state=42)\n",
    "x_d_train,x_d_test,y_d_train,y_d_test = train_test_split(dominance_dataset,dominance_label,test_size = 0.3,random_state = 42)\n",
    "x_l_train,x_l_test,y_l_train,y_l_test = train_test_split(liking_dataset,liking_label,test_size = 0.3,random_state = 42)"
   ]
  },
  {
   "cell_type": "markdown",
   "metadata": {},
   "source": [
    "## Arousal"
   ]
  },
  {
   "cell_type": "code",
   "execution_count": 15,
   "metadata": {},
   "outputs": [
    {
     "data": {
      "text/plain": [
       "StackingClassifier(classifiers=[RandomForestClassifier(random_state=10),\n",
       "                                GaussianNB(), SVC(C=10)],\n",
       "                   meta_classifier=LogisticRegression())"
      ]
     },
     "execution_count": 15,
     "metadata": {},
     "output_type": "execute_result"
    }
   ],
   "source": [
    "ar_model.fit(x_a_train,y_a_train)"
   ]
  },
  {
   "cell_type": "code",
   "execution_count": 16,
   "metadata": {},
   "outputs": [
    {
     "name": "stdout",
     "output_type": "stream",
     "text": [
      "              precision    recall  f1-score   support\n",
      "\n",
      "           0       0.79      0.76      0.77        54\n",
      "           1       0.75      0.78      0.76        50\n",
      "\n",
      "    accuracy                           0.77       104\n",
      "   macro avg       0.77      0.77      0.77       104\n",
      "weighted avg       0.77      0.77      0.77       104\n",
      "\n"
     ]
    }
   ],
   "source": [
    "pred_a = ar_model.predict(x_a_test)\n",
    "print(classification_report(y_a_test,pred_a))"
   ]
  },
  {
   "cell_type": "code",
   "execution_count": 17,
   "metadata": {},
   "outputs": [
    {
     "name": "stdout",
     "output_type": "stream",
     "text": [
      "0.7692307692307693\n"
     ]
    }
   ],
   "source": [
    "print(accuracy_score(pred_a,y_a_test))"
   ]
  },
  {
   "cell_type": "code",
   "execution_count": 18,
   "metadata": {},
   "outputs": [
    {
     "data": {
      "text/plain": [
       "77.93548387096776"
      ]
     },
     "execution_count": 18,
     "metadata": {},
     "output_type": "execute_result"
    }
   ],
   "source": [
    "cvkfold = ShuffleSplit(n_splits=5,test_size=0.3,random_state=42)\n",
    "cross_val_score(ar_model,arousal_dataset,arousal_label,scoring='accuracy',cv=cvkfold).mean()*100"
   ]
  },
  {
   "cell_type": "code",
   "execution_count": 19,
   "metadata": {},
   "outputs": [
    {
     "data": {
      "text/plain": [
       "516"
      ]
     },
     "execution_count": 19,
     "metadata": {},
     "output_type": "execute_result"
    }
   ],
   "source": [
    "loo = LeaveOneOut()\n",
    "no_splits=loo.get_n_splits(arousal_dataset)\n",
    "no_splits"
   ]
  },
  {
   "cell_type": "code",
   "execution_count": 20,
   "metadata": {},
   "outputs": [
    {
     "data": {
      "text/plain": [
       "77.6981745436359"
      ]
     },
     "execution_count": 20,
     "metadata": {},
     "output_type": "execute_result"
    }
   ],
   "source": [
    "cvloocv=ShuffleSplit(n_splits=no_splits,test_size=0.3,random_state=42)\n",
    "cross_val_score(ar_model,arousal_dataset,arousal_label,scoring='accuracy',cv=cvloocv).mean()*100"
   ]
  },
  {
   "cell_type": "markdown",
   "metadata": {},
   "source": [
    "## Valence"
   ]
  },
  {
   "cell_type": "code",
   "execution_count": 21,
   "metadata": {},
   "outputs": [
    {
     "data": {
      "text/plain": [
       "StackingClassifier(classifiers=[RandomForestClassifier(random_state=10),\n",
       "                                GaussianNB(), SVC(C=10)],\n",
       "                   meta_classifier=LogisticRegression())"
      ]
     },
     "execution_count": 21,
     "metadata": {},
     "output_type": "execute_result"
    }
   ],
   "source": [
    "val_model.fit(x_v_train,y_v_train)"
   ]
  },
  {
   "cell_type": "code",
   "execution_count": 22,
   "metadata": {},
   "outputs": [
    {
     "name": "stdout",
     "output_type": "stream",
     "text": [
      "              precision    recall  f1-score   support\n",
      "\n",
      "           0       0.63      0.69      0.66        49\n",
      "           1       0.62      0.55      0.58        44\n",
      "\n",
      "    accuracy                           0.62        93\n",
      "   macro avg       0.62      0.62      0.62        93\n",
      "weighted avg       0.62      0.62      0.62        93\n",
      "\n"
     ]
    }
   ],
   "source": [
    "pred_v = val_model.predict(x_v_test)\n",
    "print(classification_report(y_v_test,pred_v))"
   ]
  },
  {
   "cell_type": "code",
   "execution_count": 23,
   "metadata": {},
   "outputs": [
    {
     "name": "stdout",
     "output_type": "stream",
     "text": [
      "0.6236559139784946\n"
     ]
    }
   ],
   "source": [
    "print(accuracy_score(pred_v,y_v_test))"
   ]
  },
  {
   "cell_type": "code",
   "execution_count": 24,
   "metadata": {},
   "outputs": [
    {
     "data": {
      "text/plain": [
       "63.309352517985616"
      ]
     },
     "execution_count": 24,
     "metadata": {},
     "output_type": "execute_result"
    }
   ],
   "source": [
    "cvkfold = ShuffleSplit(n_splits=5,test_size=0.3,random_state=42)\n",
    "cross_val_score(val_model,valence_dataset,valence_label,scoring='accuracy',cv=cvkfold).mean()*100"
   ]
  },
  {
   "cell_type": "code",
   "execution_count": 25,
   "metadata": {},
   "outputs": [
    {
     "data": {
      "text/plain": [
       "462"
      ]
     },
     "execution_count": 25,
     "metadata": {},
     "output_type": "execute_result"
    }
   ],
   "source": [
    "loo = LeaveOneOut()\n",
    "no_splits=loo.get_n_splits(valence_dataset)\n",
    "no_splits"
   ]
  },
  {
   "cell_type": "code",
   "execution_count": 26,
   "metadata": {},
   "outputs": [
    {
     "data": {
      "text/plain": [
       "62.89669563050858"
      ]
     },
     "execution_count": 26,
     "metadata": {},
     "output_type": "execute_result"
    }
   ],
   "source": [
    "cvloocv=ShuffleSplit(n_splits=no_splits,test_size=0.3,random_state=42)\n",
    "cross_val_score(val_model,valence_dataset,valence_label,scoring='accuracy',cv=cvloocv).mean()*100"
   ]
  },
  {
   "cell_type": "markdown",
   "metadata": {},
   "source": [
    "## Dominance"
   ]
  },
  {
   "cell_type": "code",
   "execution_count": 27,
   "metadata": {},
   "outputs": [
    {
     "data": {
      "text/plain": [
       "StackingClassifier(classifiers=[RandomForestClassifier(random_state=10),\n",
       "                                GaussianNB(), SVC(C=10)],\n",
       "                   meta_classifier=LogisticRegression())"
      ]
     },
     "execution_count": 27,
     "metadata": {},
     "output_type": "execute_result"
    }
   ],
   "source": [
    "dom_model.fit(x_d_train,np.array(y_d_train))"
   ]
  },
  {
   "cell_type": "code",
   "execution_count": 28,
   "metadata": {},
   "outputs": [
    {
     "name": "stdout",
     "output_type": "stream",
     "text": [
      "              precision    recall  f1-score   support\n",
      "\n",
      "           0       0.74      0.71      0.73        69\n",
      "           1       0.69      0.73      0.71        62\n",
      "\n",
      "    accuracy                           0.72       131\n",
      "   macro avg       0.72      0.72      0.72       131\n",
      "weighted avg       0.72      0.72      0.72       131\n",
      "\n"
     ]
    }
   ],
   "source": [
    "pred_d = dom_model.predict(x_d_test)\n",
    "print(classification_report(y_d_test,pred_d))"
   ]
  },
  {
   "cell_type": "code",
   "execution_count": 29,
   "metadata": {},
   "outputs": [
    {
     "name": "stdout",
     "output_type": "stream",
     "text": [
      "0.7175572519083969\n"
     ]
    }
   ],
   "source": [
    "print(accuracy_score(pred_d,y_d_test))"
   ]
  },
  {
   "cell_type": "code",
   "execution_count": 30,
   "metadata": {},
   "outputs": [
    {
     "data": {
      "text/plain": [
       "66.56488549618321"
      ]
     },
     "execution_count": 30,
     "metadata": {},
     "output_type": "execute_result"
    }
   ],
   "source": [
    "cvkfold = ShuffleSplit(n_splits=5,test_size=0.3,random_state=42)\n",
    "cross_val_score(dom_model,dominance_dataset,dominance_label,scoring='accuracy',cv=cvkfold).mean()*100"
   ]
  },
  {
   "cell_type": "code",
   "execution_count": 31,
   "metadata": {},
   "outputs": [
    {
     "data": {
      "text/plain": [
       "434"
      ]
     },
     "execution_count": 31,
     "metadata": {},
     "output_type": "execute_result"
    }
   ],
   "source": [
    "loo = LeaveOneOut()\n",
    "no_splits=loo.get_n_splits(dominance_dataset)\n",
    "no_splits"
   ]
  },
  {
   "cell_type": "code",
   "execution_count": 32,
   "metadata": {},
   "outputs": [
    {
     "data": {
      "text/plain": [
       "67.54669856122699"
      ]
     },
     "execution_count": 32,
     "metadata": {},
     "output_type": "execute_result"
    }
   ],
   "source": [
    "cvloocv=ShuffleSplit(n_splits=no_splits,test_size=0.3,random_state=42)\n",
    "cross_val_score(dom_model,dominance_dataset,dominance_label,scoring='accuracy',cv=cvloocv).mean()*100"
   ]
  },
  {
   "cell_type": "markdown",
   "metadata": {},
   "source": [
    "## Liking"
   ]
  },
  {
   "cell_type": "code",
   "execution_count": 33,
   "metadata": {},
   "outputs": [
    {
     "data": {
      "text/plain": [
       "StackingClassifier(classifiers=[RandomForestClassifier(random_state=10),\n",
       "                                GaussianNB(), SVC(C=10)],\n",
       "                   meta_classifier=LogisticRegression())"
      ]
     },
     "execution_count": 33,
     "metadata": {},
     "output_type": "execute_result"
    }
   ],
   "source": [
    "lik_model.fit(x_l_train,np.array(y_l_train))"
   ]
  },
  {
   "cell_type": "code",
   "execution_count": 34,
   "metadata": {},
   "outputs": [
    {
     "name": "stdout",
     "output_type": "stream",
     "text": [
      "              precision    recall  f1-score   support\n",
      "\n",
      "           0       0.68      0.91      0.78        86\n",
      "           1       0.87      0.60      0.71        90\n",
      "\n",
      "    accuracy                           0.75       176\n",
      "   macro avg       0.78      0.75      0.75       176\n",
      "weighted avg       0.78      0.75      0.74       176\n",
      "\n"
     ]
    }
   ],
   "source": [
    "pred_l = lik_model.predict(x_l_test)\n",
    "print(classification_report(y_l_test,pred_l))"
   ]
  },
  {
   "cell_type": "code",
   "execution_count": 35,
   "metadata": {},
   "outputs": [
    {
     "name": "stdout",
     "output_type": "stream",
     "text": [
      "0.75\n"
     ]
    }
   ],
   "source": [
    "print(accuracy_score(pred_l,y_l_test))"
   ]
  },
  {
   "cell_type": "code",
   "execution_count": 36,
   "metadata": {},
   "outputs": [
    {
     "data": {
      "text/plain": [
       "79.77272727272727"
      ]
     },
     "execution_count": 36,
     "metadata": {},
     "output_type": "execute_result"
    }
   ],
   "source": [
    "cvkfold = ShuffleSplit(n_splits=5,test_size=0.3,random_state=42)\n",
    "cross_val_score(lik_model,liking_dataset,liking_label,scoring='accuracy',cv=cvkfold).mean()*100"
   ]
  },
  {
   "cell_type": "code",
   "execution_count": 37,
   "metadata": {},
   "outputs": [
    {
     "data": {
      "text/plain": [
       "584"
      ]
     },
     "execution_count": 37,
     "metadata": {},
     "output_type": "execute_result"
    }
   ],
   "source": [
    "loo = LeaveOneOut()\n",
    "no_splits=loo.get_n_splits(liking_dataset)\n",
    "no_splits"
   ]
  },
  {
   "cell_type": "code",
   "execution_count": 38,
   "metadata": {},
   "outputs": [
    {
     "data": {
      "text/plain": [
       "79.57658779576589"
      ]
     },
     "execution_count": 38,
     "metadata": {},
     "output_type": "execute_result"
    }
   ],
   "source": [
    "cvloocv=ShuffleSplit(n_splits=no_splits,test_size=0.3,random_state=42)\n",
    "cross_val_score(lik_model,liking_dataset,liking_label,scoring='accuracy',cv=cvloocv).mean()*100"
   ]
  }
 ],
 "metadata": {
  "kernelspec": {
   "display_name": "Python 3",
   "language": "python",
   "name": "python3"
  },
  "language_info": {
   "codemirror_mode": {
    "name": "ipython",
    "version": 3
   },
   "file_extension": ".py",
   "mimetype": "text/x-python",
   "name": "python",
   "nbconvert_exporter": "python",
   "pygments_lexer": "ipython3",
   "version": "3.7.6"
  }
 },
 "nbformat": 4,
 "nbformat_minor": 2
}
