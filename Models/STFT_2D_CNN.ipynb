{
 "cells": [
  {
   "cell_type": "code",
   "execution_count": 1,
   "metadata": {
    "execution": {
     "iopub.execute_input": "2021-01-18T09:46:18.903079Z",
     "iopub.status.busy": "2021-01-18T09:46:18.902222Z",
     "iopub.status.idle": "2021-01-18T09:46:19.837809Z",
     "shell.execute_reply": "2021-01-18T09:46:19.836745Z"
    },
    "papermill": {
     "duration": 0.977107,
     "end_time": "2021-01-18T09:46:19.837934",
     "exception": false,
     "start_time": "2021-01-18T09:46:18.860827",
     "status": "completed"
    },
    "tags": []
   },
   "outputs": [],
   "source": [
    "import numpy as np\n",
    "import pandas as pd\n",
    "from sklearn.model_selection import train_test_split\n",
    "from sklearn.preprocessing import StandardScaler"
   ]
  },
  {
   "cell_type": "code",
   "execution_count": 2,
   "metadata": {
    "execution": {
     "iopub.execute_input": "2021-01-18T09:46:19.885208Z",
     "iopub.status.busy": "2021-01-18T09:46:19.884627Z",
     "iopub.status.idle": "2021-01-18T09:46:21.248976Z",
     "shell.execute_reply": "2021-01-18T09:46:21.249460Z"
    },
    "id": "KX9JebafQwrI",
    "outputId": "78667e30-68cd-46f6-f530-d571aea50efa",
    "papermill": {
     "duration": 1.389796,
     "end_time": "2021-01-18T09:46:21.249607",
     "exception": false,
     "start_time": "2021-01-18T09:46:19.859811",
     "status": "completed"
    },
    "tags": []
   },
   "outputs": [
    {
     "data": {
      "text/plain": [
       "'1.7.0'"
      ]
     },
     "execution_count": 2,
     "metadata": {},
     "output_type": "execute_result"
    }
   ],
   "source": [
    "import torch\n",
    "torch.__version__"
   ]
  },
  {
   "cell_type": "code",
   "execution_count": 3,
   "metadata": {
    "execution": {
     "iopub.execute_input": "2021-01-18T09:46:21.300199Z",
     "iopub.status.busy": "2021-01-18T09:46:21.299299Z",
     "iopub.status.idle": "2021-01-18T09:46:21.434168Z",
     "shell.execute_reply": "2021-01-18T09:46:21.433534Z"
    },
    "id": "mxJjXR3URAea",
    "papermill": {
     "duration": 0.161801,
     "end_time": "2021-01-18T09:46:21.434280",
     "exception": false,
     "start_time": "2021-01-18T09:46:21.272479",
     "status": "completed"
    },
    "tags": []
   },
   "outputs": [],
   "source": [
    "import torch.nn as nn\n",
    "import torch.nn.functional as F\n",
    "from torch.utils.data import DataLoader,TensorDataset,random_split\n",
    "from torchvision.transforms import transforms"
   ]
  },
  {
   "cell_type": "code",
   "execution_count": 4,
   "metadata": {
    "execution": {
     "iopub.execute_input": "2021-01-18T09:46:21.484889Z",
     "iopub.status.busy": "2021-01-18T09:46:21.484160Z",
     "iopub.status.idle": "2021-01-18T09:46:21.488122Z",
     "shell.execute_reply": "2021-01-18T09:46:21.487625Z"
    },
    "papermill": {
     "duration": 0.031649,
     "end_time": "2021-01-18T09:46:21.488216",
     "exception": false,
     "start_time": "2021-01-18T09:46:21.456567",
     "status": "completed"
    },
    "tags": []
   },
   "outputs": [],
   "source": [
    "def get_train_labels(train_label):\n",
    "    for i,num in enumerate(train_label):\n",
    "        if(num> 4.5):\n",
    "            train_label[i] = 1\n",
    "        else:\n",
    "            train_label[i]= 0\n",
    "            \n",
    "    return train_label"
   ]
  },
  {
   "cell_type": "code",
   "execution_count": 5,
   "metadata": {
    "execution": {
     "iopub.execute_input": "2021-01-18T09:46:21.536455Z",
     "iopub.status.busy": "2021-01-18T09:46:21.535855Z",
     "iopub.status.idle": "2021-01-18T09:46:24.577493Z",
     "shell.execute_reply": "2021-01-18T09:46:24.578306Z"
    },
    "papermill": {
     "duration": 3.068126,
     "end_time": "2021-01-18T09:46:24.578541",
     "exception": false,
     "start_time": "2021-01-18T09:46:21.510415",
     "status": "completed"
    },
    "tags": []
   },
   "outputs": [],
   "source": [
    "with open('../input/stftnewdata/SFFTFinalData.npy', 'rb') as training_data:\n",
    "     X= np.load(training_data)"
   ]
  },
  {
   "cell_type": "code",
   "execution_count": 6,
   "metadata": {
    "execution": {
     "iopub.execute_input": "2021-01-18T09:46:24.651577Z",
     "iopub.status.busy": "2021-01-18T09:46:24.650667Z",
     "iopub.status.idle": "2021-01-18T09:46:24.655957Z",
     "shell.execute_reply": "2021-01-18T09:46:24.656657Z"
    },
    "papermill": {
     "duration": 0.044732,
     "end_time": "2021-01-18T09:46:24.656835",
     "exception": false,
     "start_time": "2021-01-18T09:46:24.612103",
     "status": "completed"
    },
    "tags": []
   },
   "outputs": [
    {
     "data": {
      "text/plain": [
       "(303475, 70)"
      ]
     },
     "execution_count": 6,
     "metadata": {},
     "output_type": "execute_result"
    }
   ],
   "source": [
    "X.shape"
   ]
  },
  {
   "cell_type": "code",
   "execution_count": 7,
   "metadata": {
    "execution": {
     "iopub.execute_input": "2021-01-18T09:46:24.730531Z",
     "iopub.status.busy": "2021-01-18T09:46:24.729646Z",
     "iopub.status.idle": "2021-01-18T09:46:24.767211Z",
     "shell.execute_reply": "2021-01-18T09:46:24.768438Z"
    },
    "papermill": {
     "duration": 0.07822,
     "end_time": "2021-01-18T09:46:24.768654",
     "exception": false,
     "start_time": "2021-01-18T09:46:24.690434",
     "status": "completed"
    },
    "tags": []
   },
   "outputs": [],
   "source": [
    "with open('../input/stftnewdata/SFFTFinalLabels.npy', 'rb') as training_labels:\n",
    "     Y= np.load(training_labels)"
   ]
  },
  {
   "cell_type": "code",
   "execution_count": 8,
   "metadata": {
    "execution": {
     "iopub.execute_input": "2021-01-18T09:46:24.892344Z",
     "iopub.status.busy": "2021-01-18T09:46:24.891328Z",
     "iopub.status.idle": "2021-01-18T09:46:27.222445Z",
     "shell.execute_reply": "2021-01-18T09:46:27.221459Z"
    },
    "papermill": {
     "duration": 2.402617,
     "end_time": "2021-01-18T09:46:27.222563",
     "exception": false,
     "start_time": "2021-01-18T09:46:24.819946",
     "status": "completed"
    },
    "tags": []
   },
   "outputs": [],
   "source": [
    "# cleaning nan\n",
    "del_rows = []\n",
    "for i in range(len(X)):\n",
    "    if(np.isnan(X[i]).sum()>0):\n",
    "        del_rows.append(i)\n",
    "        \n",
    "X = np.delete(X,del_rows,0)\n",
    "Y = np.delete(Y,del_rows,0)"
   ]
  },
  {
   "cell_type": "code",
   "execution_count": 9,
   "metadata": {
    "execution": {
     "iopub.execute_input": "2021-01-18T09:46:27.273470Z",
     "iopub.status.busy": "2021-01-18T09:46:27.272869Z",
     "iopub.status.idle": "2021-01-18T09:46:27.279107Z",
     "shell.execute_reply": "2021-01-18T09:46:27.278620Z"
    },
    "papermill": {
     "duration": 0.033051,
     "end_time": "2021-01-18T09:46:27.279198",
     "exception": false,
     "start_time": "2021-01-18T09:46:27.246147",
     "status": "completed"
    },
    "tags": []
   },
   "outputs": [
    {
     "data": {
      "text/plain": [
       "(302987, 2)"
      ]
     },
     "execution_count": 9,
     "metadata": {},
     "output_type": "execute_result"
    }
   ],
   "source": [
    "Y.shape"
   ]
  },
  {
   "cell_type": "code",
   "execution_count": 10,
   "metadata": {
    "execution": {
     "iopub.execute_input": "2021-01-18T09:46:27.331355Z",
     "iopub.status.busy": "2021-01-18T09:46:27.330429Z",
     "iopub.status.idle": "2021-01-18T09:46:27.335140Z",
     "shell.execute_reply": "2021-01-18T09:46:27.335603Z"
    },
    "papermill": {
     "duration": 0.033035,
     "end_time": "2021-01-18T09:46:27.335719",
     "exception": false,
     "start_time": "2021-01-18T09:46:27.302684",
     "status": "completed"
    },
    "tags": []
   },
   "outputs": [],
   "source": [
    "arousal_labels = np.ravel(Y[:, [0]])\n",
    "valence_labels = np.ravel(Y[:, [1]])"
   ]
  },
  {
   "cell_type": "code",
   "execution_count": 11,
   "metadata": {
    "execution": {
     "iopub.execute_input": "2021-01-18T09:46:27.410853Z",
     "iopub.status.busy": "2021-01-18T09:46:27.395474Z",
     "iopub.status.idle": "2021-01-18T09:46:27.558651Z",
     "shell.execute_reply": "2021-01-18T09:46:27.558166Z"
    },
    "papermill": {
     "duration": 0.199401,
     "end_time": "2021-01-18T09:46:27.558749",
     "exception": false,
     "start_time": "2021-01-18T09:46:27.359348",
     "status": "completed"
    },
    "tags": []
   },
   "outputs": [],
   "source": [
    "arousal_labels=get_train_labels(arousal_labels)"
   ]
  },
  {
   "cell_type": "code",
   "execution_count": 12,
   "metadata": {
    "execution": {
     "iopub.execute_input": "2021-01-18T09:46:27.624558Z",
     "iopub.status.busy": "2021-01-18T09:46:27.614275Z",
     "iopub.status.idle": "2021-01-18T09:46:27.787964Z",
     "shell.execute_reply": "2021-01-18T09:46:27.787444Z"
    },
    "papermill": {
     "duration": 0.205406,
     "end_time": "2021-01-18T09:46:27.788061",
     "exception": false,
     "start_time": "2021-01-18T09:46:27.582655",
     "status": "completed"
    },
    "tags": []
   },
   "outputs": [],
   "source": [
    "valence_labels = get_train_labels(valence_labels)"
   ]
  },
  {
   "cell_type": "code",
   "execution_count": 13,
   "metadata": {
    "execution": {
     "iopub.execute_input": "2021-01-18T09:46:27.844538Z",
     "iopub.status.busy": "2021-01-18T09:46:27.843777Z",
     "iopub.status.idle": "2021-01-18T09:46:27.846830Z",
     "shell.execute_reply": "2021-01-18T09:46:27.846356Z"
    },
    "papermill": {
     "duration": 0.032563,
     "end_time": "2021-01-18T09:46:27.846923",
     "exception": false,
     "start_time": "2021-01-18T09:46:27.814360",
     "status": "completed"
    },
    "tags": []
   },
   "outputs": [],
   "source": [
    "from sklearn.model_selection import train_test_split"
   ]
  },
  {
   "cell_type": "code",
   "execution_count": 14,
   "metadata": {
    "execution": {
     "iopub.execute_input": "2021-01-18T09:46:27.914439Z",
     "iopub.status.busy": "2021-01-18T09:46:27.913730Z",
     "iopub.status.idle": "2021-01-18T09:46:27.916901Z",
     "shell.execute_reply": "2021-01-18T09:46:27.916322Z"
    },
    "id": "JX_dmuAPRAgd",
    "papermill": {
     "duration": 0.045815,
     "end_time": "2021-01-18T09:46:27.916990",
     "exception": false,
     "start_time": "2021-01-18T09:46:27.871175",
     "status": "completed"
    },
    "tags": []
   },
   "outputs": [],
   "source": [
    "class SFTT(nn.Module):\n",
    "\n",
    "    def __init__(self):\n",
    "        super().__init__()\n",
    "        self.network = nn.Sequential(\n",
    "            nn.Conv2d(1,64,kernel_size=3,stride=1,padding=1),\n",
    "            nn.BatchNorm2d(64),\n",
    "            nn.ReLU(),\n",
    "            nn.MaxPool2d(2,2),\n",
    "            nn.Conv2d(64,128,kernel_size=3,stride=1,padding=1),\n",
    "            nn.BatchNorm2d(128),\n",
    "            nn.ReLU(),\n",
    "            nn.MaxPool2d(2,2),\n",
    "\n",
    "            nn.Conv2d(128,256,kernel_size=3,stride=1,padding=1),\n",
    "            nn.BatchNorm2d(256),\n",
    "            nn.ReLU(),\n",
    "            nn.AdaptiveAvgPool2d(1),\n",
    "\n",
    "            nn.Flatten(),\n",
    "            nn.Linear(256,128),\n",
    "            nn.Tanh(),\n",
    "            nn.Linear(128,64),\n",
    "            nn.Tanh(),\n",
    "            nn.Linear(64,1),\n",
    "            nn.Sigmoid()\n",
    "    )\n",
    "\n",
    "    def forward(self,xb):\n",
    "        out = self.network(xb)\n",
    "        return out\n",
    "  \n",
    "    def training_step(self,batch):\n",
    "        features,label = batch\n",
    "#         features.to_device\n",
    "#         label.to_device\n",
    "        out = self(features)\n",
    "        loss = F.binary_cross_entropy(out,label)\n",
    "        return loss\n",
    "\n",
    "    def validation_step(self,batch):\n",
    "        features,label = batch\n",
    "#         features.to_device\n",
    "#         label.to_device\n",
    "        out = self(features)\n",
    "        loss = F.binary_cross_entropy(out,label)\n",
    "        acc = accuracy(out,label)\n",
    "        return {\"val_loss\": loss.detach(),\"val_acc\": acc}\n",
    "\n",
    "    def validation_epoch_end(self,outputs):\n",
    "        batch_loss = [x['val_loss'] for x in outputs]\n",
    "        epoch_loss = torch.stack(batch_loss).mean()\n",
    "        batch_acc = [x['val_acc'] for x in outputs]\n",
    "        epoch_acc = torch.stack(batch_acc).mean()\n",
    "        return {\"val_loss\":epoch_loss.item(),\"val_acc\":epoch_acc.item()}\n",
    "\n",
    "    def epoch_end(self,num_epoch,results):\n",
    "        print(\"num_epoch: {}, train_loss: {:.2f}, val_loss: {:.2f}, val_acc: {:.2f}\".format(num_epoch+1,results['train_loss'],results['val_loss'], results['val_acc']))"
   ]
  },
  {
   "cell_type": "code",
   "execution_count": 15,
   "metadata": {
    "execution": {
     "iopub.execute_input": "2021-01-18T09:46:27.977564Z",
     "iopub.status.busy": "2021-01-18T09:46:27.976769Z",
     "iopub.status.idle": "2021-01-18T09:46:27.979189Z",
     "shell.execute_reply": "2021-01-18T09:46:27.979731Z"
    },
    "id": "2_qpGIGcRrnt",
    "papermill": {
     "duration": 0.037819,
     "end_time": "2021-01-18T09:46:27.979840",
     "exception": false,
     "start_time": "2021-01-18T09:46:27.942021",
     "status": "completed"
    },
    "tags": []
   },
   "outputs": [],
   "source": [
    "def accuracy(out,label):\n",
    "    out = (out>0.5)\n",
    "    pred = (out == label).sum()\n",
    "    return pred/out.shape[0]\n",
    "\n",
    "def evaluate(model,val_loader):\n",
    "    outputs = [model.validation_step(batch) for batch in val_loader]\n",
    "    return model.validation_epoch_end(outputs)\n",
    "\n",
    "def fit(num_epochs,lr,train_loader,val_loader,model,opt_func=torch.optim.Adam):\n",
    "    optimizer = opt_func(model.parameters(),lr)\n",
    "    history = []\n",
    "    for epoch in range(num_epochs):\n",
    "        train_losses = []\n",
    "        for batch in train_loader:\n",
    "            loss = model.training_step(batch)\n",
    "            train_losses.append(loss)\n",
    "            loss.backward()\n",
    "            optimizer.step()\n",
    "            optimizer.zero_grad()\n",
    "\n",
    "        results = evaluate(model,val_loader)\n",
    "        train_loss = torch.stack(train_losses).mean().item()\n",
    "        results['train_loss'] = train_loss\n",
    "        model.epoch_end(epoch,results)\n",
    "        history.append(results)\n",
    "    return history"
   ]
  },
  {
   "cell_type": "code",
   "execution_count": 16,
   "metadata": {
    "execution": {
     "iopub.execute_input": "2021-01-18T09:46:28.039090Z",
     "iopub.status.busy": "2021-01-18T09:46:28.038325Z",
     "iopub.status.idle": "2021-01-18T09:46:28.040894Z",
     "shell.execute_reply": "2021-01-18T09:46:28.041412Z"
    },
    "id": "DkWl66m-WvlI",
    "papermill": {
     "duration": 0.037402,
     "end_time": "2021-01-18T09:46:28.041519",
     "exception": false,
     "start_time": "2021-01-18T09:46:28.004117",
     "status": "completed"
    },
    "tags": []
   },
   "outputs": [],
   "source": [
    "def get_default_device():\n",
    "    \"\"\"Pick GPU if available, else CPU\"\"\"\n",
    "    if torch.cuda.is_available():\n",
    "        return torch.device('cuda')\n",
    "    else:\n",
    "        return torch.device('cpu')\n",
    "    \n",
    "def to_device(data, device):\n",
    "    \"\"\"Move tensor(s) to chosen device\"\"\"\n",
    "    if isinstance(data, (list,tuple)):\n",
    "        return [to_device(x, device) for x in data]\n",
    "    return data.to(device, non_blocking=True)\n",
    "\n",
    "class DeviceDataLoader():\n",
    "    \"\"\"Wrap a dataloader to move data to a device\"\"\"\n",
    "    def __init__(self, dl, device):\n",
    "        self.dl = dl\n",
    "        self.device = device\n",
    "        \n",
    "    def __iter__(self):\n",
    "        \"\"\"Yield a batch of data after moving it to device\"\"\"\n",
    "        for b in self.dl: \n",
    "            yield to_device(b, self.device)\n",
    "\n",
    "    def __len__(self):\n",
    "        \"\"\"Number of batches\"\"\"\n",
    "        return len(self.dl)"
   ]
  },
  {
   "cell_type": "markdown",
   "metadata": {
    "papermill": {
     "duration": 0.024606,
     "end_time": "2021-01-18T09:46:28.090592",
     "exception": false,
     "start_time": "2021-01-18T09:46:28.065986",
     "status": "completed"
    },
    "tags": []
   },
   "source": [
    "# Splitting the Dataset Of Arousal:-"
   ]
  },
  {
   "cell_type": "code",
   "execution_count": 17,
   "metadata": {
    "execution": {
     "iopub.execute_input": "2021-01-18T09:46:28.145704Z",
     "iopub.status.busy": "2021-01-18T09:46:28.144798Z",
     "iopub.status.idle": "2021-01-18T09:46:28.312021Z",
     "shell.execute_reply": "2021-01-18T09:46:28.311492Z"
    },
    "papermill": {
     "duration": 0.196796,
     "end_time": "2021-01-18T09:46:28.312138",
     "exception": false,
     "start_time": "2021-01-18T09:46:28.115342",
     "status": "completed"
    },
    "tags": []
   },
   "outputs": [],
   "source": [
    "x_a_train,x_a_test,y_a_train,y_a_test=train_test_split(X,np.array(arousal_labels), test_size=0.3,random_state=42)\n",
    "x_v_train,x_v_test,y_v_train,y_v_test=train_test_split(X,np.array(valence_labels), test_size=0.3,random_state=42)"
   ]
  },
  {
   "cell_type": "code",
   "execution_count": 18,
   "metadata": {
    "execution": {
     "iopub.execute_input": "2021-01-18T09:46:28.367840Z",
     "iopub.status.busy": "2021-01-18T09:46:28.366864Z",
     "iopub.status.idle": "2021-01-18T09:46:29.311086Z",
     "shell.execute_reply": "2021-01-18T09:46:29.310509Z"
    },
    "papermill": {
     "duration": 0.974097,
     "end_time": "2021-01-18T09:46:29.311196",
     "exception": false,
     "start_time": "2021-01-18T09:46:28.337099",
     "status": "completed"
    },
    "tags": []
   },
   "outputs": [],
   "source": [
    "scaler = StandardScaler()\n",
    "x_a_train = scaler.fit_transform(x_a_train)\n",
    "x_a_test = scaler.fit_transform(x_a_test)\n",
    "\n",
    "x_v_train = scaler.fit_transform(x_v_train)\n",
    "x_v_test = scaler.fit_transform(x_v_test)"
   ]
  },
  {
   "cell_type": "code",
   "execution_count": 19,
   "metadata": {
    "execution": {
     "iopub.execute_input": "2021-01-18T09:46:29.379780Z",
     "iopub.status.busy": "2021-01-18T09:46:29.379080Z",
     "iopub.status.idle": "2021-01-18T09:46:29.508826Z",
     "shell.execute_reply": "2021-01-18T09:46:29.508286Z"
    },
    "papermill": {
     "duration": 0.172469,
     "end_time": "2021-01-18T09:46:29.508941",
     "exception": false,
     "start_time": "2021-01-18T09:46:29.336472",
     "status": "completed"
    },
    "tags": []
   },
   "outputs": [],
   "source": [
    "train_a_tensor = torch.tensor(x_a_train,dtype=torch.float32)\n",
    "train_a_label = torch.tensor(y_a_train,dtype=torch.float32)\n",
    "\n",
    "test_a_tensor =torch.tensor(x_a_test,dtype=torch.float32)\n",
    "test_a_label = torch.tensor(y_a_test,dtype=torch.float32)\n",
    "\n",
    "\n",
    "train_v_tensor = torch.tensor(x_v_train,dtype=torch.float32)\n",
    "train_v_label = torch.tensor(y_v_train,dtype=torch.float32)\n",
    "\n",
    "test_v_tensor =torch.tensor(x_v_test,dtype=torch.float32)\n",
    "test_v_label = torch.tensor(y_v_test,dtype=torch.float32)"
   ]
  },
  {
   "cell_type": "code",
   "execution_count": 20,
   "metadata": {
    "execution": {
     "iopub.execute_input": "2021-01-18T09:46:29.597143Z",
     "iopub.status.busy": "2021-01-18T09:46:29.596563Z",
     "iopub.status.idle": "2021-01-18T09:46:29.603625Z",
     "shell.execute_reply": "2021-01-18T09:46:29.604054Z"
    },
    "papermill": {
     "duration": 0.037228,
     "end_time": "2021-01-18T09:46:29.604168",
     "exception": false,
     "start_time": "2021-01-18T09:46:29.566940",
     "status": "completed"
    },
    "tags": []
   },
   "outputs": [],
   "source": [
    "train_a_label=train_a_label.unsqueeze(1)\n",
    "test_a_label=test_a_label.unsqueeze(1)\n",
    "\n",
    "train_v_label=train_v_label.unsqueeze(1)\n",
    "test_v_label=test_v_label.unsqueeze(1)"
   ]
  },
  {
   "cell_type": "code",
   "execution_count": 21,
   "metadata": {
    "execution": {
     "iopub.execute_input": "2021-01-18T09:46:29.663997Z",
     "iopub.status.busy": "2021-01-18T09:46:29.663272Z",
     "iopub.status.idle": "2021-01-18T09:46:29.666601Z",
     "shell.execute_reply": "2021-01-18T09:46:29.667066Z"
    },
    "papermill": {
     "duration": 0.037874,
     "end_time": "2021-01-18T09:46:29.667203",
     "exception": false,
     "start_time": "2021-01-18T09:46:29.629329",
     "status": "completed"
    },
    "tags": []
   },
   "outputs": [],
   "source": [
    "train_a_tensor=train_a_tensor.reshape(train_a_tensor.shape[0],1,10,7)\n",
    "test_a_tensor=test_a_tensor.reshape(test_a_tensor.shape[0],1,10,7)\n",
    "\n",
    "train_v_tensor=train_v_tensor.reshape(train_v_tensor.shape[0],1,10,7)\n",
    "test_v_tensor=test_v_tensor.reshape(test_v_tensor.shape[0],1,10,7)"
   ]
  },
  {
   "cell_type": "code",
   "execution_count": 22,
   "metadata": {
    "execution": {
     "iopub.execute_input": "2021-01-18T09:46:29.725962Z",
     "iopub.status.busy": "2021-01-18T09:46:29.724561Z",
     "iopub.status.idle": "2021-01-18T09:46:29.728619Z",
     "shell.execute_reply": "2021-01-18T09:46:29.726603Z"
    },
    "papermill": {
     "duration": 0.036128,
     "end_time": "2021-01-18T09:46:29.728762",
     "exception": false,
     "start_time": "2021-01-18T09:46:29.692634",
     "status": "completed"
    },
    "tags": []
   },
   "outputs": [
    {
     "name": "stdout",
     "output_type": "stream",
     "text": [
      "Train Tensor shape torch.Size([212090, 1, 10, 7])\n",
      "Test Tensor shape torch.Size([90897, 1, 10, 7])\n"
     ]
    }
   ],
   "source": [
    "print(\"Train Tensor shape\",train_a_tensor.shape)\n",
    "print(\"Test Tensor shape\",test_a_tensor.shape)"
   ]
  },
  {
   "cell_type": "code",
   "execution_count": 23,
   "metadata": {
    "execution": {
     "iopub.execute_input": "2021-01-18T09:46:29.815671Z",
     "iopub.status.busy": "2021-01-18T09:46:29.814791Z",
     "iopub.status.idle": "2021-01-18T09:46:29.820433Z",
     "shell.execute_reply": "2021-01-18T09:46:29.821157Z"
    },
    "papermill": {
     "duration": 0.05159,
     "end_time": "2021-01-18T09:46:29.821317",
     "exception": false,
     "start_time": "2021-01-18T09:46:29.769727",
     "status": "completed"
    },
    "tags": []
   },
   "outputs": [],
   "source": [
    "train_arousal = TensorDataset(train_a_tensor, train_a_label)\n",
    "test_arousal = TensorDataset(test_a_tensor, test_a_label)\n",
    "\n",
    "train_valence = TensorDataset(train_v_tensor, train_v_label)\n",
    "test_valence =TensorDataset(test_v_tensor, test_v_label)"
   ]
  },
  {
   "cell_type": "code",
   "execution_count": 24,
   "metadata": {
    "execution": {
     "iopub.execute_input": "2021-01-18T09:46:29.890242Z",
     "iopub.status.busy": "2021-01-18T09:46:29.889580Z",
     "iopub.status.idle": "2021-01-18T09:46:29.932792Z",
     "shell.execute_reply": "2021-01-18T09:46:29.933383Z"
    },
    "papermill": {
     "duration": 0.075905,
     "end_time": "2021-01-18T09:46:29.933552",
     "exception": false,
     "start_time": "2021-01-18T09:46:29.857647",
     "status": "completed"
    },
    "tags": []
   },
   "outputs": [],
   "source": [
    "val_size = int(0.2 * len(train_arousal))\n",
    "train_size = len(train_arousal) - val_size\n",
    "\n",
    "train_a_ds,val_a_ds = random_split(train_arousal,[train_size,val_size])\n",
    "\n",
    "train_v_ds,val_v_ds = random_split(train_valence,[train_size,val_size])"
   ]
  },
  {
   "cell_type": "code",
   "execution_count": 25,
   "metadata": {
    "execution": {
     "iopub.execute_input": "2021-01-18T09:46:30.365663Z",
     "iopub.status.busy": "2021-01-18T09:46:30.362606Z",
     "iopub.status.idle": "2021-01-18T09:46:30.371668Z",
     "shell.execute_reply": "2021-01-18T09:46:30.370707Z"
    },
    "id": "fniNBiZdWySs",
    "outputId": "2960d776-baf1-4882-d977-e5cbebcc83c0",
    "papermill": {
     "duration": 0.411512,
     "end_time": "2021-01-18T09:46:30.371780",
     "exception": false,
     "start_time": "2021-01-18T09:46:29.960268",
     "status": "completed"
    },
    "tags": []
   },
   "outputs": [
    {
     "data": {
      "text/plain": [
       "device(type='cuda')"
      ]
     },
     "execution_count": 25,
     "metadata": {},
     "output_type": "execute_result"
    }
   ],
   "source": [
    "device = get_default_device()\n",
    "device"
   ]
  },
  {
   "cell_type": "code",
   "execution_count": 26,
   "metadata": {
    "execution": {
     "iopub.execute_input": "2021-01-18T09:46:30.441783Z",
     "iopub.status.busy": "2021-01-18T09:46:30.439750Z",
     "iopub.status.idle": "2021-01-18T09:46:30.442519Z",
     "shell.execute_reply": "2021-01-18T09:46:30.443088Z"
    },
    "papermill": {
     "duration": 0.041967,
     "end_time": "2021-01-18T09:46:30.443216",
     "exception": false,
     "start_time": "2021-01-18T09:46:30.401249",
     "status": "completed"
    },
    "tags": []
   },
   "outputs": [],
   "source": [
    "batch_size = 32\n",
    "train_arousal_loader =  DataLoader(train_a_ds,batch_size=batch_size,shuffle=True)\n",
    "val_arousal_loader =  DataLoader(val_a_ds,batch_size=batch_size,shuffle=True)\n",
    "test_arousal_loader =  DataLoader(test_arousal,batch_size=batch_size,shuffle=True)\n",
    "\n",
    "batch_size = 32\n",
    "train_valence_loader =  DataLoader(train_v_ds,batch_size=batch_size,shuffle=True)\n",
    "val_valence_loader =  DataLoader(val_v_ds,batch_size=batch_size,shuffle=True)\n",
    "test_valence_loader =  DataLoader(test_valence,batch_size=batch_size,shuffle=True)"
   ]
  },
  {
   "cell_type": "code",
   "execution_count": 27,
   "metadata": {
    "execution": {
     "iopub.execute_input": "2021-01-18T09:46:30.512341Z",
     "iopub.status.busy": "2021-01-18T09:46:30.511433Z",
     "iopub.status.idle": "2021-01-18T09:46:30.515074Z",
     "shell.execute_reply": "2021-01-18T09:46:30.514486Z"
    },
    "papermill": {
     "duration": 0.041471,
     "end_time": "2021-01-18T09:46:30.515189",
     "exception": false,
     "start_time": "2021-01-18T09:46:30.473718",
     "status": "completed"
    },
    "tags": []
   },
   "outputs": [],
   "source": [
    "train_arousal_loader=DeviceDataLoader(train_arousal_loader,device)\n",
    "val_arousal_loader=DeviceDataLoader(val_arousal_loader,device)\n",
    "test_arousal_loader=DeviceDataLoader(test_arousal_loader,device)\n",
    "\n",
    "\n",
    "train_valence_loader = DeviceDataLoader(train_valence_loader,device)\n",
    "val_valence_loader = DeviceDataLoader(val_valence_loader,device)\n",
    "test_valence_loader = DeviceDataLoader(test_valence_loader,device)"
   ]
  },
  {
   "cell_type": "code",
   "execution_count": 28,
   "metadata": {
    "execution": {
     "iopub.execute_input": "2021-01-18T09:46:30.596884Z",
     "iopub.status.busy": "2021-01-18T09:46:30.595290Z",
     "iopub.status.idle": "2021-01-18T09:46:35.115042Z",
     "shell.execute_reply": "2021-01-18T09:46:35.113867Z"
    },
    "id": "sZWMo2LQXGYj",
    "papermill": {
     "duration": 4.568312,
     "end_time": "2021-01-18T09:46:35.115174",
     "exception": false,
     "start_time": "2021-01-18T09:46:30.546862",
     "status": "completed"
    },
    "tags": []
   },
   "outputs": [],
   "source": [
    "arousal_model= SFTT()\n",
    "arousal_model= arousal_model.to(device)"
   ]
  },
  {
   "cell_type": "code",
   "execution_count": 29,
   "metadata": {
    "execution": {
     "iopub.execute_input": "2021-01-18T09:46:35.179587Z",
     "iopub.status.busy": "2021-01-18T09:46:35.178675Z",
     "iopub.status.idle": "2021-01-18T09:52:08.399455Z",
     "shell.execute_reply": "2021-01-18T09:52:08.400227Z"
    },
    "id": "r5HwvdzzXRLw",
    "papermill": {
     "duration": 333.256965,
     "end_time": "2021-01-18T09:52:08.400442",
     "exception": false,
     "start_time": "2021-01-18T09:46:35.143477",
     "status": "completed"
    },
    "tags": []
   },
   "outputs": [
    {
     "name": "stdout",
     "output_type": "stream",
     "text": [
      "num_epoch: 1, train_loss: 0.26, val_loss: 0.18, val_acc: 0.92\n",
      "num_epoch: 2, train_loss: 0.16, val_loss: 0.14, val_acc: 0.94\n",
      "num_epoch: 3, train_loss: 0.13, val_loss: 0.12, val_acc: 0.95\n",
      "num_epoch: 4, train_loss: 0.10, val_loss: 0.12, val_acc: 0.95\n",
      "num_epoch: 5, train_loss: 0.09, val_loss: 0.09, val_acc: 0.96\n",
      "num_epoch: 6, train_loss: 0.08, val_loss: 0.09, val_acc: 0.97\n",
      "num_epoch: 7, train_loss: 0.07, val_loss: 0.08, val_acc: 0.97\n",
      "num_epoch: 8, train_loss: 0.06, val_loss: 0.07, val_acc: 0.97\n",
      "num_epoch: 9, train_loss: 0.05, val_loss: 0.07, val_acc: 0.97\n",
      "num_epoch: 10, train_loss: 0.05, val_loss: 0.07, val_acc: 0.98\n"
     ]
    }
   ],
   "source": [
    "history = fit(10,0.001,train_arousal_loader,val_arousal_loader,arousal_model)"
   ]
  },
  {
   "cell_type": "code",
   "execution_count": 30,
   "metadata": {
    "execution": {
     "iopub.execute_input": "2021-01-18T09:52:08.473246Z",
     "iopub.status.busy": "2021-01-18T09:52:08.472650Z",
     "iopub.status.idle": "2021-01-18T09:52:13.523177Z",
     "shell.execute_reply": "2021-01-18T09:52:13.524069Z"
    },
    "papermill": {
     "duration": 5.085935,
     "end_time": "2021-01-18T09:52:13.524221",
     "exception": false,
     "start_time": "2021-01-18T09:52:08.438286",
     "status": "completed"
    },
    "tags": []
   },
   "outputs": [
    {
     "data": {
      "text/plain": [
       "{'val_loss': 0.06585682928562164, 'val_acc': 0.9758228063583374}"
      ]
     },
     "execution_count": 30,
     "metadata": {},
     "output_type": "execute_result"
    }
   ],
   "source": [
    "evaluate(arousal_model,test_arousal_loader)"
   ]
  },
  {
   "cell_type": "code",
   "execution_count": 31,
   "metadata": {
    "execution": {
     "iopub.execute_input": "2021-01-18T09:52:13.592823Z",
     "iopub.status.busy": "2021-01-18T09:52:13.592033Z",
     "iopub.status.idle": "2021-01-18T09:52:13.601556Z",
     "shell.execute_reply": "2021-01-18T09:52:13.601037Z"
    },
    "papermill": {
     "duration": 0.0454,
     "end_time": "2021-01-18T09:52:13.601658",
     "exception": false,
     "start_time": "2021-01-18T09:52:13.556258",
     "status": "completed"
    },
    "tags": []
   },
   "outputs": [],
   "source": [
    "valence_model= SFTT()\n",
    "valence_model= valence_model.to(device)"
   ]
  },
  {
   "cell_type": "code",
   "execution_count": 32,
   "metadata": {
    "execution": {
     "iopub.execute_input": "2021-01-18T09:52:13.669241Z",
     "iopub.status.busy": "2021-01-18T09:52:13.668506Z",
     "iopub.status.idle": "2021-01-18T09:57:48.934817Z",
     "shell.execute_reply": "2021-01-18T09:57:48.935363Z"
    },
    "papermill": {
     "duration": 335.302681,
     "end_time": "2021-01-18T09:57:48.935548",
     "exception": false,
     "start_time": "2021-01-18T09:52:13.632867",
     "status": "completed"
    },
    "tags": []
   },
   "outputs": [
    {
     "name": "stdout",
     "output_type": "stream",
     "text": [
      "num_epoch: 1, train_loss: 0.32, val_loss: 0.24, val_acc: 0.89\n",
      "num_epoch: 2, train_loss: 0.21, val_loss: 0.20, val_acc: 0.91\n",
      "num_epoch: 3, train_loss: 0.17, val_loss: 0.17, val_acc: 0.93\n",
      "num_epoch: 4, train_loss: 0.14, val_loss: 0.14, val_acc: 0.94\n",
      "num_epoch: 5, train_loss: 0.12, val_loss: 0.13, val_acc: 0.95\n",
      "num_epoch: 6, train_loss: 0.10, val_loss: 0.12, val_acc: 0.95\n",
      "num_epoch: 7, train_loss: 0.09, val_loss: 0.11, val_acc: 0.96\n",
      "num_epoch: 8, train_loss: 0.08, val_loss: 0.10, val_acc: 0.96\n",
      "num_epoch: 9, train_loss: 0.07, val_loss: 0.09, val_acc: 0.97\n",
      "num_epoch: 10, train_loss: 0.07, val_loss: 0.09, val_acc: 0.97\n"
     ]
    }
   ],
   "source": [
    "history = fit(10,0.001,train_valence_loader,val_valence_loader,valence_model)"
   ]
  },
  {
   "cell_type": "code",
   "execution_count": 33,
   "metadata": {
    "execution": {
     "iopub.execute_input": "2021-01-18T09:57:49.011112Z",
     "iopub.status.busy": "2021-01-18T09:57:49.010285Z",
     "iopub.status.idle": "2021-01-18T09:57:54.000534Z",
     "shell.execute_reply": "2021-01-18T09:57:53.999546Z"
    },
    "papermill": {
     "duration": 5.029846,
     "end_time": "2021-01-18T09:57:54.000663",
     "exception": false,
     "start_time": "2021-01-18T09:57:48.970817",
     "status": "completed"
    },
    "tags": []
   },
   "outputs": [
    {
     "data": {
      "text/plain": [
       "{'val_loss': 0.08377226442098618, 'val_acc': 0.9674546122550964}"
      ]
     },
     "execution_count": 33,
     "metadata": {},
     "output_type": "execute_result"
    }
   ],
   "source": [
    "evaluate(valence_model,test_valence_loader)"
   ]
  }
 ],
 "metadata": {
  "kernelspec": {
   "display_name": "Python 3",
   "language": "python",
   "name": "python3"
  },
  "language_info": {
   "codemirror_mode": {
    "name": "ipython",
    "version": 3
   },
   "file_extension": ".py",
   "mimetype": "text/x-python",
   "name": "python",
   "nbconvert_exporter": "python",
   "pygments_lexer": "ipython3",
   "version": "3.7.6"
  },
  "papermill": {
   "duration": 699.60239,
   "end_time": "2021-01-18T09:57:54.449337",
   "environment_variables": {},
   "exception": null,
   "input_path": "__notebook__.ipynb",
   "output_path": "__notebook__.ipynb",
   "parameters": {},
   "start_time": "2021-01-18T09:46:14.846947",
   "version": "2.1.0"
  }
 },
 "nbformat": 4,
 "nbformat_minor": 4
}
