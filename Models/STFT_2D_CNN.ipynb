{
 "cells": [
  {
   "cell_type": "code",
   "execution_count": 1,
   "metadata": {
    "execution": {
     "iopub.execute_input": "2021-01-22T06:58:51.428349Z",
     "iopub.status.busy": "2021-01-22T06:58:51.427593Z",
     "iopub.status.idle": "2021-01-22T06:58:52.329029Z",
     "shell.execute_reply": "2021-01-22T06:58:52.328335Z"
    },
    "papermill": {
     "duration": 0.931944,
     "end_time": "2021-01-22T06:58:52.329152",
     "exception": false,
     "start_time": "2021-01-22T06:58:51.397208",
     "status": "completed"
    },
    "tags": []
   },
   "outputs": [],
   "source": [
    "import numpy as np\n",
    "import pandas as pd\n",
    "from sklearn.model_selection import train_test_split\n",
    "from sklearn.preprocessing import StandardScaler\n",
    "import matplotlib.pyplot as plt"
   ]
  },
  {
   "cell_type": "code",
   "execution_count": 2,
   "metadata": {
    "execution": {
     "iopub.execute_input": "2021-01-22T06:58:52.380889Z",
     "iopub.status.busy": "2021-01-22T06:58:52.380270Z",
     "iopub.status.idle": "2021-01-22T06:58:53.908417Z",
     "shell.execute_reply": "2021-01-22T06:58:53.909574Z"
    },
    "id": "KX9JebafQwrI",
    "outputId": "78667e30-68cd-46f6-f530-d571aea50efa",
    "papermill": {
     "duration": 1.556651,
     "end_time": "2021-01-22T06:58:53.909784",
     "exception": false,
     "start_time": "2021-01-22T06:58:52.353133",
     "status": "completed"
    },
    "tags": []
   },
   "outputs": [
    {
     "data": {
      "text/plain": [
       "'1.7.0'"
      ]
     },
     "execution_count": 2,
     "metadata": {},
     "output_type": "execute_result"
    }
   ],
   "source": [
    "import torch\n",
    "torch.__version__"
   ]
  },
  {
   "cell_type": "code",
   "execution_count": 3,
   "metadata": {
    "execution": {
     "iopub.execute_input": "2021-01-22T06:58:53.990201Z",
     "iopub.status.busy": "2021-01-22T06:58:53.988678Z",
     "iopub.status.idle": "2021-01-22T06:58:54.155408Z",
     "shell.execute_reply": "2021-01-22T06:58:54.156548Z"
    },
    "id": "mxJjXR3URAea",
    "papermill": {
     "duration": 0.210182,
     "end_time": "2021-01-22T06:58:54.156753",
     "exception": false,
     "start_time": "2021-01-22T06:58:53.946571",
     "status": "completed"
    },
    "tags": []
   },
   "outputs": [],
   "source": [
    "import torch.nn as nn\n",
    "import torch.nn.functional as F\n",
    "from torch.utils.data import DataLoader,TensorDataset,random_split\n",
    "from torchvision.transforms import transforms"
   ]
  },
  {
   "cell_type": "code",
   "execution_count": 4,
   "metadata": {
    "execution": {
     "iopub.execute_input": "2021-01-22T06:58:54.228649Z",
     "iopub.status.busy": "2021-01-22T06:58:54.226834Z",
     "iopub.status.idle": "2021-01-22T06:58:54.229346Z",
     "shell.execute_reply": "2021-01-22T06:58:54.229837Z"
    },
    "papermill": {
     "duration": 0.033443,
     "end_time": "2021-01-22T06:58:54.229958",
     "exception": false,
     "start_time": "2021-01-22T06:58:54.196515",
     "status": "completed"
    },
    "tags": []
   },
   "outputs": [],
   "source": [
    "def get_train_labels(train_label):\n",
    "    for i,num in enumerate(train_label):\n",
    "        if(num> 4.5):\n",
    "            train_label[i] = 1\n",
    "        else:\n",
    "            train_label[i]= 0\n",
    "            \n",
    "    return train_label"
   ]
  },
  {
   "cell_type": "code",
   "execution_count": 5,
   "metadata": {
    "execution": {
     "iopub.execute_input": "2021-01-22T06:58:54.282301Z",
     "iopub.status.busy": "2021-01-22T06:58:54.281579Z",
     "iopub.status.idle": "2021-01-22T06:58:58.881879Z",
     "shell.execute_reply": "2021-01-22T06:58:58.880602Z"
    },
    "papermill": {
     "duration": 4.62795,
     "end_time": "2021-01-22T06:58:58.882004",
     "exception": false,
     "start_time": "2021-01-22T06:58:54.254054",
     "status": "completed"
    },
    "tags": []
   },
   "outputs": [],
   "source": [
    "with open('../input/stftnewdata/SFFTFinalData.npy', 'rb') as training_data:\n",
    "     X= np.load(training_data)"
   ]
  },
  {
   "cell_type": "code",
   "execution_count": 6,
   "metadata": {
    "execution": {
     "iopub.execute_input": "2021-01-22T06:58:58.939046Z",
     "iopub.status.busy": "2021-01-22T06:58:58.937689Z",
     "iopub.status.idle": "2021-01-22T06:58:58.942205Z",
     "shell.execute_reply": "2021-01-22T06:58:58.942707Z"
    },
    "papermill": {
     "duration": 0.034706,
     "end_time": "2021-01-22T06:58:58.942829",
     "exception": false,
     "start_time": "2021-01-22T06:58:58.908123",
     "status": "completed"
    },
    "tags": []
   },
   "outputs": [
    {
     "data": {
      "text/plain": [
       "(303475, 70)"
      ]
     },
     "execution_count": 6,
     "metadata": {},
     "output_type": "execute_result"
    }
   ],
   "source": [
    "X.shape"
   ]
  },
  {
   "cell_type": "code",
   "execution_count": 7,
   "metadata": {
    "execution": {
     "iopub.execute_input": "2021-01-22T06:58:58.996363Z",
     "iopub.status.busy": "2021-01-22T06:58:58.995798Z",
     "iopub.status.idle": "2021-01-22T06:58:59.065499Z",
     "shell.execute_reply": "2021-01-22T06:58:59.064840Z"
    },
    "papermill": {
     "duration": 0.098041,
     "end_time": "2021-01-22T06:58:59.065601",
     "exception": false,
     "start_time": "2021-01-22T06:58:58.967560",
     "status": "completed"
    },
    "tags": []
   },
   "outputs": [],
   "source": [
    "with open('../input/stftnewdata/SFFTFinalLabels.npy', 'rb') as training_labels:\n",
    "     Y= np.load(training_labels)"
   ]
  },
  {
   "cell_type": "code",
   "execution_count": 8,
   "metadata": {
    "execution": {
     "iopub.execute_input": "2021-01-22T06:58:59.141626Z",
     "iopub.status.busy": "2021-01-22T06:58:59.136464Z",
     "iopub.status.idle": "2021-01-22T06:59:00.870456Z",
     "shell.execute_reply": "2021-01-22T06:59:00.869231Z"
    },
    "papermill": {
     "duration": 1.780079,
     "end_time": "2021-01-22T06:59:00.870571",
     "exception": false,
     "start_time": "2021-01-22T06:58:59.090492",
     "status": "completed"
    },
    "tags": []
   },
   "outputs": [],
   "source": [
    "# cleaning nan\n",
    "del_rows = []\n",
    "for i in range(len(X)):\n",
    "    if(np.isnan(X[i]).sum()>0):\n",
    "        del_rows.append(i)\n",
    "        \n",
    "X = np.delete(X,del_rows,0)\n",
    "Y = np.delete(Y,del_rows,0)"
   ]
  },
  {
   "cell_type": "code",
   "execution_count": 9,
   "metadata": {
    "execution": {
     "iopub.execute_input": "2021-01-22T06:59:00.926886Z",
     "iopub.status.busy": "2021-01-22T06:59:00.926104Z",
     "iopub.status.idle": "2021-01-22T06:59:00.929627Z",
     "shell.execute_reply": "2021-01-22T06:59:00.930107Z"
    },
    "papermill": {
     "duration": 0.03466,
     "end_time": "2021-01-22T06:59:00.930222",
     "exception": false,
     "start_time": "2021-01-22T06:59:00.895562",
     "status": "completed"
    },
    "tags": []
   },
   "outputs": [
    {
     "data": {
      "text/plain": [
       "(302987, 2)"
      ]
     },
     "execution_count": 9,
     "metadata": {},
     "output_type": "execute_result"
    }
   ],
   "source": [
    "Y.shape"
   ]
  },
  {
   "cell_type": "code",
   "execution_count": 10,
   "metadata": {
    "execution": {
     "iopub.execute_input": "2021-01-22T06:59:00.986641Z",
     "iopub.status.busy": "2021-01-22T06:59:00.985699Z",
     "iopub.status.idle": "2021-01-22T06:59:00.990813Z",
     "shell.execute_reply": "2021-01-22T06:59:00.990276Z"
    },
    "papermill": {
     "duration": 0.034809,
     "end_time": "2021-01-22T06:59:00.990934",
     "exception": false,
     "start_time": "2021-01-22T06:59:00.956125",
     "status": "completed"
    },
    "tags": []
   },
   "outputs": [],
   "source": [
    "arousal_labels = np.ravel(Y[:, [0]])\n",
    "valence_labels = np.ravel(Y[:, [1]])"
   ]
  },
  {
   "cell_type": "code",
   "execution_count": 11,
   "metadata": {
    "execution": {
     "iopub.execute_input": "2021-01-22T06:59:01.065097Z",
     "iopub.status.busy": "2021-01-22T06:59:01.059994Z",
     "iopub.status.idle": "2021-01-22T06:59:01.233858Z",
     "shell.execute_reply": "2021-01-22T06:59:01.234303Z"
    },
    "papermill": {
     "duration": 0.218001,
     "end_time": "2021-01-22T06:59:01.234450",
     "exception": false,
     "start_time": "2021-01-22T06:59:01.016449",
     "status": "completed"
    },
    "tags": []
   },
   "outputs": [],
   "source": [
    "arousal_labels=get_train_labels(arousal_labels)"
   ]
  },
  {
   "cell_type": "code",
   "execution_count": 12,
   "metadata": {
    "execution": {
     "iopub.execute_input": "2021-01-22T06:59:01.299257Z",
     "iopub.status.busy": "2021-01-22T06:59:01.294017Z",
     "iopub.status.idle": "2021-01-22T06:59:01.475647Z",
     "shell.execute_reply": "2021-01-22T06:59:01.475150Z"
    },
    "papermill": {
     "duration": 0.214982,
     "end_time": "2021-01-22T06:59:01.475768",
     "exception": false,
     "start_time": "2021-01-22T06:59:01.260786",
     "status": "completed"
    },
    "tags": []
   },
   "outputs": [],
   "source": [
    "valence_labels = get_train_labels(valence_labels)"
   ]
  },
  {
   "cell_type": "code",
   "execution_count": 13,
   "metadata": {
    "execution": {
     "iopub.execute_input": "2021-01-22T06:59:01.533786Z",
     "iopub.status.busy": "2021-01-22T06:59:01.533006Z",
     "iopub.status.idle": "2021-01-22T06:59:01.535598Z",
     "shell.execute_reply": "2021-01-22T06:59:01.536091Z"
    },
    "papermill": {
     "duration": 0.033442,
     "end_time": "2021-01-22T06:59:01.536203",
     "exception": false,
     "start_time": "2021-01-22T06:59:01.502761",
     "status": "completed"
    },
    "tags": []
   },
   "outputs": [],
   "source": [
    "from sklearn.model_selection import train_test_split"
   ]
  },
  {
   "cell_type": "code",
   "execution_count": 14,
   "metadata": {
    "execution": {
     "iopub.execute_input": "2021-01-22T06:59:01.608240Z",
     "iopub.status.busy": "2021-01-22T06:59:01.601492Z",
     "iopub.status.idle": "2021-01-22T06:59:01.610565Z",
     "shell.execute_reply": "2021-01-22T06:59:01.611388Z"
    },
    "id": "JX_dmuAPRAgd",
    "papermill": {
     "duration": 0.049399,
     "end_time": "2021-01-22T06:59:01.611513",
     "exception": false,
     "start_time": "2021-01-22T06:59:01.562114",
     "status": "completed"
    },
    "tags": []
   },
   "outputs": [],
   "source": [
    "class SFTT(nn.Module):\n",
    "\n",
    "    def __init__(self):\n",
    "        super().__init__()\n",
    "        self.network = nn.Sequential(\n",
    "            nn.Conv2d(1,64,kernel_size=3,stride=1,padding=1),\n",
    "            nn.BatchNorm2d(64),\n",
    "            nn.ReLU(),\n",
    "            nn.MaxPool2d(2,2),\n",
    "            nn.Conv2d(64,128,kernel_size=3,stride=1,padding=1),\n",
    "            nn.BatchNorm2d(128),\n",
    "            nn.ReLU(),\n",
    "            nn.MaxPool2d(2,2),\n",
    "\n",
    "            nn.Conv2d(128,256,kernel_size=3,stride=1,padding=1),\n",
    "            nn.BatchNorm2d(256),\n",
    "            nn.ReLU(),\n",
    "            nn.AdaptiveAvgPool2d(1),\n",
    "\n",
    "            nn.Flatten(),\n",
    "            nn.Linear(256,128),\n",
    "            nn.Tanh(),\n",
    "            nn.Linear(128,64),\n",
    "            nn.Tanh(),\n",
    "            nn.Linear(64,1),\n",
    "            nn.Sigmoid()\n",
    "    )\n",
    "\n",
    "    def forward(self,xb):\n",
    "        out = self.network(xb)\n",
    "        return out\n",
    "  \n",
    "    def training_step(self,batch):\n",
    "        features,label = batch\n",
    "#         features.to_device\n",
    "#         label.to_device\n",
    "        out = self(features)\n",
    "        loss = F.binary_cross_entropy(out,label)\n",
    "        return loss\n",
    "\n",
    "    def validation_step(self,batch):\n",
    "        features,label = batch\n",
    "#         features.to_device\n",
    "#         label.to_device\n",
    "        out = self(features)\n",
    "        loss = F.binary_cross_entropy(out,label)\n",
    "        acc = accuracy(out,label)\n",
    "        return {\"val_loss\": loss.detach(),\"val_acc\": acc}\n",
    "\n",
    "    def validation_epoch_end(self,outputs):\n",
    "        batch_loss = [x['val_loss'] for x in outputs]\n",
    "        epoch_loss = torch.stack(batch_loss).mean()\n",
    "        batch_acc = [x['val_acc'] for x in outputs]\n",
    "        epoch_acc = torch.stack(batch_acc).mean()\n",
    "        return {\"val_loss\":epoch_loss.item(),\"val_acc\":epoch_acc.item()}\n",
    "\n",
    "    def epoch_end(self,num_epoch,results):\n",
    "        print(\"num_epoch: {}, train_loss: {:.2f}, val_loss: {:.2f}, val_acc: {:.2f}\".format(num_epoch+1,results['train_loss'],results['val_loss'], results['val_acc']))"
   ]
  },
  {
   "cell_type": "code",
   "execution_count": 15,
   "metadata": {
    "execution": {
     "iopub.execute_input": "2021-01-22T06:59:01.676856Z",
     "iopub.status.busy": "2021-01-22T06:59:01.676064Z",
     "iopub.status.idle": "2021-01-22T06:59:01.679060Z",
     "shell.execute_reply": "2021-01-22T06:59:01.678544Z"
    },
    "id": "2_qpGIGcRrnt",
    "papermill": {
     "duration": 0.040438,
     "end_time": "2021-01-22T06:59:01.679164",
     "exception": false,
     "start_time": "2021-01-22T06:59:01.638726",
     "status": "completed"
    },
    "tags": []
   },
   "outputs": [],
   "source": [
    "def accuracy(out,label):\n",
    "    out = (out>0.5)\n",
    "    pred = (out == label).sum()\n",
    "    return pred/out.shape[0]\n",
    "\n",
    "def evaluate(model,val_loader):\n",
    "    outputs = [model.validation_step(batch) for batch in val_loader]\n",
    "    return model.validation_epoch_end(outputs)\n",
    "\n",
    "def fit(num_epochs,lr,train_loader,val_loader,model,opt_func=torch.optim.Adam):\n",
    "    optimizer = opt_func(model.parameters(),lr)\n",
    "    history = []\n",
    "    for epoch in range(num_epochs):\n",
    "        train_losses = []\n",
    "        for batch in train_loader:\n",
    "            loss = model.training_step(batch)\n",
    "            train_losses.append(loss)\n",
    "            loss.backward()\n",
    "            optimizer.step()\n",
    "            optimizer.zero_grad()\n",
    "\n",
    "        results = evaluate(model,val_loader)\n",
    "        train_loss = torch.stack(train_losses).mean().item()\n",
    "        results['train_loss'] = train_loss\n",
    "        model.epoch_end(epoch,results)\n",
    "        history.append(results)\n",
    "    return history"
   ]
  },
  {
   "cell_type": "code",
   "execution_count": 16,
   "metadata": {
    "execution": {
     "iopub.execute_input": "2021-01-22T06:59:01.753975Z",
     "iopub.status.busy": "2021-01-22T06:59:01.753023Z",
     "iopub.status.idle": "2021-01-22T06:59:01.755259Z",
     "shell.execute_reply": "2021-01-22T06:59:01.755830Z"
    },
    "id": "DkWl66m-WvlI",
    "papermill": {
     "duration": 0.049939,
     "end_time": "2021-01-22T06:59:01.755973",
     "exception": false,
     "start_time": "2021-01-22T06:59:01.706034",
     "status": "completed"
    },
    "tags": []
   },
   "outputs": [],
   "source": [
    "def get_default_device():\n",
    "    \"\"\"Pick GPU if available, else CPU\"\"\"\n",
    "    if torch.cuda.is_available():\n",
    "        return torch.device('cuda')\n",
    "    else:\n",
    "        return torch.device('cpu')\n",
    "    \n",
    "def to_device(data, device):\n",
    "    \"\"\"Move tensor(s) to chosen device\"\"\"\n",
    "    if isinstance(data, (list,tuple)):\n",
    "        return [to_device(x, device) for x in data]\n",
    "    return data.to(device, non_blocking=True)\n",
    "\n",
    "class DeviceDataLoader():\n",
    "    \"\"\"Wrap a dataloader to move data to a device\"\"\"\n",
    "    def __init__(self, dl, device):\n",
    "        self.dl = dl\n",
    "        self.device = device\n",
    "        \n",
    "    def __iter__(self):\n",
    "        \"\"\"Yield a batch of data after moving it to device\"\"\"\n",
    "        for b in self.dl: \n",
    "            yield to_device(b, self.device)\n",
    "\n",
    "    def __len__(self):\n",
    "        \"\"\"Number of batches\"\"\"\n",
    "        return len(self.dl)\n",
    "    \n",
    "def get_plot(history):\n",
    "    final_train_loss=[]\n",
    "    final_val_loss=[]\n",
    "    final_val_acc=[]\n",
    "    \n",
    "    for i in history:\n",
    "        final_train_loss.append(i['train_loss'])\n",
    "        final_val_loss.append(i['val_loss'])\n",
    "        final_val_acc.append(i['val_acc'])\n",
    "        \n",
    "    epochs=len(history)\n",
    "    \n",
    "    fig = plt.figure(figsize=(20,4))\n",
    "    ax = fig.add_subplot(1, 2, 1)\n",
    "    plt.title(\"Epochs vs Loss\", fontsize=15)\n",
    "    plt.plot(list(np.arange(epochs) + 1) , final_train_loss, label='Train')\n",
    "    plt.plot(list(np.arange(epochs) + 1), final_val_loss, label='Validation')\n",
    "    plt.xlabel('Epochs', fontsize=15)\n",
    "    plt.ylabel('Loss', fontsize=15)\n",
    "    plt.legend(loc='best')\n",
    "    \n",
    "    ax = fig.add_subplot(1, 2, 2)\n",
    "    plt.title(\"Epochs vs Accuracy\")\n",
    "    plt.plot(list(np.arange(epochs) + 1) ,final_val_acc)\n",
    "    plt.xlabel('Epochs', fontsize=15)\n",
    "    plt.ylabel('Accuracy', fontsize=15)\n",
    "    plt.legend(loc='best')"
   ]
  },
  {
   "cell_type": "markdown",
   "metadata": {
    "papermill": {
     "duration": 0.0278,
     "end_time": "2021-01-22T06:59:01.811537",
     "exception": false,
     "start_time": "2021-01-22T06:59:01.783737",
     "status": "completed"
    },
    "tags": []
   },
   "source": [
    "# Splitting the Dataset Of Arousal:-"
   ]
  },
  {
   "cell_type": "code",
   "execution_count": 17,
   "metadata": {
    "execution": {
     "iopub.execute_input": "2021-01-22T06:59:01.872038Z",
     "iopub.status.busy": "2021-01-22T06:59:01.871102Z",
     "iopub.status.idle": "2021-01-22T06:59:02.042381Z",
     "shell.execute_reply": "2021-01-22T06:59:02.041524Z"
    },
    "papermill": {
     "duration": 0.203569,
     "end_time": "2021-01-22T06:59:02.042499",
     "exception": false,
     "start_time": "2021-01-22T06:59:01.838930",
     "status": "completed"
    },
    "tags": []
   },
   "outputs": [],
   "source": [
    "x_a_train,x_a_test,y_a_train,y_a_test=train_test_split(X,np.array(arousal_labels), test_size=0.3,random_state=42)\n",
    "x_v_train,x_v_test,y_v_train,y_v_test=train_test_split(X,np.array(valence_labels), test_size=0.3,random_state=42)"
   ]
  },
  {
   "cell_type": "code",
   "execution_count": 18,
   "metadata": {
    "execution": {
     "iopub.execute_input": "2021-01-22T06:59:02.105099Z",
     "iopub.status.busy": "2021-01-22T06:59:02.103984Z",
     "iopub.status.idle": "2021-01-22T06:59:03.046466Z",
     "shell.execute_reply": "2021-01-22T06:59:03.045927Z"
    },
    "papermill": {
     "duration": 0.975724,
     "end_time": "2021-01-22T06:59:03.046587",
     "exception": false,
     "start_time": "2021-01-22T06:59:02.070863",
     "status": "completed"
    },
    "tags": []
   },
   "outputs": [],
   "source": [
    "scaler = StandardScaler()\n",
    "x_a_train = scaler.fit_transform(x_a_train)\n",
    "x_a_test = scaler.fit_transform(x_a_test)\n",
    "\n",
    "x_v_train = scaler.fit_transform(x_v_train)\n",
    "x_v_test = scaler.fit_transform(x_v_test)"
   ]
  },
  {
   "cell_type": "code",
   "execution_count": 19,
   "metadata": {
    "execution": {
     "iopub.execute_input": "2021-01-22T06:59:03.115101Z",
     "iopub.status.busy": "2021-01-22T06:59:03.114366Z",
     "iopub.status.idle": "2021-01-22T06:59:03.244980Z",
     "shell.execute_reply": "2021-01-22T06:59:03.244414Z"
    },
    "papermill": {
     "duration": 0.171296,
     "end_time": "2021-01-22T06:59:03.245090",
     "exception": false,
     "start_time": "2021-01-22T06:59:03.073794",
     "status": "completed"
    },
    "tags": []
   },
   "outputs": [],
   "source": [
    "train_a_tensor = torch.tensor(x_a_train,dtype=torch.float32)\n",
    "train_a_label = torch.tensor(y_a_train,dtype=torch.float32)\n",
    "\n",
    "test_a_tensor =torch.tensor(x_a_test,dtype=torch.float32)\n",
    "test_a_label = torch.tensor(y_a_test,dtype=torch.float32)\n",
    "\n",
    "\n",
    "train_v_tensor = torch.tensor(x_v_train,dtype=torch.float32)\n",
    "train_v_label = torch.tensor(y_v_train,dtype=torch.float32)\n",
    "\n",
    "test_v_tensor =torch.tensor(x_v_test,dtype=torch.float32)\n",
    "test_v_label = torch.tensor(y_v_test,dtype=torch.float32)"
   ]
  },
  {
   "cell_type": "code",
   "execution_count": 20,
   "metadata": {
    "execution": {
     "iopub.execute_input": "2021-01-22T06:59:03.335926Z",
     "iopub.status.busy": "2021-01-22T06:59:03.335179Z",
     "iopub.status.idle": "2021-01-22T06:59:03.342242Z",
     "shell.execute_reply": "2021-01-22T06:59:03.341782Z"
    },
    "papermill": {
     "duration": 0.03829,
     "end_time": "2021-01-22T06:59:03.342335",
     "exception": false,
     "start_time": "2021-01-22T06:59:03.304045",
     "status": "completed"
    },
    "tags": []
   },
   "outputs": [],
   "source": [
    "train_a_label=train_a_label.unsqueeze(1)\n",
    "test_a_label=test_a_label.unsqueeze(1)\n",
    "\n",
    "train_v_label=train_v_label.unsqueeze(1)\n",
    "test_v_label=test_v_label.unsqueeze(1)"
   ]
  },
  {
   "cell_type": "code",
   "execution_count": 21,
   "metadata": {
    "execution": {
     "iopub.execute_input": "2021-01-22T06:59:03.403973Z",
     "iopub.status.busy": "2021-01-22T06:59:03.403286Z",
     "iopub.status.idle": "2021-01-22T06:59:03.407113Z",
     "shell.execute_reply": "2021-01-22T06:59:03.406635Z"
    },
    "papermill": {
     "duration": 0.037855,
     "end_time": "2021-01-22T06:59:03.407214",
     "exception": false,
     "start_time": "2021-01-22T06:59:03.369359",
     "status": "completed"
    },
    "tags": []
   },
   "outputs": [],
   "source": [
    "train_a_tensor=train_a_tensor.reshape(train_a_tensor.shape[0],1,10,7)\n",
    "test_a_tensor=test_a_tensor.reshape(test_a_tensor.shape[0],1,10,7)\n",
    "\n",
    "train_v_tensor=train_v_tensor.reshape(train_v_tensor.shape[0],1,10,7)\n",
    "test_v_tensor=test_v_tensor.reshape(test_v_tensor.shape[0],1,10,7)"
   ]
  },
  {
   "cell_type": "code",
   "execution_count": 22,
   "metadata": {
    "execution": {
     "iopub.execute_input": "2021-01-22T06:59:03.465743Z",
     "iopub.status.busy": "2021-01-22T06:59:03.464863Z",
     "iopub.status.idle": "2021-01-22T06:59:03.469179Z",
     "shell.execute_reply": "2021-01-22T06:59:03.469633Z"
    },
    "papermill": {
     "duration": 0.035714,
     "end_time": "2021-01-22T06:59:03.469765",
     "exception": false,
     "start_time": "2021-01-22T06:59:03.434051",
     "status": "completed"
    },
    "tags": []
   },
   "outputs": [
    {
     "name": "stdout",
     "output_type": "stream",
     "text": [
      "Train Tensor shape torch.Size([212090, 1, 10, 7])\n",
      "Test Tensor shape torch.Size([90897, 1, 10, 7])\n"
     ]
    }
   ],
   "source": [
    "print(\"Train Tensor shape\",train_a_tensor.shape)\n",
    "print(\"Test Tensor shape\",test_a_tensor.shape)"
   ]
  },
  {
   "cell_type": "code",
   "execution_count": 23,
   "metadata": {
    "execution": {
     "iopub.execute_input": "2021-01-22T06:59:03.531622Z",
     "iopub.status.busy": "2021-01-22T06:59:03.530745Z",
     "iopub.status.idle": "2021-01-22T06:59:03.533624Z",
     "shell.execute_reply": "2021-01-22T06:59:03.533152Z"
    },
    "papermill": {
     "duration": 0.036456,
     "end_time": "2021-01-22T06:59:03.533747",
     "exception": false,
     "start_time": "2021-01-22T06:59:03.497291",
     "status": "completed"
    },
    "tags": []
   },
   "outputs": [],
   "source": [
    "train_arousal = TensorDataset(train_a_tensor, train_a_label)\n",
    "test_arousal = TensorDataset(test_a_tensor, test_a_label)\n",
    "\n",
    "train_valence = TensorDataset(train_v_tensor, train_v_label)\n",
    "test_valence =TensorDataset(test_v_tensor, test_v_label)"
   ]
  },
  {
   "cell_type": "code",
   "execution_count": 24,
   "metadata": {
    "execution": {
     "iopub.execute_input": "2021-01-22T06:59:03.595752Z",
     "iopub.status.busy": "2021-01-22T06:59:03.595001Z",
     "iopub.status.idle": "2021-01-22T06:59:03.638796Z",
     "shell.execute_reply": "2021-01-22T06:59:03.638223Z"
    },
    "papermill": {
     "duration": 0.077588,
     "end_time": "2021-01-22T06:59:03.638898",
     "exception": false,
     "start_time": "2021-01-22T06:59:03.561310",
     "status": "completed"
    },
    "tags": []
   },
   "outputs": [],
   "source": [
    "val_size = int(0.2 * len(train_arousal))\n",
    "train_size = len(train_arousal) - val_size\n",
    "\n",
    "train_a_ds,val_a_ds = random_split(train_arousal,[train_size,val_size])\n",
    "\n",
    "train_v_ds,val_v_ds = random_split(train_valence,[train_size,val_size])"
   ]
  },
  {
   "cell_type": "code",
   "execution_count": 25,
   "metadata": {
    "execution": {
     "iopub.execute_input": "2021-01-22T06:59:04.044009Z",
     "iopub.status.busy": "2021-01-22T06:59:04.043221Z",
     "iopub.status.idle": "2021-01-22T06:59:04.051411Z",
     "shell.execute_reply": "2021-01-22T06:59:04.049978Z"
    },
    "id": "fniNBiZdWySs",
    "outputId": "2960d776-baf1-4882-d977-e5cbebcc83c0",
    "papermill": {
     "duration": 0.384729,
     "end_time": "2021-01-22T06:59:04.051539",
     "exception": false,
     "start_time": "2021-01-22T06:59:03.666810",
     "status": "completed"
    },
    "tags": []
   },
   "outputs": [
    {
     "data": {
      "text/plain": [
       "device(type='cuda')"
      ]
     },
     "execution_count": 25,
     "metadata": {},
     "output_type": "execute_result"
    }
   ],
   "source": [
    "device = get_default_device()\n",
    "device"
   ]
  },
  {
   "cell_type": "code",
   "execution_count": 26,
   "metadata": {
    "execution": {
     "iopub.execute_input": "2021-01-22T06:59:04.124295Z",
     "iopub.status.busy": "2021-01-22T06:59:04.122523Z",
     "iopub.status.idle": "2021-01-22T06:59:04.124956Z",
     "shell.execute_reply": "2021-01-22T06:59:04.125425Z"
    },
    "papermill": {
     "duration": 0.043831,
     "end_time": "2021-01-22T06:59:04.125540",
     "exception": false,
     "start_time": "2021-01-22T06:59:04.081709",
     "status": "completed"
    },
    "tags": []
   },
   "outputs": [],
   "source": [
    "batch_size = 32\n",
    "train_arousal_loader =  DataLoader(train_a_ds,batch_size=batch_size,shuffle=True)\n",
    "val_arousal_loader =  DataLoader(val_a_ds,batch_size=batch_size,shuffle=True)\n",
    "test_arousal_loader =  DataLoader(test_arousal,batch_size=batch_size,shuffle=True)\n",
    "\n",
    "batch_size = 32\n",
    "train_valence_loader =  DataLoader(train_v_ds,batch_size=batch_size,shuffle=True)\n",
    "val_valence_loader =  DataLoader(val_v_ds,batch_size=batch_size,shuffle=True)\n",
    "test_valence_loader =  DataLoader(test_valence,batch_size=batch_size,shuffle=True)"
   ]
  },
  {
   "cell_type": "code",
   "execution_count": 27,
   "metadata": {
    "execution": {
     "iopub.execute_input": "2021-01-22T06:59:04.198618Z",
     "iopub.status.busy": "2021-01-22T06:59:04.196799Z",
     "iopub.status.idle": "2021-01-22T06:59:04.199503Z",
     "shell.execute_reply": "2021-01-22T06:59:04.200021Z"
    },
    "papermill": {
     "duration": 0.046074,
     "end_time": "2021-01-22T06:59:04.200146",
     "exception": false,
     "start_time": "2021-01-22T06:59:04.154072",
     "status": "completed"
    },
    "tags": []
   },
   "outputs": [],
   "source": [
    "train_arousal_loader=DeviceDataLoader(train_arousal_loader,device)\n",
    "val_arousal_loader=DeviceDataLoader(val_arousal_loader,device)\n",
    "test_arousal_loader=DeviceDataLoader(test_arousal_loader,device)\n",
    "\n",
    "\n",
    "train_valence_loader = DeviceDataLoader(train_valence_loader,device)\n",
    "val_valence_loader = DeviceDataLoader(val_valence_loader,device)\n",
    "test_valence_loader = DeviceDataLoader(test_valence_loader,device)"
   ]
  },
  {
   "cell_type": "code",
   "execution_count": 28,
   "metadata": {
    "execution": {
     "iopub.execute_input": "2021-01-22T06:59:04.276842Z",
     "iopub.status.busy": "2021-01-22T06:59:04.276107Z",
     "iopub.status.idle": "2021-01-22T06:59:08.689701Z",
     "shell.execute_reply": "2021-01-22T06:59:08.688569Z"
    },
    "id": "sZWMo2LQXGYj",
    "papermill": {
     "duration": 4.461187,
     "end_time": "2021-01-22T06:59:08.689829",
     "exception": false,
     "start_time": "2021-01-22T06:59:04.228642",
     "status": "completed"
    },
    "tags": []
   },
   "outputs": [],
   "source": [
    "arousal_model= SFTT()\n",
    "arousal_model= arousal_model.to(device)"
   ]
  },
  {
   "cell_type": "code",
   "execution_count": 29,
   "metadata": {
    "execution": {
     "iopub.execute_input": "2021-01-22T06:59:08.754142Z",
     "iopub.status.busy": "2021-01-22T06:59:08.753400Z",
     "iopub.status.idle": "2021-01-22T07:05:05.724845Z",
     "shell.execute_reply": "2021-01-22T07:05:05.725396Z"
    },
    "id": "r5HwvdzzXRLw",
    "papermill": {
     "duration": 357.006599,
     "end_time": "2021-01-22T07:05:05.725543",
     "exception": false,
     "start_time": "2021-01-22T06:59:08.718944",
     "status": "completed"
    },
    "tags": []
   },
   "outputs": [
    {
     "name": "stdout",
     "output_type": "stream",
     "text": [
      "num_epoch: 1, train_loss: 0.26, val_loss: 0.18, val_acc: 0.92\n",
      "num_epoch: 2, train_loss: 0.16, val_loss: 0.15, val_acc: 0.93\n",
      "num_epoch: 3, train_loss: 0.12, val_loss: 0.11, val_acc: 0.95\n",
      "num_epoch: 4, train_loss: 0.10, val_loss: 0.10, val_acc: 0.96\n",
      "num_epoch: 5, train_loss: 0.09, val_loss: 0.09, val_acc: 0.96\n",
      "num_epoch: 6, train_loss: 0.07, val_loss: 0.08, val_acc: 0.97\n",
      "num_epoch: 7, train_loss: 0.07, val_loss: 0.07, val_acc: 0.97\n",
      "num_epoch: 8, train_loss: 0.06, val_loss: 0.06, val_acc: 0.98\n",
      "num_epoch: 9, train_loss: 0.05, val_loss: 0.06, val_acc: 0.98\n",
      "num_epoch: 10, train_loss: 0.05, val_loss: 0.06, val_acc: 0.98\n"
     ]
    }
   ],
   "source": [
    "history = fit(10,0.001,train_arousal_loader,val_arousal_loader,arousal_model)"
   ]
  },
  {
   "cell_type": "code",
   "execution_count": 30,
   "metadata": {
    "execution": {
     "iopub.execute_input": "2021-01-22T07:05:05.800529Z",
     "iopub.status.busy": "2021-01-22T07:05:05.799916Z",
     "iopub.status.idle": "2021-01-22T07:05:06.166531Z",
     "shell.execute_reply": "2021-01-22T07:05:06.167167Z"
    },
    "papermill": {
     "duration": 0.406351,
     "end_time": "2021-01-22T07:05:06.167338",
     "exception": false,
     "start_time": "2021-01-22T07:05:05.760987",
     "status": "completed"
    },
    "tags": []
   },
   "outputs": [
    {
     "data": {
      "image/png": "[encoded data removed]",
      "text/plain": [
       "<Figure size 1440x288 with 2 Axes>"
      ]
     },
     "metadata": {
      "needs_background": "light"
     },
     "output_type": "display_data"
    }
   ],
   "source": [
    "get_plot(history)"
   ]
  },
  {
   "cell_type": "code",
   "execution_count": 31,
   "metadata": {
    "execution": {
     "iopub.execute_input": "2021-01-22T07:05:06.253709Z",
     "iopub.status.busy": "2021-01-22T07:05:06.252777Z",
     "iopub.status.idle": "2021-01-22T07:05:12.298030Z",
     "shell.execute_reply": "2021-01-22T07:05:12.297391Z"
    },
    "papermill": {
     "duration": 6.088186,
     "end_time": "2021-01-22T07:05:12.298169",
     "exception": false,
     "start_time": "2021-01-22T07:05:06.209983",
     "status": "completed"
    },
    "tags": []
   },
   "outputs": [
    {
     "data": {
      "text/plain": [
       "{'val_loss': 0.06679920852184296, 'val_acc': 0.9761747717857361}"
      ]
     },
     "execution_count": 31,
     "metadata": {},
     "output_type": "execute_result"
    }
   ],
   "source": [
    "evaluate(arousal_model,test_arousal_loader)"
   ]
  },
  {
   "cell_type": "code",
   "execution_count": 32,
   "metadata": {
    "execution": {
     "iopub.execute_input": "2021-01-22T07:05:12.383376Z",
     "iopub.status.busy": "2021-01-22T07:05:12.381395Z",
     "iopub.status.idle": "2021-01-22T07:05:12.393064Z",
     "shell.execute_reply": "2021-01-22T07:05:12.392563Z"
    },
    "papermill": {
     "duration": 0.055608,
     "end_time": "2021-01-22T07:05:12.393166",
     "exception": false,
     "start_time": "2021-01-22T07:05:12.337558",
     "status": "completed"
    },
    "tags": []
   },
   "outputs": [],
   "source": [
    "valence_model= SFTT()\n",
    "valence_model= valence_model.to(device)"
   ]
  },
  {
   "cell_type": "code",
   "execution_count": 33,
   "metadata": {
    "execution": {
     "iopub.execute_input": "2021-01-22T07:05:12.476707Z",
     "iopub.status.busy": "2021-01-22T07:05:12.475868Z",
     "iopub.status.idle": "2021-01-22T07:11:04.081447Z",
     "shell.execute_reply": "2021-01-22T07:11:04.082251Z"
    },
    "papermill": {
     "duration": 351.651515,
     "end_time": "2021-01-22T07:11:04.082451",
     "exception": false,
     "start_time": "2021-01-22T07:05:12.430936",
     "status": "completed"
    },
    "tags": []
   },
   "outputs": [
    {
     "name": "stdout",
     "output_type": "stream",
     "text": [
      "num_epoch: 1, train_loss: 0.32, val_loss: 0.25, val_acc: 0.89\n",
      "num_epoch: 2, train_loss: 0.21, val_loss: 0.19, val_acc: 0.91\n",
      "num_epoch: 3, train_loss: 0.16, val_loss: 0.16, val_acc: 0.94\n",
      "num_epoch: 4, train_loss: 0.14, val_loss: 0.13, val_acc: 0.94\n",
      "num_epoch: 5, train_loss: 0.12, val_loss: 0.13, val_acc: 0.95\n",
      "num_epoch: 6, train_loss: 0.10, val_loss: 0.11, val_acc: 0.96\n",
      "num_epoch: 7, train_loss: 0.09, val_loss: 0.11, val_acc: 0.96\n",
      "num_epoch: 8, train_loss: 0.08, val_loss: 0.10, val_acc: 0.96\n",
      "num_epoch: 9, train_loss: 0.07, val_loss: 0.10, val_acc: 0.96\n",
      "num_epoch: 10, train_loss: 0.07, val_loss: 0.09, val_acc: 0.97\n"
     ]
    }
   ],
   "source": [
    "history = fit(10,0.001,train_valence_loader,val_valence_loader,valence_model)"
   ]
  },
  {
   "cell_type": "code",
   "execution_count": 34,
   "metadata": {
    "execution": {
     "iopub.execute_input": "2021-01-22T07:11:04.171746Z",
     "iopub.status.busy": "2021-01-22T07:11:04.170768Z",
     "iopub.status.idle": "2021-01-22T07:11:04.515043Z",
     "shell.execute_reply": "2021-01-22T07:11:04.514430Z"
    },
    "papermill": {
     "duration": 0.388731,
     "end_time": "2021-01-22T07:11:04.515167",
     "exception": false,
     "start_time": "2021-01-22T07:11:04.126436",
     "status": "completed"
    },
    "tags": []
   },
   "outputs": [
    {
     "data": {
      "image/png": "[encoded data removed]",
      "text/plain": [
       "<Figure size 1440x288 with 2 Axes>"
      ]
     },
     "metadata": {
      "needs_background": "light"
     },
     "output_type": "display_data"
    }
   ],
   "source": [
    "get_plot(history)"
   ]
  },
  {
   "cell_type": "code",
   "execution_count": 35,
   "metadata": {
    "execution": {
     "iopub.execute_input": "2021-01-22T07:11:04.606057Z",
     "iopub.status.busy": "2021-01-22T07:11:04.605423Z",
     "iopub.status.idle": "2021-01-22T07:11:09.601283Z",
     "shell.execute_reply": "2021-01-22T07:11:09.600768Z"
    },
    "papermill": {
     "duration": 5.040269,
     "end_time": "2021-01-22T07:11:09.601392",
     "exception": false,
     "start_time": "2021-01-22T07:11:04.561123",
     "status": "completed"
    },
    "tags": []
   },
   "outputs": [
    {
     "data": {
      "text/plain": [
       "{'val_loss': 0.0851907953619957, 'val_acc': 0.96840900182724}"
      ]
     },
     "execution_count": 35,
     "metadata": {},
     "output_type": "execute_result"
    }
   ],
   "source": [
    "evaluate(valence_model,test_valence_loader)"
   ]
  }
 ],
 "metadata": {
  "kernelspec": {
   "display_name": "Python 3",
   "language": "python",
   "name": "python3"
  },
  "language_info": {
   "codemirror_mode": {
    "name": "ipython",
    "version": 3
   },
   "file_extension": ".py",
   "mimetype": "text/x-python",
   "name": "python",
   "nbconvert_exporter": "python",
   "pygments_lexer": "ipython3",
   "version": "3.7.6"
  },
  "papermill": {
   "duration": 744.000431,
   "end_time": "2021-01-22T07:11:10.875593",
   "environment_variables": {},
   "exception": null,
   "input_path": "__notebook__.ipynb",
   "output_path": "__notebook__.ipynb",
   "parameters": {},
   "start_time": "2021-01-22T06:58:46.875162",
   "version": "2.1.0"
  }
 },
 "nbformat": 4,
 "nbformat_minor": 4
}
