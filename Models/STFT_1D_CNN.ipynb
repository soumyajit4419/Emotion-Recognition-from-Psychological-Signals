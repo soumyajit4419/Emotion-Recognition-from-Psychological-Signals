{
 "cells": [
  {
   "cell_type": "code",
   "execution_count": 1,
   "metadata": {
    "execution": {
     "iopub.execute_input": "2021-01-22T09:18:27.170713Z",
     "iopub.status.busy": "2021-01-22T09:18:27.169927Z",
     "iopub.status.idle": "2021-01-22T09:18:28.024771Z",
     "shell.execute_reply": "2021-01-22T09:18:28.024127Z"
    },
    "papermill": {
     "duration": 0.880094,
     "end_time": "2021-01-22T09:18:28.024888",
     "exception": false,
     "start_time": "2021-01-22T09:18:27.144794",
     "status": "completed"
    },
    "tags": []
   },
   "outputs": [],
   "source": [
    "import numpy as np\n",
    "import pandas as pd\n",
    "from sklearn.model_selection import train_test_split\n",
    "from sklearn.preprocessing import StandardScaler\n",
    "import matplotlib.pyplot as plt"
   ]
  },
  {
   "cell_type": "code",
   "execution_count": 2,
   "metadata": {
    "execution": {
     "iopub.execute_input": "2021-01-22T09:18:28.067895Z",
     "iopub.status.busy": "2021-01-22T09:18:28.067172Z",
     "iopub.status.idle": "2021-01-22T09:18:29.403650Z",
     "shell.execute_reply": "2021-01-22T09:18:29.403166Z"
    },
    "id": "KX9JebafQwrI",
    "outputId": "78667e30-68cd-46f6-f530-d571aea50efa",
    "papermill": {
     "duration": 1.358819,
     "end_time": "2021-01-22T09:18:29.403765",
     "exception": false,
     "start_time": "2021-01-22T09:18:28.044946",
     "status": "completed"
    },
    "tags": []
   },
   "outputs": [
    {
     "data": {
      "text/plain": [
       "'1.7.0'"
      ]
     },
     "execution_count": 2,
     "metadata": {},
     "output_type": "execute_result"
    }
   ],
   "source": [
    "import torch\n",
    "torch.__version__"
   ]
  },
  {
   "cell_type": "code",
   "execution_count": 3,
   "metadata": {
    "execution": {
     "iopub.execute_input": "2021-01-22T09:18:29.447889Z",
     "iopub.status.busy": "2021-01-22T09:18:29.447170Z",
     "iopub.status.idle": "2021-01-22T09:18:29.573179Z",
     "shell.execute_reply": "2021-01-22T09:18:29.572549Z"
    },
    "id": "mxJjXR3URAea",
    "papermill": {
     "duration": 0.149753,
     "end_time": "2021-01-22T09:18:29.573300",
     "exception": false,
     "start_time": "2021-01-22T09:18:29.423547",
     "status": "completed"
    },
    "tags": []
   },
   "outputs": [],
   "source": [
    "import torch.nn as nn\n",
    "import torch.nn.functional as F\n",
    "from torch.utils.data import DataLoader,TensorDataset,random_split\n",
    "from torchvision.transforms import transforms"
   ]
  },
  {
   "cell_type": "code",
   "execution_count": 4,
   "metadata": {
    "execution": {
     "iopub.execute_input": "2021-01-22T09:18:29.617799Z",
     "iopub.status.busy": "2021-01-22T09:18:29.617209Z",
     "iopub.status.idle": "2021-01-22T09:18:29.621162Z",
     "shell.execute_reply": "2021-01-22T09:18:29.621583Z"
    },
    "papermill": {
     "duration": 0.028576,
     "end_time": "2021-01-22T09:18:29.621700",
     "exception": false,
     "start_time": "2021-01-22T09:18:29.593124",
     "status": "completed"
    },
    "tags": []
   },
   "outputs": [],
   "source": [
    "def get_train_labels(train_label):\n",
    "    for i,num in enumerate(train_label):\n",
    "        if(num> 4.5):\n",
    "            train_label[i] = 1\n",
    "        else:\n",
    "            train_label[i]= 0\n",
    "            \n",
    "    return train_label"
   ]
  },
  {
   "cell_type": "code",
   "execution_count": 5,
   "metadata": {
    "execution": {
     "iopub.execute_input": "2021-01-22T09:18:29.664841Z",
     "iopub.status.busy": "2021-01-22T09:18:29.664330Z",
     "iopub.status.idle": "2021-01-22T09:18:33.458707Z",
     "shell.execute_reply": "2021-01-22T09:18:33.457186Z"
    },
    "papermill": {
     "duration": 3.817118,
     "end_time": "2021-01-22T09:18:33.458824",
     "exception": false,
     "start_time": "2021-01-22T09:18:29.641706",
     "status": "completed"
    },
    "tags": []
   },
   "outputs": [],
   "source": [
    "with open('../input/stftresearch/SFFTFinalData.npy', 'rb') as training_data:\n",
    "     X= np.load(training_data)"
   ]
  },
  {
   "cell_type": "code",
   "execution_count": 6,
   "metadata": {
    "execution": {
     "iopub.execute_input": "2021-01-22T09:18:33.501702Z",
     "iopub.status.busy": "2021-01-22T09:18:33.500888Z",
     "iopub.status.idle": "2021-01-22T09:18:33.544567Z",
     "shell.execute_reply": "2021-01-22T09:18:33.544061Z"
    },
    "papermill": {
     "duration": 0.06635,
     "end_time": "2021-01-22T09:18:33.544669",
     "exception": false,
     "start_time": "2021-01-22T09:18:33.478319",
     "status": "completed"
    },
    "tags": []
   },
   "outputs": [],
   "source": [
    "with open('../input/stftresearch/SFFTFinalLabels.npy', 'rb') as training_labels:\n",
    "     Y= np.load(training_labels)"
   ]
  },
  {
   "cell_type": "code",
   "execution_count": 7,
   "metadata": {
    "execution": {
     "iopub.execute_input": "2021-01-22T09:18:33.647382Z",
     "iopub.status.busy": "2021-01-22T09:18:33.621836Z",
     "iopub.status.idle": "2021-01-22T09:18:35.216377Z",
     "shell.execute_reply": "2021-01-22T09:18:35.217086Z"
    },
    "papermill": {
     "duration": 1.653591,
     "end_time": "2021-01-22T09:18:35.217302",
     "exception": false,
     "start_time": "2021-01-22T09:18:33.563711",
     "status": "completed"
    },
    "tags": []
   },
   "outputs": [],
   "source": [
    "# cleaning nan\n",
    "del_rows = []\n",
    "for i in range(len(X)):\n",
    "    if(np.isnan(X[i]).sum()>0):\n",
    "        del_rows.append(i)\n",
    "        \n",
    "X = np.delete(X,del_rows,0)\n",
    "Y = np.delete(Y,del_rows,0)"
   ]
  },
  {
   "cell_type": "code",
   "execution_count": 8,
   "metadata": {
    "execution": {
     "iopub.execute_input": "2021-01-22T09:18:35.264932Z",
     "iopub.status.busy": "2021-01-22T09:18:35.264274Z",
     "iopub.status.idle": "2021-01-22T09:18:35.267570Z",
     "shell.execute_reply": "2021-01-22T09:18:35.267974Z"
    },
    "papermill": {
     "duration": 0.028181,
     "end_time": "2021-01-22T09:18:35.268095",
     "exception": false,
     "start_time": "2021-01-22T09:18:35.239914",
     "status": "completed"
    },
    "tags": []
   },
   "outputs": [
    {
     "data": {
      "text/plain": [
       "(302987, 70)"
      ]
     },
     "execution_count": 8,
     "metadata": {},
     "output_type": "execute_result"
    }
   ],
   "source": [
    "X.shape"
   ]
  },
  {
   "cell_type": "code",
   "execution_count": 9,
   "metadata": {
    "execution": {
     "iopub.execute_input": "2021-01-22T09:18:35.312037Z",
     "iopub.status.busy": "2021-01-22T09:18:35.311415Z",
     "iopub.status.idle": "2021-01-22T09:18:35.314836Z",
     "shell.execute_reply": "2021-01-22T09:18:35.315268Z"
    },
    "papermill": {
     "duration": 0.02799,
     "end_time": "2021-01-22T09:18:35.315370",
     "exception": false,
     "start_time": "2021-01-22T09:18:35.287380",
     "status": "completed"
    },
    "tags": []
   },
   "outputs": [
    {
     "data": {
      "text/plain": [
       "(302987, 2)"
      ]
     },
     "execution_count": 9,
     "metadata": {},
     "output_type": "execute_result"
    }
   ],
   "source": [
    "Y.shape"
   ]
  },
  {
   "cell_type": "code",
   "execution_count": 10,
   "metadata": {
    "execution": {
     "iopub.execute_input": "2021-01-22T09:18:35.359493Z",
     "iopub.status.busy": "2021-01-22T09:18:35.358587Z",
     "iopub.status.idle": "2021-01-22T09:18:35.363624Z",
     "shell.execute_reply": "2021-01-22T09:18:35.363201Z"
    },
    "papermill": {
     "duration": 0.028665,
     "end_time": "2021-01-22T09:18:35.363707",
     "exception": false,
     "start_time": "2021-01-22T09:18:35.335042",
     "status": "completed"
    },
    "tags": []
   },
   "outputs": [],
   "source": [
    "arousal_labels = np.ravel(Y[:, [0]])\n",
    "valence_labels = np.ravel(Y[:, [1]])"
   ]
  },
  {
   "cell_type": "code",
   "execution_count": 11,
   "metadata": {
    "execution": {
     "iopub.execute_input": "2021-01-22T09:18:35.425777Z",
     "iopub.status.busy": "2021-01-22T09:18:35.420644Z",
     "iopub.status.idle": "2021-01-22T09:18:35.717612Z",
     "shell.execute_reply": "2021-01-22T09:18:35.717180Z"
    },
    "papermill": {
     "duration": 0.334342,
     "end_time": "2021-01-22T09:18:35.717701",
     "exception": false,
     "start_time": "2021-01-22T09:18:35.383359",
     "status": "completed"
    },
    "tags": []
   },
   "outputs": [],
   "source": [
    "arousal_labels = get_train_labels(arousal_labels) \n",
    "valence_labels = get_train_labels(valence_labels)"
   ]
  },
  {
   "cell_type": "code",
   "execution_count": 12,
   "metadata": {
    "execution": {
     "iopub.execute_input": "2021-01-22T09:18:35.776504Z",
     "iopub.status.busy": "2021-01-22T09:18:35.775247Z",
     "iopub.status.idle": "2021-01-22T09:18:35.777955Z",
     "shell.execute_reply": "2021-01-22T09:18:35.778409Z"
    },
    "id": "JX_dmuAPRAgd",
    "papermill": {
     "duration": 0.04056,
     "end_time": "2021-01-22T09:18:35.778513",
     "exception": false,
     "start_time": "2021-01-22T09:18:35.737953",
     "status": "completed"
    },
    "tags": []
   },
   "outputs": [],
   "source": [
    "class SFTT(nn.Module):\n",
    "\n",
    "    def __init__(self):\n",
    "        super().__init__()\n",
    "        self.network = nn.Sequential(\n",
    "            nn.Conv1d(1,64,kernel_size=3,stride=1,padding=1),\n",
    "            nn.BatchNorm1d(64),\n",
    "            nn.ReLU(),\n",
    "            nn.MaxPool1d(2,2),\n",
    "            nn.Conv1d(64,128,kernel_size=3,stride=1,padding=1),\n",
    "            nn.BatchNorm1d(128),\n",
    "            nn.ReLU(),\n",
    "            nn.MaxPool1d(2,2),\n",
    "\n",
    "            nn.Conv1d(128,256,kernel_size=3,stride=1,padding=1),\n",
    "            nn.BatchNorm1d(256),\n",
    "            nn.ReLU(),\n",
    "            nn.MaxPool1d(2,2),\n",
    "            nn.AdaptiveAvgPool1d(1),\n",
    "\n",
    "            nn.Flatten(),\n",
    "            nn.Linear(256,128),\n",
    "            nn.Tanh(),\n",
    "            nn.Linear(128,64),\n",
    "            nn.Tanh(),\n",
    "            nn.Linear(64,1),\n",
    "            nn.Sigmoid()\n",
    "    )\n",
    "\n",
    "    def forward(self,xb):\n",
    "        out = self.network(xb)\n",
    "        return out\n",
    "  \n",
    "    def training_step(self,batch):\n",
    "        features,label = batch\n",
    "        out = self(features)\n",
    "        loss = F.binary_cross_entropy(out,label)\n",
    "        return loss\n",
    "\n",
    "    def validation_step(self,batch):\n",
    "        features,label = batch\n",
    "        out = self(features)\n",
    "        loss = F.binary_cross_entropy(out,label)\n",
    "        acc = accuracy(out,label)\n",
    "        return {\"val_loss\": loss.detach(),\"val_acc\": acc}\n",
    "\n",
    "    def validation_epoch_end(self,outputs):\n",
    "        batch_loss = [x['val_loss'] for x in outputs]\n",
    "        epoch_loss = torch.stack(batch_loss).mean()\n",
    "        batch_acc = [x['val_acc'] for x in outputs]\n",
    "        epoch_acc = torch.stack(batch_acc).mean()\n",
    "        return {\"val_loss\":epoch_loss.item(),\"val_acc\":epoch_acc.item()}\n",
    "\n",
    "    def epoch_end(self,num_epoch,results):\n",
    "        print(\"num_epoch: {}, train_loss: {:.2f}, val_loss: {:.2f}, val_acc: {:.2f}\".format(num_epoch+1,results['train_loss'],results['val_loss'], results['val_acc']))"
   ]
  },
  {
   "cell_type": "code",
   "execution_count": 13,
   "metadata": {
    "execution": {
     "iopub.execute_input": "2021-01-22T09:18:35.829817Z",
     "iopub.status.busy": "2021-01-22T09:18:35.828691Z",
     "iopub.status.idle": "2021-01-22T09:18:35.831177Z",
     "shell.execute_reply": "2021-01-22T09:18:35.831584Z"
    },
    "id": "2_qpGIGcRrnt",
    "papermill": {
     "duration": 0.032797,
     "end_time": "2021-01-22T09:18:35.831686",
     "exception": false,
     "start_time": "2021-01-22T09:18:35.798889",
     "status": "completed"
    },
    "tags": []
   },
   "outputs": [],
   "source": [
    "def accuracy(out,label):\n",
    "    out = (out>0.5)\n",
    "    pred = (out == label).sum()\n",
    "    return pred/out.shape[0]\n",
    "\n",
    "def evaluate(model,val_loader):\n",
    "    outputs = [model.validation_step(batch) for batch in val_loader]\n",
    "    return model.validation_epoch_end(outputs)\n",
    "\n",
    "def fit(num_epochs,lr,train_loader,val_loader,model,opt_func=torch.optim.Adam):\n",
    "    optimizer = opt_func(model.parameters(),lr)\n",
    "    history = []\n",
    "    for epoch in range(num_epochs):\n",
    "        train_losses = []\n",
    "        for batch in train_loader:\n",
    "            loss = model.training_step(batch)\n",
    "            train_losses.append(loss)\n",
    "            loss.backward()\n",
    "            optimizer.step()\n",
    "            optimizer.zero_grad()\n",
    "\n",
    "        results = evaluate(model,val_loader)\n",
    "        train_loss = torch.stack(train_losses).mean().item()\n",
    "        results['train_loss'] = train_loss\n",
    "        model.epoch_end(epoch,results)\n",
    "        history.append(results)\n",
    "    return history"
   ]
  },
  {
   "cell_type": "code",
   "execution_count": 14,
   "metadata": {
    "execution": {
     "iopub.execute_input": "2021-01-22T09:18:35.887931Z",
     "iopub.status.busy": "2021-01-22T09:18:35.884582Z",
     "iopub.status.idle": "2021-01-22T09:18:35.890156Z",
     "shell.execute_reply": "2021-01-22T09:18:35.890708Z"
    },
    "id": "DkWl66m-WvlI",
    "papermill": {
     "duration": 0.038974,
     "end_time": "2021-01-22T09:18:35.890809",
     "exception": false,
     "start_time": "2021-01-22T09:18:35.851835",
     "status": "completed"
    },
    "tags": []
   },
   "outputs": [],
   "source": [
    "def get_default_device():\n",
    "    \"\"\"Pick GPU if available, else CPU\"\"\"\n",
    "    if torch.cuda.is_available():\n",
    "        return torch.device('cuda')\n",
    "    else:\n",
    "        return torch.device('cpu')\n",
    "    \n",
    "def to_device(data, device):\n",
    "    \"\"\"Move tensor(s) to chosen device\"\"\"\n",
    "    if isinstance(data, (list,tuple)):\n",
    "        return [to_device(x, device) for x in data]\n",
    "    return data.to(device, non_blocking=True)\n",
    "\n",
    "class DeviceDataLoader():\n",
    "    \"\"\"Wrap a dataloader to move data to a device\"\"\"\n",
    "    def __init__(self, dl, device):\n",
    "        self.dl = dl\n",
    "        self.device = device\n",
    "        \n",
    "    def __iter__(self):\n",
    "        \"\"\"Yield a batch of data after moving it to device\"\"\"\n",
    "        for b in self.dl: \n",
    "            yield to_device(b, self.device)\n",
    "\n",
    "    def __len__(self):\n",
    "        \"\"\"Number of batches\"\"\"\n",
    "        return len(self.dl)\n",
    "    \n",
    "def get_plot(history):\n",
    "    final_train_loss=[]\n",
    "    final_val_loss=[]\n",
    "    final_val_acc=[]\n",
    "    \n",
    "    for i in history:\n",
    "        final_train_loss.append(i['train_loss'])\n",
    "        final_val_loss.append(i['val_loss'])\n",
    "        final_val_acc.append(i['val_acc'])\n",
    "        \n",
    "    epochs=len(history)\n",
    "    \n",
    "    fig = plt.figure(figsize=(20,4))\n",
    "    ax = fig.add_subplot(1, 2, 1)\n",
    "    plt.title(\"Epochs vs Loss\", fontsize=15)\n",
    "    plt.plot(list(np.arange(epochs) + 1) , final_train_loss, label='Train')\n",
    "    plt.plot(list(np.arange(epochs) + 1), final_val_loss, label='Validation')\n",
    "    plt.xlabel('Epochs', fontsize=15)\n",
    "    plt.ylabel('Loss', fontsize=15)\n",
    "    plt.legend(loc='best')\n",
    "    \n",
    "    ax = fig.add_subplot(1, 2, 2)\n",
    "    plt.title(\"Epochs vs Accuracy\")\n",
    "    plt.plot(list(np.arange(epochs) + 1) ,final_val_acc)\n",
    "    plt.xlabel('Epochs', fontsize=15)\n",
    "    plt.ylabel('Accuracy', fontsize=15)\n",
    "    plt.legend(loc='best')"
   ]
  },
  {
   "cell_type": "markdown",
   "metadata": {
    "papermill": {
     "duration": 0.020176,
     "end_time": "2021-01-22T09:18:35.933009",
     "exception": false,
     "start_time": "2021-01-22T09:18:35.912833",
     "status": "completed"
    },
    "tags": []
   },
   "source": [
    "# Splitting the Dataset and Training"
   ]
  },
  {
   "cell_type": "code",
   "execution_count": 15,
   "metadata": {
    "execution": {
     "iopub.execute_input": "2021-01-22T09:18:35.978757Z",
     "iopub.status.busy": "2021-01-22T09:18:35.977899Z",
     "iopub.status.idle": "2021-01-22T09:18:36.141018Z",
     "shell.execute_reply": "2021-01-22T09:18:36.140559Z"
    },
    "papermill": {
     "duration": 0.187771,
     "end_time": "2021-01-22T09:18:36.141120",
     "exception": false,
     "start_time": "2021-01-22T09:18:35.953349",
     "status": "completed"
    },
    "tags": []
   },
   "outputs": [],
   "source": [
    "x_a_train,x_a_test,y_a_train,y_a_test=train_test_split(X,np.array(arousal_labels), test_size=0.3,random_state=42)\n",
    "x_v_train,x_v_test,y_v_train,y_v_test=train_test_split(X,np.array(valence_labels), test_size=0.3,random_state=42)"
   ]
  },
  {
   "cell_type": "code",
   "execution_count": 16,
   "metadata": {
    "execution": {
     "iopub.execute_input": "2021-01-22T09:18:36.188840Z",
     "iopub.status.busy": "2021-01-22T09:18:36.187922Z",
     "iopub.status.idle": "2021-01-22T09:18:37.112218Z",
     "shell.execute_reply": "2021-01-22T09:18:37.111204Z"
    },
    "papermill": {
     "duration": 0.95051,
     "end_time": "2021-01-22T09:18:37.112355",
     "exception": false,
     "start_time": "2021-01-22T09:18:36.161845",
     "status": "completed"
    },
    "tags": []
   },
   "outputs": [],
   "source": [
    "scaler = StandardScaler()\n",
    "x_a_train = scaler.fit_transform(x_a_train)\n",
    "x_a_test = scaler.fit_transform(x_a_test)\n",
    "\n",
    "x_v_train = scaler.fit_transform(x_v_train)\n",
    "x_v_test = scaler.fit_transform(x_v_test)"
   ]
  },
  {
   "cell_type": "code",
   "execution_count": 17,
   "metadata": {
    "execution": {
     "iopub.execute_input": "2021-01-22T09:18:37.168298Z",
     "iopub.status.busy": "2021-01-22T09:18:37.167688Z",
     "iopub.status.idle": "2021-01-22T09:18:37.294528Z",
     "shell.execute_reply": "2021-01-22T09:18:37.294023Z"
    },
    "papermill": {
     "duration": 0.161322,
     "end_time": "2021-01-22T09:18:37.294630",
     "exception": false,
     "start_time": "2021-01-22T09:18:37.133308",
     "status": "completed"
    },
    "tags": []
   },
   "outputs": [],
   "source": [
    "train_a_tensor = torch.tensor(x_a_train,dtype=torch.float32)\n",
    "train_a_label = torch.tensor(y_a_train,dtype=torch.float32)\n",
    "\n",
    "test_a_tensor =torch.tensor(x_a_test,dtype=torch.float32)\n",
    "test_a_label = torch.tensor(y_a_test,dtype=torch.float32)\n",
    "\n",
    "\n",
    "train_v_tensor = torch.tensor(x_v_train,dtype=torch.float32)\n",
    "train_v_label = torch.tensor(y_v_train,dtype=torch.float32)\n",
    "\n",
    "test_v_tensor =torch.tensor(x_v_test,dtype=torch.float32)\n",
    "test_v_label = torch.tensor(y_v_test,dtype=torch.float32)"
   ]
  },
  {
   "cell_type": "code",
   "execution_count": 18,
   "metadata": {
    "execution": {
     "iopub.execute_input": "2021-01-22T09:18:37.340688Z",
     "iopub.status.busy": "2021-01-22T09:18:37.340121Z",
     "iopub.status.idle": "2021-01-22T09:18:37.346743Z",
     "shell.execute_reply": "2021-01-22T09:18:37.346144Z"
    },
    "papermill": {
     "duration": 0.031243,
     "end_time": "2021-01-22T09:18:37.346841",
     "exception": false,
     "start_time": "2021-01-22T09:18:37.315598",
     "status": "completed"
    },
    "tags": []
   },
   "outputs": [],
   "source": [
    "train_a_label=train_a_label.unsqueeze(1)\n",
    "test_a_label=test_a_label.unsqueeze(1)\n",
    "\n",
    "train_v_label=train_v_label.unsqueeze(1)\n",
    "test_v_label=test_v_label.unsqueeze(1)"
   ]
  },
  {
   "cell_type": "code",
   "execution_count": 19,
   "metadata": {
    "execution": {
     "iopub.execute_input": "2021-01-22T09:18:37.395492Z",
     "iopub.status.busy": "2021-01-22T09:18:37.394873Z",
     "iopub.status.idle": "2021-01-22T09:18:37.398002Z",
     "shell.execute_reply": "2021-01-22T09:18:37.397491Z"
    },
    "papermill": {
     "duration": 0.03032,
     "end_time": "2021-01-22T09:18:37.398081",
     "exception": false,
     "start_time": "2021-01-22T09:18:37.367761",
     "status": "completed"
    },
    "tags": []
   },
   "outputs": [],
   "source": [
    "train_a_tensor=train_a_tensor.reshape(train_a_tensor.shape[0],1,70)\n",
    "test_a_tensor=test_a_tensor.reshape(test_a_tensor.shape[0],1,70)\n",
    "\n",
    "train_v_tensor=train_v_tensor.reshape(train_v_tensor.shape[0],1,70)\n",
    "test_v_tensor=test_v_tensor.reshape(test_v_tensor.shape[0],1,70)"
   ]
  },
  {
   "cell_type": "code",
   "execution_count": 20,
   "metadata": {
    "execution": {
     "iopub.execute_input": "2021-01-22T09:18:37.475940Z",
     "iopub.status.busy": "2021-01-22T09:18:37.475228Z",
     "iopub.status.idle": "2021-01-22T09:18:37.479809Z",
     "shell.execute_reply": "2021-01-22T09:18:37.480440Z"
    },
    "papermill": {
     "duration": 0.030419,
     "end_time": "2021-01-22T09:18:37.480572",
     "exception": false,
     "start_time": "2021-01-22T09:18:37.450153",
     "status": "completed"
    },
    "tags": []
   },
   "outputs": [
    {
     "name": "stdout",
     "output_type": "stream",
     "text": [
      "Train Tensor shape torch.Size([212090, 1, 70])\n",
      "Test Tensor shape torch.Size([90897, 1, 70])\n"
     ]
    }
   ],
   "source": [
    "print(\"Train Tensor shape\",train_a_tensor.shape)\n",
    "print(\"Test Tensor shape\",test_a_tensor.shape)"
   ]
  },
  {
   "cell_type": "code",
   "execution_count": 21,
   "metadata": {
    "execution": {
     "iopub.execute_input": "2021-01-22T09:18:37.530616Z",
     "iopub.status.busy": "2021-01-22T09:18:37.529939Z",
     "iopub.status.idle": "2021-01-22T09:18:37.532873Z",
     "shell.execute_reply": "2021-01-22T09:18:37.532478Z"
    },
    "papermill": {
     "duration": 0.030148,
     "end_time": "2021-01-22T09:18:37.532954",
     "exception": false,
     "start_time": "2021-01-22T09:18:37.502806",
     "status": "completed"
    },
    "tags": []
   },
   "outputs": [],
   "source": [
    "train_arousal = TensorDataset(train_a_tensor, train_a_label)\n",
    "test_arousal = TensorDataset(test_a_tensor, test_a_label)\n",
    "\n",
    "train_valence = TensorDataset(train_v_tensor, train_v_label)\n",
    "test_valence =TensorDataset(test_v_tensor, test_v_label)"
   ]
  },
  {
   "cell_type": "code",
   "execution_count": 22,
   "metadata": {
    "execution": {
     "iopub.execute_input": "2021-01-22T09:18:37.582668Z",
     "iopub.status.busy": "2021-01-22T09:18:37.582002Z",
     "iopub.status.idle": "2021-01-22T09:18:37.618827Z",
     "shell.execute_reply": "2021-01-22T09:18:37.618399Z"
    },
    "papermill": {
     "duration": 0.064589,
     "end_time": "2021-01-22T09:18:37.618919",
     "exception": false,
     "start_time": "2021-01-22T09:18:37.554330",
     "status": "completed"
    },
    "tags": []
   },
   "outputs": [],
   "source": [
    "val_size = int(0.2 * len(train_arousal))\n",
    "train_size = len(train_arousal) - val_size\n",
    "\n",
    "train_a_ds,val_a_ds = random_split(train_arousal,[train_size,val_size])\n",
    "\n",
    "train_v_ds,val_v_ds = random_split(train_valence,[train_size,val_size])"
   ]
  },
  {
   "cell_type": "code",
   "execution_count": 23,
   "metadata": {
    "execution": {
     "iopub.execute_input": "2021-01-22T09:18:38.002992Z",
     "iopub.status.busy": "2021-01-22T09:18:38.000673Z",
     "iopub.status.idle": "2021-01-22T09:18:38.008457Z",
     "shell.execute_reply": "2021-01-22T09:18:38.007939Z"
    },
    "id": "fniNBiZdWySs",
    "outputId": "2960d776-baf1-4882-d977-e5cbebcc83c0",
    "papermill": {
     "duration": 0.367639,
     "end_time": "2021-01-22T09:18:38.008564",
     "exception": false,
     "start_time": "2021-01-22T09:18:37.640925",
     "status": "completed"
    },
    "tags": []
   },
   "outputs": [
    {
     "data": {
      "text/plain": [
       "device(type='cuda')"
      ]
     },
     "execution_count": 23,
     "metadata": {},
     "output_type": "execute_result"
    }
   ],
   "source": [
    "device = get_default_device()\n",
    "device"
   ]
  },
  {
   "cell_type": "code",
   "execution_count": 24,
   "metadata": {
    "execution": {
     "iopub.execute_input": "2021-01-22T09:18:38.060432Z",
     "iopub.status.busy": "2021-01-22T09:18:38.059690Z",
     "iopub.status.idle": "2021-01-22T09:18:38.062028Z",
     "shell.execute_reply": "2021-01-22T09:18:38.062569Z"
    },
    "papermill": {
     "duration": 0.031161,
     "end_time": "2021-01-22T09:18:38.062668",
     "exception": false,
     "start_time": "2021-01-22T09:18:38.031507",
     "status": "completed"
    },
    "tags": []
   },
   "outputs": [],
   "source": [
    "batch_size = 32\n",
    "train_arousal_loader =  DataLoader(train_a_ds,batch_size=batch_size,shuffle=True)\n",
    "val_arousal_loader =  DataLoader(val_a_ds,batch_size=batch_size,shuffle=True)\n",
    "test_arousal_loader =  DataLoader(test_arousal,batch_size=batch_size,shuffle=True)\n",
    "\n",
    "batch_size = 32\n",
    "train_valence_loader =  DataLoader(train_v_ds,batch_size=batch_size,shuffle=True)\n",
    "val_valence_loader =  DataLoader(val_v_ds,batch_size=batch_size,shuffle=True)\n",
    "test_valence_loader =  DataLoader(test_valence,batch_size=batch_size,shuffle=True)"
   ]
  },
  {
   "cell_type": "code",
   "execution_count": 25,
   "metadata": {
    "execution": {
     "iopub.execute_input": "2021-01-22T09:18:38.111899Z",
     "iopub.status.busy": "2021-01-22T09:18:38.111239Z",
     "iopub.status.idle": "2021-01-22T09:18:38.113929Z",
     "shell.execute_reply": "2021-01-22T09:18:38.114338Z"
    },
    "papermill": {
     "duration": 0.029467,
     "end_time": "2021-01-22T09:18:38.114445",
     "exception": false,
     "start_time": "2021-01-22T09:18:38.084978",
     "status": "completed"
    },
    "tags": []
   },
   "outputs": [],
   "source": [
    "train_arousal_loader=DeviceDataLoader(train_arousal_loader,device)\n",
    "val_arousal_loader=DeviceDataLoader(val_arousal_loader,device)\n",
    "test_arousal_loader=DeviceDataLoader(test_arousal_loader,device)\n",
    "\n",
    "\n",
    "train_valence_loader = DeviceDataLoader(train_valence_loader,device)\n",
    "val_valence_loader = DeviceDataLoader(val_valence_loader,device)\n",
    "test_valence_loader = DeviceDataLoader(test_valence_loader,device)"
   ]
  },
  {
   "cell_type": "code",
   "execution_count": 26,
   "metadata": {
    "execution": {
     "iopub.execute_input": "2021-01-22T09:18:38.173342Z",
     "iopub.status.busy": "2021-01-22T09:18:38.166433Z",
     "iopub.status.idle": "2021-01-22T09:18:42.160392Z",
     "shell.execute_reply": "2021-01-22T09:18:42.159582Z"
    },
    "id": "sZWMo2LQXGYj",
    "papermill": {
     "duration": 4.023465,
     "end_time": "2021-01-22T09:18:42.160514",
     "exception": false,
     "start_time": "2021-01-22T09:18:38.137049",
     "status": "completed"
    },
    "tags": []
   },
   "outputs": [],
   "source": [
    "arousal_model= SFTT()\n",
    "arousal_model= arousal_model.to(device)"
   ]
  },
  {
   "cell_type": "code",
   "execution_count": 27,
   "metadata": {
    "execution": {
     "iopub.execute_input": "2021-01-22T09:18:42.212964Z",
     "iopub.status.busy": "2021-01-22T09:18:42.212408Z",
     "iopub.status.idle": "2021-01-22T09:24:12.760677Z",
     "shell.execute_reply": "2021-01-22T09:24:12.761222Z"
    },
    "id": "r5HwvdzzXRLw",
    "papermill": {
     "duration": 330.577282,
     "end_time": "2021-01-22T09:24:12.761423",
     "exception": false,
     "start_time": "2021-01-22T09:18:42.184141",
     "status": "completed"
    },
    "tags": []
   },
   "outputs": [
    {
     "name": "stdout",
     "output_type": "stream",
     "text": [
      "num_epoch: 1, train_loss: 0.34, val_loss: 0.30, val_acc: 0.87\n",
      "num_epoch: 2, train_loss: 0.23, val_loss: 0.20, val_acc: 0.91\n",
      "num_epoch: 3, train_loss: 0.20, val_loss: 0.20, val_acc: 0.91\n",
      "num_epoch: 4, train_loss: 0.17, val_loss: 0.16, val_acc: 0.93\n",
      "num_epoch: 5, train_loss: 0.15, val_loss: 0.14, val_acc: 0.94\n",
      "num_epoch: 6, train_loss: 0.13, val_loss: 0.13, val_acc: 0.95\n",
      "num_epoch: 7, train_loss: 0.12, val_loss: 0.12, val_acc: 0.95\n",
      "num_epoch: 8, train_loss: 0.11, val_loss: 0.14, val_acc: 0.95\n",
      "num_epoch: 9, train_loss: 0.10, val_loss: 0.12, val_acc: 0.95\n",
      "num_epoch: 10, train_loss: 0.09, val_loss: 0.10, val_acc: 0.96\n"
     ]
    }
   ],
   "source": [
    "history = fit(10,0.001,train_arousal_loader,val_arousal_loader,arousal_model)"
   ]
  },
  {
   "cell_type": "code",
   "execution_count": 28,
   "metadata": {
    "execution": {
     "iopub.execute_input": "2021-01-22T09:24:12.816211Z",
     "iopub.status.busy": "2021-01-22T09:24:12.815629Z",
     "iopub.status.idle": "2021-01-22T09:24:13.105708Z",
     "shell.execute_reply": "2021-01-22T09:24:13.106223Z"
    },
    "papermill": {
     "duration": 0.319609,
     "end_time": "2021-01-22T09:24:13.106383",
     "exception": false,
     "start_time": "2021-01-22T09:24:12.786774",
     "status": "completed"
    },
    "tags": []
   },
   "outputs": [
    {
     "data": {
      "image/png": "[encoded data removed]",
      "text/plain": [
       "<Figure size 1440x288 with 2 Axes>"
      ]
     },
     "metadata": {
      "needs_background": "light"
     },
     "output_type": "display_data"
    }
   ],
   "source": [
    "get_plot(history)"
   ]
  },
  {
   "cell_type": "code",
   "execution_count": 29,
   "metadata": {
    "execution": {
     "iopub.execute_input": "2021-01-22T09:24:13.236318Z",
     "iopub.status.busy": "2021-01-22T09:24:13.235363Z",
     "iopub.status.idle": "2021-01-22T09:24:18.317551Z",
     "shell.execute_reply": "2021-01-22T09:24:18.316963Z"
    },
    "papermill": {
     "duration": 5.160136,
     "end_time": "2021-01-22T09:24:18.317683",
     "exception": false,
     "start_time": "2021-01-22T09:24:13.157547",
     "status": "completed"
    },
    "tags": []
   },
   "outputs": [
    {
     "data": {
      "text/plain": [
       "{'val_loss': 0.09810669720172882, 'val_acc': 0.9606102705001831}"
      ]
     },
     "execution_count": 29,
     "metadata": {},
     "output_type": "execute_result"
    }
   ],
   "source": [
    "evaluate(arousal_model,test_arousal_loader)"
   ]
  },
  {
   "cell_type": "code",
   "execution_count": 30,
   "metadata": {
    "execution": {
     "iopub.execute_input": "2021-01-22T09:24:18.377799Z",
     "iopub.status.busy": "2021-01-22T09:24:18.377009Z",
     "iopub.status.idle": "2021-01-22T09:24:18.384639Z",
     "shell.execute_reply": "2021-01-22T09:24:18.384151Z"
    },
    "papermill": {
     "duration": 0.039359,
     "end_time": "2021-01-22T09:24:18.384721",
     "exception": false,
     "start_time": "2021-01-22T09:24:18.345362",
     "status": "completed"
    },
    "tags": []
   },
   "outputs": [],
   "source": [
    "valence_model= SFTT()\n",
    "valence_model= valence_model.to(device)"
   ]
  },
  {
   "cell_type": "code",
   "execution_count": 31,
   "metadata": {
    "execution": {
     "iopub.execute_input": "2021-01-22T09:24:18.443725Z",
     "iopub.status.busy": "2021-01-22T09:24:18.442993Z",
     "iopub.status.idle": "2021-01-22T09:29:49.133029Z",
     "shell.execute_reply": "2021-01-22T09:29:49.133678Z"
    },
    "papermill": {
     "duration": 330.722093,
     "end_time": "2021-01-22T09:29:49.133918",
     "exception": false,
     "start_time": "2021-01-22T09:24:18.411825",
     "status": "completed"
    },
    "tags": []
   },
   "outputs": [
    {
     "name": "stdout",
     "output_type": "stream",
     "text": [
      "num_epoch: 1, train_loss: 0.43, val_loss: 0.36, val_acc: 0.84\n",
      "num_epoch: 2, train_loss: 0.31, val_loss: 0.29, val_acc: 0.87\n",
      "num_epoch: 3, train_loss: 0.27, val_loss: 0.27, val_acc: 0.88\n",
      "num_epoch: 4, train_loss: 0.24, val_loss: 0.24, val_acc: 0.89\n",
      "num_epoch: 5, train_loss: 0.21, val_loss: 0.24, val_acc: 0.89\n",
      "num_epoch: 6, train_loss: 0.19, val_loss: 0.20, val_acc: 0.91\n",
      "num_epoch: 7, train_loss: 0.17, val_loss: 0.19, val_acc: 0.92\n",
      "num_epoch: 8, train_loss: 0.16, val_loss: 0.16, val_acc: 0.93\n",
      "num_epoch: 9, train_loss: 0.15, val_loss: 0.14, val_acc: 0.94\n",
      "num_epoch: 10, train_loss: 0.13, val_loss: 0.14, val_acc: 0.94\n"
     ]
    }
   ],
   "source": [
    "history = fit(10,0.001,train_valence_loader,val_valence_loader,valence_model)"
   ]
  },
  {
   "cell_type": "code",
   "execution_count": 32,
   "metadata": {
    "execution": {
     "iopub.execute_input": "2021-01-22T09:29:49.204246Z",
     "iopub.status.busy": "2021-01-22T09:29:49.203329Z",
     "iopub.status.idle": "2021-01-22T09:29:49.462929Z",
     "shell.execute_reply": "2021-01-22T09:29:49.462425Z"
    },
    "papermill": {
     "duration": 0.296486,
     "end_time": "2021-01-22T09:29:49.463038",
     "exception": false,
     "start_time": "2021-01-22T09:29:49.166552",
     "status": "completed"
    },
    "tags": []
   },
   "outputs": [
    {
     "data": {
      "image/png": "[encoded data removed]",
      "text/plain": [
       "<Figure size 1440x288 with 2 Axes>"
      ]
     },
     "metadata": {
      "needs_background": "light"
     },
     "output_type": "display_data"
    }
   ],
   "source": [
    "get_plot(history)"
   ]
  },
  {
   "cell_type": "code",
   "execution_count": 33,
   "metadata": {
    "execution": {
     "iopub.execute_input": "2021-01-22T09:29:49.534476Z",
     "iopub.status.busy": "2021-01-22T09:29:49.533584Z",
     "iopub.status.idle": "2021-01-22T09:29:54.694961Z",
     "shell.execute_reply": "2021-01-22T09:29:54.696594Z"
    },
    "papermill": {
     "duration": 5.19905,
     "end_time": "2021-01-22T09:29:54.696796",
     "exception": false,
     "start_time": "2021-01-22T09:29:49.497746",
     "status": "completed"
    },
    "tags": []
   },
   "outputs": [
    {
     "data": {
      "text/plain": [
       "{'val_loss': 0.14668592810630798, 'val_acc': 0.940581202507019}"
      ]
     },
     "execution_count": 33,
     "metadata": {},
     "output_type": "execute_result"
    }
   ],
   "source": [
    "evaluate(valence_model,test_valence_loader)"
   ]
  }
 ],
 "metadata": {
  "kernelspec": {
   "display_name": "Python 3",
   "language": "python",
   "name": "python3"
  },
  "language_info": {
   "codemirror_mode": {
    "name": "ipython",
    "version": 3
   },
   "file_extension": ".py",
   "mimetype": "text/x-python",
   "name": "python",
   "nbconvert_exporter": "python",
   "pygments_lexer": "ipython3",
   "version": "3.7.6"
  },
  "papermill": {
   "duration": 692.649859,
   "end_time": "2021-01-22T09:29:55.147656",
   "environment_variables": {},
   "exception": null,
   "input_path": "__notebook__.ipynb",
   "output_path": "__notebook__.ipynb",
   "parameters": {},
   "start_time": "2021-01-22T09:18:22.497797",
   "version": "2.1.0"
  }
 },
 "nbformat": 4,
 "nbformat_minor": 4
}
