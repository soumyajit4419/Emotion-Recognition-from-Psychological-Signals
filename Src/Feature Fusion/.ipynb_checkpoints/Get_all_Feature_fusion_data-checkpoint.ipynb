{
 "cells": [
  {
   "cell_type": "code",
   "execution_count": 1,
   "metadata": {},
   "outputs": [],
   "source": [
    "import pandas as pd \n",
    "import numpy as np \n",
    "import pywt\n",
    "import os\n",
    "import pickle\n",
    "import re \n",
    "import sys"
   ]
  },
  {
   "cell_type": "code",
   "execution_count": 2,
   "metadata": {},
   "outputs": [],
   "source": [
    "sys.path.append('.')\n",
    "sys.path.append('..')\n",
    "sys.path.append('../..')"
   ]
  },
  {
   "cell_type": "code",
   "execution_count": 3,
   "metadata": {},
   "outputs": [],
   "source": [
    "from Fourier import fourier_feature_fusion as eff"
   ]
  },
  {
   "cell_type": "code",
   "execution_count": 4,
   "metadata": {},
   "outputs": [],
   "source": [
    "from Wavelet import wavelet_feature_fusion as wff "
   ]
  },
  {
   "cell_type": "code",
   "execution_count": 5,
   "metadata": {},
   "outputs": [],
   "source": [
    "user_no=2\n",
    "user_folder='../../../../User2/'\n",
    "last_index_even=21 # For even user numbers\n",
    "last_index_odd=20  # For odd user numbers\n",
    "increment=2        # Number for the increment of the user numbers"
   ]
  },
  {
   "cell_type": "code",
   "execution_count": 6,
   "metadata": {},
   "outputs": [],
   "source": [
    "def get_full_features(user_folder):\n",
    "\n",
    "    user_csv = os.listdir(user_folder)\n",
    "    user_csv = user_csv[1:]\n",
    "\n",
    "    user_all_feature = []\n",
    "    power_spec=[]\n",
    "    for csv in user_csv:\n",
    "        df = pd.read_csv(user_folder + csv)\n",
    "        cols = df.columns\n",
    "        cols = cols[:14]\n",
    "        features_fourier = [eff.power_spectrum(df[col]) for col in cols]\n",
    "        features_wavelet = [wff.wavelet_energy(df[col]) for col in cols]\n",
    "        features_fourier = np.array(features_fourier).ravel()\n",
    "        features_wavelet = np.array(features_wavelet).ravel()\n",
    "        user_all_feature.append(np.concatenate((features_fourier,features_wavelet),axis=0).ravel())\n",
    "\n",
    "    user_data = np.array(user_all_feature, dtype='O')\n",
    "    print(user_data.shape)\n",
    "    return user_data"
   ]
  },
  {
   "cell_type": "code",
   "execution_count": 7,
   "metadata": {},
   "outputs": [],
   "source": [
    "def getfulldata(usr_no,usr_folder,last,increment):\n",
    "    \n",
    "    # Parameters :- User Number, Folder location you want to store the Data to, Last user number upto which you want to iterate,\n",
    "    \n",
    "    # Increment number: Number for the increment of the user numbers\n",
    "    \n",
    "    \n",
    "    for i in range(usr_no,last+1,increment):\n",
    "        \n",
    "        user_data=get_full_features(usr_folder[:-2] + str(i) +'/')        \n",
    "        \n",
    "        file_name = \"../../Dataset/Feature_Fusion/\" + \"User\" + str(i) + 'features.pkl'\n",
    "    \n",
    "        pickle.dump(user_data,open(file_name, \"wb\"))"
   ]
  },
  {
   "cell_type": "code",
   "execution_count": 8,
   "metadata": {},
   "outputs": [
    {
     "name": "stdout",
     "output_type": "stream",
     "text": [
      "(20, 140)\n",
      "(20, 140)\n",
      "(20, 140)\n",
      "(16, 140)\n",
      "(20, 140)\n",
      "(20, 140)\n",
      "(20, 140)\n",
      "(20, 140)\n",
      "(20, 140)\n",
      "(20, 140)\n"
     ]
    }
   ],
   "source": [
    "getfulldata(user_no,user_folder,last_index_even,increment)"
   ]
  }
 ],
 "metadata": {
  "kernelspec": {
   "display_name": "Python 3",
   "language": "python",
   "name": "python3"
  },
  "language_info": {
   "codemirror_mode": {
    "name": "ipython",
    "version": 3
   },
   "file_extension": ".py",
   "mimetype": "text/x-python",
   "name": "python",
   "nbconvert_exporter": "python",
   "pygments_lexer": "ipython3",
   "version": "3.7.6"
  }
 },
 "nbformat": 4,
 "nbformat_minor": 4
}
