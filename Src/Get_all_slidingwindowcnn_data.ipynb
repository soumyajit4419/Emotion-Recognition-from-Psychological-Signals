{
 "cells": [
  {
   "cell_type": "code",
   "execution_count": 1,
   "metadata": {},
   "outputs": [],
   "source": [
    "# pip install git+https://github.com/forrestbao/pyeeg.git"
   ]
  },
  {
   "cell_type": "code",
   "execution_count": 2,
   "metadata": {},
   "outputs": [],
   "source": [
    "import numpy as np\n",
    "import pyeeg as pe\n",
    "import pickle as pickle\n",
    "import pandas as pd\n",
    "import math\n",
    "\n",
    "from sklearn import svm\n",
    "from sklearn.preprocessing import normalize\n",
    "\n",
    "import os\n",
    "import time"
   ]
  },
  {
   "cell_type": "code",
   "execution_count": 3,
   "metadata": {},
   "outputs": [],
   "source": [
    "destination_folder = \"SlidingWindowCNNData\""
   ]
  },
  {
   "cell_type": "code",
   "execution_count": 4,
   "metadata": {},
   "outputs": [],
   "source": [
    "bands = [4,8,13,16,30,45] \n",
    "window_size = 1024  \n",
    "step_size = 32  \n",
    "sample_rate = 128 \n",
    "User_nums = ['2','4','6']"
   ]
  },
  {
   "cell_type": "code",
   "execution_count": 5,
   "metadata": {},
   "outputs": [],
   "source": [
    "def sliding_window_fft(user_no, bands, window_size, step_size, sample_rate):\n",
    "    \n",
    "    all_features=[]\n",
    "    \n",
    "    \n",
    "    user_folder='../../User'+ str(user_no) + '/'\n",
    "    \n",
    "    user_csv= os.listdir(user_folder)\n",
    "    \n",
    "    user_csv = user_csv[1:]\n",
    "    \n",
    "    user_labels_folder = '../../User'+ str(user_no) + '/' + 'Label/'\n",
    "    \n",
    "    user_labels=os.listdir(user_labels_folder)\n",
    "    \n",
    "    all_data=[]\n",
    "    all_labels=[]\n",
    "    \n",
    "    for csv in user_csv:\n",
    "        all_data.append(csv)\n",
    "    \n",
    "    for lab in user_labels:\n",
    "        all_labels.append(lab)\n",
    "     \n",
    "    \n",
    "    \n",
    "    for i in range(0,len(all_data)):\n",
    "        \n",
    "        data = pd.read_csv(user_folder + all_data[i])\n",
    "        cols = data.columns\n",
    "        cols = cols[:14]\n",
    "        labels=pd.read_csv(user_labels_folder + all_labels[i])\n",
    "        labels=labels.values[0][:2]\n",
    "        \n",
    "        \n",
    "        start = 0;\n",
    "        \n",
    "        while start + window_size < data.shape[0]:\n",
    "            \n",
    "            temp_array = []\n",
    "            temp_data = [] \n",
    "            \n",
    "            for i in cols:\n",
    "                \n",
    "                X = data[i][start : start + window_size] \n",
    "                \n",
    "                Y = pe.bin_power(X, bands, sample_rate)\n",
    "                \n",
    "                temp_data = temp_data + list(Y[0])\n",
    "                \n",
    "            temp_array.append(np.array(temp_data))\n",
    "            temp_array.append(labels)\n",
    "            \n",
    "            all_features.append(np.array(temp_array))    \n",
    "            start = start + step_size\n",
    "            \n",
    "    all_features = np.array(all_features)\n",
    "    \n",
    "    \n",
    "    \n",
    "    np.save('EEGCNNData' + str(user_no),all_features, allow_pickle=True, fix_imports=True)\n",
    "    \n",
    "#     file_name = \"../../\" + destination_folder + \"/User\" + str(user_no) + '/user_features.pkl'\n",
    "#     pickle.dump(all_features,open(file_name, \"wb\"))"
   ]
  },
  {
   "cell_type": "code",
   "execution_count": 6,
   "metadata": {},
   "outputs": [],
   "source": [
    "# for i in User_nums:\n",
    "sliding_window_fft(4, bands, window_size, step_size, sample_rate)"
   ]
  },
  {
   "cell_type": "code",
   "execution_count": 7,
   "metadata": {},
   "outputs": [],
   "source": [
    "x_train = []\n",
    "y_train = []\n",
    "x_test = []\n",
    "y_test = []"
   ]
  },
  {
   "cell_type": "code",
   "execution_count": 8,
   "metadata": {},
   "outputs": [],
   "source": [
    " with open('EEGCNNData4.npy', 'rb') as file:\n",
    "        \n",
    "        array = np.load(file,allow_pickle=True)\n",
    "        \n",
    "        for i in range (0,array.shape[0]):\n",
    "            if i % 7 == 0:\n",
    "                x_test.append(array[i][0])\n",
    "                y_test.append(array[i][1])\n",
    "            else:\n",
    "                x_train.append(array[i][0])\n",
    "                y_train.append(array[i][1])"
   ]
  },
  {
   "cell_type": "code",
   "execution_count": 9,
   "metadata": {},
   "outputs": [
    {
     "data": {
      "text/plain": [
       "(21000, 70)"
      ]
     },
     "execution_count": 9,
     "metadata": {},
     "output_type": "execute_result"
    }
   ],
   "source": [
    "np.array(x_train).shape"
   ]
  },
  {
   "cell_type": "code",
   "execution_count": 10,
   "metadata": {},
   "outputs": [
    {
     "data": {
      "text/plain": [
       "(21000, 2)"
      ]
     },
     "execution_count": 10,
     "metadata": {},
     "output_type": "execute_result"
    }
   ],
   "source": [
    "np.array(y_train).shape"
   ]
  },
  {
   "cell_type": "code",
   "execution_count": 11,
   "metadata": {},
   "outputs": [
    {
     "data": {
      "text/plain": [
       "(3501, 70)"
      ]
     },
     "execution_count": 11,
     "metadata": {},
     "output_type": "execute_result"
    }
   ],
   "source": [
    "np.array(x_test).shape"
   ]
  },
  {
   "cell_type": "code",
   "execution_count": 12,
   "metadata": {},
   "outputs": [
    {
     "data": {
      "text/plain": [
       "(3501, 2)"
      ]
     },
     "execution_count": 12,
     "metadata": {},
     "output_type": "execute_result"
    }
   ],
   "source": [
    "np.array(y_test).shape"
   ]
  }
 ],
 "metadata": {
  "kernelspec": {
   "display_name": "Python 3",
   "language": "python",
   "name": "python3"
  },
  "language_info": {
   "codemirror_mode": {
    "name": "ipython",
    "version": 3
   },
   "file_extension": ".py",
   "mimetype": "text/x-python",
   "name": "python",
   "nbconvert_exporter": "python",
   "pygments_lexer": "ipython3",
   "version": "3.7.6"
  }
 },
 "nbformat": 4,
 "nbformat_minor": 4
}
