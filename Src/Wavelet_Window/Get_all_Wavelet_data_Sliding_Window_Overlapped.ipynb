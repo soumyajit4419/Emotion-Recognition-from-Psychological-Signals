{
 "cells": [
  {
   "cell_type": "code",
   "execution_count": 1,
   "metadata": {},
   "outputs": [],
   "source": [
    "import pandas as pd \n",
    "import numpy as np \n",
    "import os\n",
    "import pickle\n",
    "import re \n",
    "import sys"
   ]
  },
  {
   "cell_type": "code",
   "execution_count": 2,
   "metadata": {},
   "outputs": [],
   "source": [
    "sys.path.append('.')\n",
    "sys.path.append('..')\n",
    "sys.path.append('../..')"
   ]
  },
  {
   "cell_type": "code",
   "execution_count": 3,
   "metadata": {},
   "outputs": [],
   "source": [
    "from Wavelet import wavelet_feature_fusion as wff "
   ]
  },
  {
   "cell_type": "code",
   "execution_count": 4,
   "metadata": {},
   "outputs": [],
   "source": [
    "user_no=2\n",
    "user_folder='../../../../User2/'\n",
    "last_index_even=21 # For even user numbers\n",
    "last_index_odd=20  # For odd user numbers\n",
    "increment=2        # Number for the increment of the user numbers"
   ]
  },
  {
   "cell_type": "code",
   "execution_count": 5,
   "metadata": {},
   "outputs": [],
   "source": [
    "window_size = 512\n",
    "step_size = 32"
   ]
  },
  {
   "cell_type": "code",
   "execution_count": 6,
   "metadata": {},
   "outputs": [],
   "source": [
    "def get_full_features(user_no, window_size,step_size):\n",
    "    \n",
    "    final_features=[]\n",
    "    \n",
    "    user_folder='../../../../User'+ str(user_no) + '/'\n",
    "    \n",
    "    user_csv= os.listdir(user_folder)\n",
    "    \n",
    "    user_csv = user_csv[1:]\n",
    "    \n",
    "    user_labels_folder = user_folder + 'Label/'\n",
    "    \n",
    "    user_labels=os.listdir(user_labels_folder)\n",
    "    \n",
    "    all_data=[]\n",
    "    all_labels=[]\n",
    "    \n",
    "    for csv in user_csv:\n",
    "        all_data.append(csv)\n",
    "    \n",
    "    for lab in user_labels:\n",
    "        all_labels.append(lab)\n",
    "        \n",
    "    for i in range(0,len(all_data)):\n",
    "        \n",
    "        data = pd.read_csv(user_folder + all_data[i])\n",
    "        cols = data.columns\n",
    "        cols = cols[:14]\n",
    "        labels=pd.read_csv(user_labels_folder + all_labels[i])\n",
    "        labels=labels.values[0][:4]\n",
    "        \n",
    "        start = 0;\n",
    "        while start + window_size < data.shape[0]:\n",
    "            \n",
    "            temp_array = []\n",
    "            temp_data = [] \n",
    "            \n",
    "            for i in cols:\n",
    "                X = data[i][start : start + window_size]\n",
    "                features_wavelet = wff.wavelet_energy(X)\n",
    "                features_wavelet = np.array(features_wavelet).ravel()\n",
    "                temp_data.append(features_wavelet)\n",
    "                  \n",
    "            temp_array.append(np.array(temp_data).ravel())\n",
    "            \n",
    "            temp_array.append(labels)\n",
    "            \n",
    "            final_features.append(temp_array) \n",
    "            start = start + step_size\n",
    "                \n",
    "    final_features = np.array(final_features)\n",
    "    print(final_features.shape)\n",
    "\n",
    "    np.save('../../Dataset/WaveletData_Overlapped/'+'Wavelet_overlap' + str(user_no),final_features, allow_pickle=True, fix_imports=True)\n",
    "    \n",
    "    print('User:' + str(user_no)+ \" \"+\"Done\")"
   ]
  },
  {
   "cell_type": "code",
   "execution_count": 7,
   "metadata": {},
   "outputs": [
    {
     "name": "stdout",
     "output_type": "stream",
     "text": [
      "(24821, 2)\n",
      "User:2 Done\n",
      "(24821, 2)\n",
      "User:4 Done\n",
      "(24821, 2)\n",
      "User:6 Done\n",
      "(5623, 2)\n",
      "User:8 Done\n",
      "(24821, 2)\n",
      "User:10 Done\n",
      "(24821, 2)\n",
      "User:12 Done\n",
      "(24821, 2)\n",
      "User:14 Done\n",
      "(24821, 2)\n",
      "User:16 Done\n",
      "(24821, 2)\n",
      "User:18 Done\n",
      "(24821, 2)\n",
      "User:20 Done\n"
     ]
    }
   ],
   "source": [
    "for i in range(user_no,last_index_even,2):\n",
    "    get_full_features(i,window_size,step_size)"
   ]
  }
 ],
 "metadata": {
  "kernelspec": {
   "display_name": "Python 3",
   "language": "python",
   "name": "python3"
  },
  "language_info": {
   "codemirror_mode": {
    "name": "ipython",
    "version": 3
   },
   "file_extension": ".py",
   "mimetype": "text/x-python",
   "name": "python",
   "nbconvert_exporter": "python",
   "pygments_lexer": "ipython3",
   "version": "3.7.6"
  }
 },
 "nbformat": 4,
 "nbformat_minor": 4
}
