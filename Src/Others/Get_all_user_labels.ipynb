{
 "cells": [
  {
   "cell_type": "code",
   "execution_count": 1,
   "metadata": {},
   "outputs": [],
   "source": [
    "import pandas as pd \n",
    "import numpy as np \n",
    "import os\n",
    "import pickle\n",
    "import re "
   ]
  },
  {
   "cell_type": "code",
   "execution_count": null,
   "metadata": {},
   "outputs": [],
   "source": [
    "user_no=2\n",
    "user_folder='../../User2/'\n",
    "last_index_even=41 # For even user numbers\n",
    "last_index_odd=40  # For odd user numbers\n",
    "increment=2"
   ]
  },
  {
   "cell_type": "code",
   "execution_count": 4,
   "metadata": {},
   "outputs": [],
   "source": [
    "def get_features(user_folder):\n",
    "    \n",
    "    user_label = os.listdir(user_folder+'Label')\n",
    "    user_csv = user_csv[1:]\n",
    "    \n",
    "    user_all_labels = []\n",
    "    for i in user_label:\n",
    "        df = pd.read_csv(user_folder+'Label/'+i)\n",
    "        user_all_labels.append(df.values[0])\n",
    "    \n",
    "    user_all_labels = np.array(user_all_labels)\n",
    "    \n",
    "    return user_all_labels"
   ]
  },
  {
   "cell_type": "markdown",
   "metadata": {},
   "source": [
    "#### Function for getting all the labels of all users:- "
   ]
  },
  {
   "cell_type": "code",
   "execution_count": 3,
   "metadata": {},
   "outputs": [],
   "source": [
    "def getfulllabels(usr_no,user_folder,last,increment):\n",
    "    \n",
    "    for i in range(usr_no,last+1,increment):\n",
    "        \n",
    "        user_labels=get_features(usr_folder[:-2] + str(i) +'/')\n",
    "        \n",
    "        \n",
    "        try:\n",
    "            os.mkdir('./UserLabels')\n",
    "            print(\"Folder Created\")\n",
    "        except:\n",
    "            print(\"Folder Exists\")\n",
    "        \n",
    "    \n",
    "        try:\n",
    "            os.mkdir('./UserLabels/User' + str(i))\n",
    "            print(\"Folder Created\")\n",
    "        except:\n",
    "            print(\"Folder Exists\")\n",
    "        \n",
    "    \n",
    "        file_name = 'UserLabels/User' + str(i) +'/'+\"user_labels.pkl\"\n",
    "    \n",
    "        pickle.dump(user_labels,open(file_name, \"wb\"))\n",
    "        \n",
    "        i=i+increment"
   ]
  },
  {
   "cell_type": "code",
   "execution_count": null,
   "metadata": {},
   "outputs": [],
   "source": [
    "getfulllabels(user_no,user_folder,last_index_even,increment)"
   ]
  }
 ],
 "metadata": {
  "kernelspec": {
   "display_name": "Python 3",
   "language": "python",
   "name": "python3"
  },
  "language_info": {
   "codemirror_mode": {
    "name": "ipython",
    "version": 3
   },
   "file_extension": ".py",
   "mimetype": "text/x-python",
   "name": "python",
   "nbconvert_exporter": "python",
   "pygments_lexer": "ipython3",
   "version": "3.7.6"
  }
 },
 "nbformat": 4,
 "nbformat_minor": 4
}
