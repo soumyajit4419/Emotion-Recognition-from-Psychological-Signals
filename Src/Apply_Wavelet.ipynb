{
 "cells": [
  {
   "cell_type": "code",
   "execution_count": 1,
   "metadata": {},
   "outputs": [],
   "source": [
    "import pandas as pd \n",
    "import numpy as np \n",
    "import pywt\n",
    "import wavletTransform as wt\n",
    "import os\n",
    "import pickle\n",
    "import re "
   ]
  },
  {
   "cell_type": "code",
   "execution_count": 2,
   "metadata": {},
   "outputs": [],
   "source": [
    "user_folder = '../User1/'\n",
    "user_no = 1"
   ]
  },
  {
   "cell_type": "markdown",
   "metadata": {},
   "source": [
    "Getting Feaures of each user (Using Wavelet Transfromation) and saving then in a file"
   ]
  },
  {
   "cell_type": "code",
   "execution_count": 3,
   "metadata": {},
   "outputs": [],
   "source": [
    "user_csv = os.listdir(user_folder)\n",
    "user_csv = user_csv[1:]"
   ]
  },
  {
   "cell_type": "code",
   "execution_count": 4,
   "metadata": {},
   "outputs": [],
   "source": [
    "user_all_feature = []\n",
    "for csv in user_csv:\n",
    "    df = pd.read_csv(user_folder + csv)\n",
    "    col = df.columns\n",
    "    features = wt.applyWavelet(df,col)\n",
    "    user_all_feature.append(features)"
   ]
  },
  {
   "cell_type": "code",
   "execution_count": 5,
   "metadata": {},
   "outputs": [],
   "source": [
    "user_data = np.array(user_all_feature,dtype='O')"
   ]
  },
  {
   "cell_type": "markdown",
   "metadata": {},
   "source": [
    "Getting Labels of each user and saving then in a file"
   ]
  },
  {
   "cell_type": "code",
   "execution_count": 6,
   "metadata": {},
   "outputs": [],
   "source": [
    "user_label = os.listdir(user_folder+'Label')"
   ]
  },
  {
   "cell_type": "code",
   "execution_count": 7,
   "metadata": {},
   "outputs": [],
   "source": [
    "user_all_labels = []\n",
    "for i in user_label:\n",
    "    df = pd.read_csv(user_folder+'Label/'+i)\n",
    "    user_all_labels.append(df.values[0])"
   ]
  },
  {
   "cell_type": "code",
   "execution_count": 8,
   "metadata": {},
   "outputs": [],
   "source": [
    "user_all_labels = np.array(user_all_labels)"
   ]
  },
  {
   "cell_type": "code",
   "execution_count": 9,
   "metadata": {},
   "outputs": [
    {
     "name": "stdout",
     "output_type": "stream",
     "text": [
      "Folder Exists\n",
      "Folder Exists\n"
     ]
    }
   ],
   "source": [
    "try:\n",
    "    os.mkdir('./WaveletData')\n",
    "    print(\"Folder Created\")\n",
    "except:\n",
    "    print(\"Folder Exists\")\n",
    "    \n",
    "try:\n",
    "    os.mkdir('./WaveletData/User' + str(user_no))\n",
    "    print(\"Folder Created\")\n",
    "except:\n",
    "    print(\"Folder Exists\")"
   ]
  },
  {
   "cell_type": "code",
   "execution_count": 10,
   "metadata": {},
   "outputs": [
    {
     "name": "stdout",
     "output_type": "stream",
     "text": [
      "Folder Created\n",
      "Folder Created\n"
     ]
    }
   ],
   "source": [
    "try:\n",
    "    os.mkdir('./UserLabels')\n",
    "    print(\"Folder Created\")\n",
    "except:\n",
    "    print(\"Folder Exists\")\n",
    "    \n",
    "try:\n",
    "    os.mkdir('./UserLabels/User' + str(user_no))\n",
    "    print(\"Folder Created\")\n",
    "except:\n",
    "    print(\"Folder Exists\")"
   ]
  },
  {
   "cell_type": "code",
   "execution_count": 11,
   "metadata": {},
   "outputs": [],
   "source": [
    "file_name = 'WaveletData/User' + str(user_no) +'/'+\"user_features.pkl\""
   ]
  },
  {
   "cell_type": "code",
   "execution_count": 12,
   "metadata": {},
   "outputs": [],
   "source": [
    "pickle.dump(user_data,open(file_name, \"wb\"))"
   ]
  },
  {
   "cell_type": "code",
   "execution_count": 13,
   "metadata": {},
   "outputs": [],
   "source": [
    "file_name = 'UserLabels/User' + str(user_no) +'/'+\"user_labels.pkl\""
   ]
  },
  {
   "cell_type": "code",
   "execution_count": 14,
   "metadata": {},
   "outputs": [],
   "source": [
    "pickle.dump(user_all_labels,open(file_name, \"wb\"))"
   ]
  }
 ],
 "metadata": {
  "kernelspec": {
   "display_name": "Python 3",
   "language": "python",
   "name": "python3"
  },
  "language_info": {
   "codemirror_mode": {
    "name": "ipython",
    "version": 3
   },
   "file_extension": ".py",
   "mimetype": "text/x-python",
   "name": "python",
   "nbconvert_exporter": "python",
   "pygments_lexer": "ipython3",
   "version": "3.7.4"
  }
 },
 "nbformat": 4,
 "nbformat_minor": 2
}
